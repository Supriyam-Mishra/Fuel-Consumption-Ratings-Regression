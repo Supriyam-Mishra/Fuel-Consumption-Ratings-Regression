{
 "cells": [
  {
   "cell_type": "code",
   "execution_count": 2,
   "id": "9ada2f27",
   "metadata": {},
   "outputs": [],
   "source": [
    "import pandas as pd\n",
    "import numpy as np\n",
    "import matplotlib.pyplot as plt\n",
    "import seaborn as sns\n",
    "%matplotlib inline\n"
   ]
  },
  {
   "cell_type": "code",
   "execution_count": 3,
   "id": "a0f8eb10",
   "metadata": {},
   "outputs": [],
   "source": [
    "df=pd.read_csv(r\"C:\\Users\\supri\\Downloads\\MY2022 Fuel Consumption Ratings.csv\")"
   ]
  },
  {
   "cell_type": "code",
   "execution_count": 4,
   "id": "9511059d",
   "metadata": {},
   "outputs": [
    {
     "data": {
      "text/html": [
       "<div>\n",
       "<style scoped>\n",
       "    .dataframe tbody tr th:only-of-type {\n",
       "        vertical-align: middle;\n",
       "    }\n",
       "\n",
       "    .dataframe tbody tr th {\n",
       "        vertical-align: top;\n",
       "    }\n",
       "\n",
       "    .dataframe thead th {\n",
       "        text-align: right;\n",
       "    }\n",
       "</style>\n",
       "<table border=\"1\" class=\"dataframe\">\n",
       "  <thead>\n",
       "    <tr style=\"text-align: right;\">\n",
       "      <th></th>\n",
       "      <th>Model Year</th>\n",
       "      <th>Make</th>\n",
       "      <th>Model</th>\n",
       "      <th>Vehicle Class</th>\n",
       "      <th>Engine Size(L)</th>\n",
       "      <th>Cylinders</th>\n",
       "      <th>Transmission</th>\n",
       "      <th>Fuel Type</th>\n",
       "      <th>Fuel Consumption (City (L/100 km)</th>\n",
       "      <th>Fuel Consumption(Hwy (L/100 km))</th>\n",
       "      <th>Fuel Consumption(Comb (L/100 km))</th>\n",
       "      <th>Fuel Consumption(Comb (mpg))</th>\n",
       "      <th>CO2 Emissions(g/km)</th>\n",
       "      <th>CO2 Rating</th>\n",
       "      <th>Smog Rating</th>\n",
       "    </tr>\n",
       "  </thead>\n",
       "  <tbody>\n",
       "    <tr>\n",
       "      <th>0</th>\n",
       "      <td>2022</td>\n",
       "      <td>Acura</td>\n",
       "      <td>ILX</td>\n",
       "      <td>Compact</td>\n",
       "      <td>2.4</td>\n",
       "      <td>4</td>\n",
       "      <td>AM8</td>\n",
       "      <td>Z</td>\n",
       "      <td>NaN</td>\n",
       "      <td>7.0</td>\n",
       "      <td>8.6</td>\n",
       "      <td>33.0</td>\n",
       "      <td>200.0</td>\n",
       "      <td>6.0</td>\n",
       "      <td>3.0</td>\n",
       "    </tr>\n",
       "    <tr>\n",
       "      <th>1</th>\n",
       "      <td>2022</td>\n",
       "      <td>Acura</td>\n",
       "      <td>MDX SH-AWD</td>\n",
       "      <td>SUV: Small</td>\n",
       "      <td>3.5</td>\n",
       "      <td>6</td>\n",
       "      <td>AS10</td>\n",
       "      <td>Z</td>\n",
       "      <td>12.6</td>\n",
       "      <td>9.4</td>\n",
       "      <td>11.2</td>\n",
       "      <td>25.0</td>\n",
       "      <td>263.0</td>\n",
       "      <td>4.0</td>\n",
       "      <td>5.0</td>\n",
       "    </tr>\n",
       "    <tr>\n",
       "      <th>2</th>\n",
       "      <td>2022</td>\n",
       "      <td>Acura</td>\n",
       "      <td>RDX SH-AWD</td>\n",
       "      <td>SUV: Small</td>\n",
       "      <td>2.0</td>\n",
       "      <td>4</td>\n",
       "      <td>AS10</td>\n",
       "      <td>Z</td>\n",
       "      <td>11.0</td>\n",
       "      <td>8.6</td>\n",
       "      <td>9.9</td>\n",
       "      <td>29.0</td>\n",
       "      <td>232.0</td>\n",
       "      <td>5.0</td>\n",
       "      <td>6.0</td>\n",
       "    </tr>\n",
       "    <tr>\n",
       "      <th>3</th>\n",
       "      <td>2022</td>\n",
       "      <td>Acura</td>\n",
       "      <td>RDX SH-AWD A-SPEC</td>\n",
       "      <td>SUV: Small</td>\n",
       "      <td>2.0</td>\n",
       "      <td>4</td>\n",
       "      <td>AS10</td>\n",
       "      <td>Z</td>\n",
       "      <td>11.3</td>\n",
       "      <td>9.1</td>\n",
       "      <td>10.3</td>\n",
       "      <td>27.0</td>\n",
       "      <td>242.0</td>\n",
       "      <td>5.0</td>\n",
       "      <td>6.0</td>\n",
       "    </tr>\n",
       "    <tr>\n",
       "      <th>4</th>\n",
       "      <td>2022</td>\n",
       "      <td>Acura</td>\n",
       "      <td>TLX SH-AWD</td>\n",
       "      <td>Compact</td>\n",
       "      <td>2.0</td>\n",
       "      <td>4</td>\n",
       "      <td>AS10</td>\n",
       "      <td>Z</td>\n",
       "      <td>11.2</td>\n",
       "      <td>8.0</td>\n",
       "      <td>9.8</td>\n",
       "      <td>29.0</td>\n",
       "      <td>230.0</td>\n",
       "      <td>5.0</td>\n",
       "      <td>7.0</td>\n",
       "    </tr>\n",
       "  </tbody>\n",
       "</table>\n",
       "</div>"
      ],
      "text/plain": [
       "   Model Year   Make              Model Vehicle Class  Engine Size(L)  \\\n",
       "0        2022  Acura                ILX       Compact             2.4   \n",
       "1        2022  Acura         MDX SH-AWD    SUV: Small             3.5   \n",
       "2        2022  Acura         RDX SH-AWD    SUV: Small             2.0   \n",
       "3        2022  Acura  RDX SH-AWD A-SPEC    SUV: Small             2.0   \n",
       "4        2022  Acura         TLX SH-AWD       Compact             2.0   \n",
       "\n",
       "   Cylinders Transmission Fuel Type  Fuel Consumption (City (L/100 km)  \\\n",
       "0          4          AM8         Z                                NaN   \n",
       "1          6         AS10         Z                               12.6   \n",
       "2          4         AS10         Z                               11.0   \n",
       "3          4         AS10         Z                               11.3   \n",
       "4          4         AS10         Z                               11.2   \n",
       "\n",
       "   Fuel Consumption(Hwy (L/100 km))  Fuel Consumption(Comb (L/100 km))  \\\n",
       "0                               7.0                                8.6   \n",
       "1                               9.4                               11.2   \n",
       "2                               8.6                                9.9   \n",
       "3                               9.1                               10.3   \n",
       "4                               8.0                                9.8   \n",
       "\n",
       "   Fuel Consumption(Comb (mpg))  CO2 Emissions(g/km)  CO2 Rating  Smog Rating  \n",
       "0                          33.0                200.0         6.0          3.0  \n",
       "1                          25.0                263.0         4.0          5.0  \n",
       "2                          29.0                232.0         5.0          6.0  \n",
       "3                          27.0                242.0         5.0          6.0  \n",
       "4                          29.0                230.0         5.0          7.0  "
      ]
     },
     "execution_count": 4,
     "metadata": {},
     "output_type": "execute_result"
    }
   ],
   "source": [
    "df.head()"
   ]
  },
  {
   "cell_type": "code",
   "execution_count": 5,
   "id": "c4ba153b",
   "metadata": {},
   "outputs": [
    {
     "name": "stdout",
     "output_type": "stream",
     "text": [
      "<class 'pandas.core.frame.DataFrame'>\n",
      "RangeIndex: 945 entries, 0 to 944\n",
      "Data columns (total 15 columns):\n",
      " #   Column                             Non-Null Count  Dtype  \n",
      "---  ------                             --------------  -----  \n",
      " 0   Model Year                         945 non-null    int64  \n",
      " 1   Make                               945 non-null    object \n",
      " 2   Model                              945 non-null    object \n",
      " 3   Vehicle Class                      945 non-null    object \n",
      " 4   Engine Size(L)                     945 non-null    float64\n",
      " 5   Cylinders                          945 non-null    int64  \n",
      " 6   Transmission                       945 non-null    object \n",
      " 7   Fuel Type                          944 non-null    object \n",
      " 8   Fuel Consumption (City (L/100 km)  931 non-null    float64\n",
      " 9   Fuel Consumption(Hwy (L/100 km))   930 non-null    float64\n",
      " 10  Fuel Consumption(Comb (L/100 km))  945 non-null    float64\n",
      " 11  Fuel Consumption(Comb (mpg))       931 non-null    float64\n",
      " 12  CO2 Emissions(g/km)                934 non-null    float64\n",
      " 13  CO2 Rating                         932 non-null    float64\n",
      " 14  Smog Rating                        927 non-null    float64\n",
      "dtypes: float64(8), int64(2), object(5)\n",
      "memory usage: 110.9+ KB\n"
     ]
    }
   ],
   "source": [
    "df.info()"
   ]
  },
  {
   "cell_type": "code",
   "execution_count": 6,
   "id": "190fe879",
   "metadata": {},
   "outputs": [
    {
     "data": {
      "text/plain": [
       "(945, 15)"
      ]
     },
     "execution_count": 6,
     "metadata": {},
     "output_type": "execute_result"
    }
   ],
   "source": [
    "df.shape"
   ]
  },
  {
   "cell_type": "markdown",
   "id": "54929a6a",
   "metadata": {},
   "source": [
    "**Handeling Null Vlues**"
   ]
  },
  {
   "cell_type": "code",
   "execution_count": 7,
   "id": "3d3aa204",
   "metadata": {},
   "outputs": [],
   "source": [
    "df.fillna(df.mean(numeric_only=True).round(1), inplace=True)"
   ]
  },
  {
   "cell_type": "code",
   "execution_count": 8,
   "id": "c58e1047",
   "metadata": {},
   "outputs": [
    {
     "data": {
      "text/plain": [
       "array(['Z', 'X', 'D', 'E', nan], dtype=object)"
      ]
     },
     "execution_count": 8,
     "metadata": {},
     "output_type": "execute_result"
    }
   ],
   "source": [
    "df[\"Fuel Type\"].unique()"
   ]
  },
  {
   "cell_type": "code",
   "execution_count": 9,
   "id": "7eb16632",
   "metadata": {},
   "outputs": [],
   "source": [
    "df.fillna(\"Z\",inplace=True)"
   ]
  },
  {
   "cell_type": "code",
   "execution_count": 10,
   "id": "60978ee6",
   "metadata": {},
   "outputs": [
    {
     "data": {
      "text/plain": [
       "Model Year                           0\n",
       "Make                                 0\n",
       "Model                                0\n",
       "Vehicle Class                        0\n",
       "Engine Size(L)                       0\n",
       "Cylinders                            0\n",
       "Transmission                         0\n",
       "Fuel Type                            0\n",
       "Fuel Consumption (City (L/100 km)    0\n",
       "Fuel Consumption(Hwy (L/100 km))     0\n",
       "Fuel Consumption(Comb (L/100 km))    0\n",
       "Fuel Consumption(Comb (mpg))         0\n",
       "CO2 Emissions(g/km)                  0\n",
       "CO2 Rating                           0\n",
       "Smog Rating                          0\n",
       "dtype: int64"
      ]
     },
     "execution_count": 10,
     "metadata": {},
     "output_type": "execute_result"
    }
   ],
   "source": [
    "df.isnull().sum()"
   ]
  },
  {
   "cell_type": "markdown",
   "id": "68e4acbc",
   "metadata": {},
   "source": [
    "**Numerical Column**"
   ]
  },
  {
   "cell_type": "code",
   "execution_count": 11,
   "id": "3636450c",
   "metadata": {
    "scrolled": true
   },
   "outputs": [
    {
     "data": {
      "text/html": [
       "<div>\n",
       "<style scoped>\n",
       "    .dataframe tbody tr th:only-of-type {\n",
       "        vertical-align: middle;\n",
       "    }\n",
       "\n",
       "    .dataframe tbody tr th {\n",
       "        vertical-align: top;\n",
       "    }\n",
       "\n",
       "    .dataframe thead th {\n",
       "        text-align: right;\n",
       "    }\n",
       "</style>\n",
       "<table border=\"1\" class=\"dataframe\">\n",
       "  <thead>\n",
       "    <tr style=\"text-align: right;\">\n",
       "      <th></th>\n",
       "      <th>Model Year</th>\n",
       "      <th>Engine Size(L)</th>\n",
       "      <th>Cylinders</th>\n",
       "      <th>Fuel Consumption (City (L/100 km)</th>\n",
       "      <th>Fuel Consumption(Hwy (L/100 km))</th>\n",
       "      <th>Fuel Consumption(Comb (L/100 km))</th>\n",
       "      <th>Fuel Consumption(Comb (mpg))</th>\n",
       "      <th>CO2 Emissions(g/km)</th>\n",
       "      <th>CO2 Rating</th>\n",
       "      <th>Smog Rating</th>\n",
       "    </tr>\n",
       "  </thead>\n",
       "  <tbody>\n",
       "    <tr>\n",
       "      <th>0</th>\n",
       "      <td>2022</td>\n",
       "      <td>2.4</td>\n",
       "      <td>4</td>\n",
       "      <td>12.5</td>\n",
       "      <td>7.0</td>\n",
       "      <td>8.6</td>\n",
       "      <td>33.0</td>\n",
       "      <td>200.0</td>\n",
       "      <td>6.0</td>\n",
       "      <td>3.0</td>\n",
       "    </tr>\n",
       "    <tr>\n",
       "      <th>1</th>\n",
       "      <td>2022</td>\n",
       "      <td>3.5</td>\n",
       "      <td>6</td>\n",
       "      <td>12.6</td>\n",
       "      <td>9.4</td>\n",
       "      <td>11.2</td>\n",
       "      <td>25.0</td>\n",
       "      <td>263.0</td>\n",
       "      <td>4.0</td>\n",
       "      <td>5.0</td>\n",
       "    </tr>\n",
       "    <tr>\n",
       "      <th>2</th>\n",
       "      <td>2022</td>\n",
       "      <td>2.0</td>\n",
       "      <td>4</td>\n",
       "      <td>11.0</td>\n",
       "      <td>8.6</td>\n",
       "      <td>9.9</td>\n",
       "      <td>29.0</td>\n",
       "      <td>232.0</td>\n",
       "      <td>5.0</td>\n",
       "      <td>6.0</td>\n",
       "    </tr>\n",
       "    <tr>\n",
       "      <th>3</th>\n",
       "      <td>2022</td>\n",
       "      <td>2.0</td>\n",
       "      <td>4</td>\n",
       "      <td>11.3</td>\n",
       "      <td>9.1</td>\n",
       "      <td>10.3</td>\n",
       "      <td>27.0</td>\n",
       "      <td>242.0</td>\n",
       "      <td>5.0</td>\n",
       "      <td>6.0</td>\n",
       "    </tr>\n",
       "    <tr>\n",
       "      <th>4</th>\n",
       "      <td>2022</td>\n",
       "      <td>2.0</td>\n",
       "      <td>4</td>\n",
       "      <td>11.2</td>\n",
       "      <td>8.0</td>\n",
       "      <td>9.8</td>\n",
       "      <td>29.0</td>\n",
       "      <td>230.0</td>\n",
       "      <td>5.0</td>\n",
       "      <td>7.0</td>\n",
       "    </tr>\n",
       "    <tr>\n",
       "      <th>...</th>\n",
       "      <td>...</td>\n",
       "      <td>...</td>\n",
       "      <td>...</td>\n",
       "      <td>...</td>\n",
       "      <td>...</td>\n",
       "      <td>...</td>\n",
       "      <td>...</td>\n",
       "      <td>...</td>\n",
       "      <td>...</td>\n",
       "      <td>...</td>\n",
       "    </tr>\n",
       "    <tr>\n",
       "      <th>940</th>\n",
       "      <td>2022</td>\n",
       "      <td>2.0</td>\n",
       "      <td>4</td>\n",
       "      <td>10.7</td>\n",
       "      <td>7.7</td>\n",
       "      <td>9.4</td>\n",
       "      <td>30.0</td>\n",
       "      <td>219.0</td>\n",
       "      <td>5.0</td>\n",
       "      <td>5.0</td>\n",
       "    </tr>\n",
       "    <tr>\n",
       "      <th>941</th>\n",
       "      <td>2022</td>\n",
       "      <td>2.0</td>\n",
       "      <td>4</td>\n",
       "      <td>10.5</td>\n",
       "      <td>8.1</td>\n",
       "      <td>9.4</td>\n",
       "      <td>30.0</td>\n",
       "      <td>219.0</td>\n",
       "      <td>5.0</td>\n",
       "      <td>5.0</td>\n",
       "    </tr>\n",
       "    <tr>\n",
       "      <th>942</th>\n",
       "      <td>2022</td>\n",
       "      <td>2.0</td>\n",
       "      <td>4</td>\n",
       "      <td>11.0</td>\n",
       "      <td>8.7</td>\n",
       "      <td>9.9</td>\n",
       "      <td>29.0</td>\n",
       "      <td>232.0</td>\n",
       "      <td>5.0</td>\n",
       "      <td>5.0</td>\n",
       "    </tr>\n",
       "    <tr>\n",
       "      <th>943</th>\n",
       "      <td>2022</td>\n",
       "      <td>2.0</td>\n",
       "      <td>4</td>\n",
       "      <td>11.5</td>\n",
       "      <td>8.4</td>\n",
       "      <td>10.1</td>\n",
       "      <td>28.0</td>\n",
       "      <td>236.0</td>\n",
       "      <td>5.0</td>\n",
       "      <td>5.0</td>\n",
       "    </tr>\n",
       "    <tr>\n",
       "      <th>944</th>\n",
       "      <td>2022</td>\n",
       "      <td>2.0</td>\n",
       "      <td>4</td>\n",
       "      <td>12.5</td>\n",
       "      <td>8.9</td>\n",
       "      <td>10.8</td>\n",
       "      <td>26.0</td>\n",
       "      <td>252.0</td>\n",
       "      <td>5.0</td>\n",
       "      <td>7.0</td>\n",
       "    </tr>\n",
       "  </tbody>\n",
       "</table>\n",
       "<p>945 rows × 10 columns</p>\n",
       "</div>"
      ],
      "text/plain": [
       "     Model Year  Engine Size(L)  Cylinders  Fuel Consumption (City (L/100 km)  \\\n",
       "0          2022             2.4          4                               12.5   \n",
       "1          2022             3.5          6                               12.6   \n",
       "2          2022             2.0          4                               11.0   \n",
       "3          2022             2.0          4                               11.3   \n",
       "4          2022             2.0          4                               11.2   \n",
       "..          ...             ...        ...                                ...   \n",
       "940        2022             2.0          4                               10.7   \n",
       "941        2022             2.0          4                               10.5   \n",
       "942        2022             2.0          4                               11.0   \n",
       "943        2022             2.0          4                               11.5   \n",
       "944        2022             2.0          4                               12.5   \n",
       "\n",
       "     Fuel Consumption(Hwy (L/100 km))  Fuel Consumption(Comb (L/100 km))  \\\n",
       "0                                 7.0                                8.6   \n",
       "1                                 9.4                               11.2   \n",
       "2                                 8.6                                9.9   \n",
       "3                                 9.1                               10.3   \n",
       "4                                 8.0                                9.8   \n",
       "..                                ...                                ...   \n",
       "940                               7.7                                9.4   \n",
       "941                               8.1                                9.4   \n",
       "942                               8.7                                9.9   \n",
       "943                               8.4                               10.1   \n",
       "944                               8.9                               10.8   \n",
       "\n",
       "     Fuel Consumption(Comb (mpg))  CO2 Emissions(g/km)  CO2 Rating  \\\n",
       "0                            33.0                200.0         6.0   \n",
       "1                            25.0                263.0         4.0   \n",
       "2                            29.0                232.0         5.0   \n",
       "3                            27.0                242.0         5.0   \n",
       "4                            29.0                230.0         5.0   \n",
       "..                            ...                  ...         ...   \n",
       "940                          30.0                219.0         5.0   \n",
       "941                          30.0                219.0         5.0   \n",
       "942                          29.0                232.0         5.0   \n",
       "943                          28.0                236.0         5.0   \n",
       "944                          26.0                252.0         5.0   \n",
       "\n",
       "     Smog Rating  \n",
       "0            3.0  \n",
       "1            5.0  \n",
       "2            6.0  \n",
       "3            6.0  \n",
       "4            7.0  \n",
       "..           ...  \n",
       "940          5.0  \n",
       "941          5.0  \n",
       "942          5.0  \n",
       "943          5.0  \n",
       "944          7.0  \n",
       "\n",
       "[945 rows x 10 columns]"
      ]
     },
     "execution_count": 11,
     "metadata": {},
     "output_type": "execute_result"
    }
   ],
   "source": [
    "ncol=df.select_dtypes(include=['number'])\n",
    "ncol"
   ]
  },
  {
   "cell_type": "code",
   "execution_count": 12,
   "id": "d743eaec",
   "metadata": {},
   "outputs": [
    {
     "data": {
      "text/plain": [
       "Series([], dtype: object)"
      ]
     },
     "execution_count": 12,
     "metadata": {},
     "output_type": "execute_result"
    }
   ],
   "source": [
    "df.select_dtypes(include=['category']).dtypes\n"
   ]
  },
  {
   "cell_type": "code",
   "execution_count": 13,
   "id": "a1694650",
   "metadata": {},
   "outputs": [
    {
     "data": {
      "text/plain": [
       "['Make', 'Model', 'Vehicle Class', 'Transmission', 'Fuel Type']"
      ]
     },
     "execution_count": 13,
     "metadata": {},
     "output_type": "execute_result"
    }
   ],
   "source": [
    "df.select_dtypes(include=['object']).columns.tolist()"
   ]
  },
  {
   "cell_type": "markdown",
   "id": "086543cb",
   "metadata": {},
   "source": [
    "# **Univariate analysis**\n"
   ]
  },
  {
   "cell_type": "markdown",
   "id": "8f4d8e7a",
   "metadata": {},
   "source": [
    "#**Categorical Columns Analysis**"
   ]
  },
  {
   "cell_type": "markdown",
   "id": "3b6ff06e",
   "metadata": {},
   "source": [
    "**Make**"
   ]
  },
  {
   "cell_type": "code",
   "execution_count": 14,
   "id": "2ebc9e12",
   "metadata": {},
   "outputs": [
    {
     "data": {
      "text/plain": [
       "<AxesSubplot:>"
      ]
     },
     "execution_count": 14,
     "metadata": {},
     "output_type": "execute_result"
    },
    {
     "data": {
      "image/png": "[encoded data removed]",
      "text/plain": [
       "<Figure size 1440x432 with 1 Axes>"
      ]
     },
     "metadata": {
      "needs_background": "light"
     },
     "output_type": "display_data"
    }
   ],
   "source": [
    "#sns.countplot(df[\"Make\"])\n",
    "plt.rcParams[\"figure.figsize\"] = (20,6)\n",
    "df[\"Make\"].value_counts().plot(kind=\"bar\")"
   ]
  },
  {
   "cell_type": "markdown",
   "id": "6de5df5b",
   "metadata": {},
   "source": [
    "**Vehicle Class**"
   ]
  },
  {
   "cell_type": "code",
   "execution_count": 15,
   "id": "2d3044c9",
   "metadata": {},
   "outputs": [
    {
     "name": "stderr",
     "output_type": "stream",
     "text": [
      "C:\\Users\\supri\\anaconda3\\lib\\site-packages\\seaborn\\_decorators.py:36: FutureWarning: Pass the following variable as a keyword arg: x. From version 0.12, the only valid positional argument will be `data`, and passing other arguments without an explicit keyword will result in an error or misinterpretation.\n",
      "  warnings.warn(\n"
     ]
    },
    {
     "data": {
      "text/plain": [
       "<AxesSubplot:xlabel='Vehicle Class', ylabel='count'>"
      ]
     },
     "execution_count": 15,
     "metadata": {},
     "output_type": "execute_result"
    },
    {
     "data": {
      "image/png": "[encoded data removed]",
      "text/plain": [
       "<Figure size 1440x432 with 1 Axes>"
      ]
     },
     "metadata": {
      "needs_background": "light"
     },
     "output_type": "display_data"
    }
   ],
   "source": [
    "sns.countplot(df[\"Vehicle Class\"])\n",
    "#plt.rcParams[\"figure.figsize\"] = (20,5.5)\n",
    "#df[\"Vehicle Class\"].value_counts().plot(kind=\"bar\")"
   ]
  },
  {
   "cell_type": "code",
   "execution_count": 16,
   "id": "0b1a94e0",
   "metadata": {},
   "outputs": [
    {
     "data": {
      "text/plain": [
       "715"
      ]
     },
     "execution_count": 16,
     "metadata": {},
     "output_type": "execute_result"
    }
   ],
   "source": [
    "df[\"Model\"].nunique()"
   ]
  },
  {
   "cell_type": "markdown",
   "id": "70e37807",
   "metadata": {},
   "source": [
    "**Transmission**"
   ]
  },
  {
   "cell_type": "code",
   "execution_count": 17,
   "id": "40f0da59",
   "metadata": {},
   "outputs": [
    {
     "data": {
      "text/plain": [
       "<AxesSubplot:>"
      ]
     },
     "execution_count": 17,
     "metadata": {},
     "output_type": "execute_result"
    },
    {
     "data": {
      "image/png": "[encoded data removed]",
      "text/plain": [
       "<Figure size 1440x396 with 1 Axes>"
      ]
     },
     "metadata": {
      "needs_background": "light"
     },
     "output_type": "display_data"
    }
   ],
   "source": [
    "#sns.countplot(df[\"Transmission\"])\n",
    "plt.rcParams[\"figure.figsize\"] = (20,5.5)\n",
    "df[\"Transmission\"].value_counts().plot(kind=\"bar\")\n"
   ]
  },
  {
   "cell_type": "markdown",
   "id": "866930ed",
   "metadata": {},
   "source": [
    "**Fuel Type**"
   ]
  },
  {
   "cell_type": "code",
   "execution_count": 18,
   "id": "bf6a6707",
   "metadata": {},
   "outputs": [
    {
     "data": {
      "text/plain": [
       "array(['Z', 'X', 'D', 'E'], dtype=object)"
      ]
     },
     "execution_count": 18,
     "metadata": {},
     "output_type": "execute_result"
    }
   ],
   "source": [
    "df[\"Fuel Type\"].unique()"
   ]
  },
  {
   "cell_type": "code",
   "execution_count": null,
   "id": "8ab26f51",
   "metadata": {},
   "outputs": [],
   "source": []
  },
  {
   "cell_type": "code",
   "execution_count": 19,
   "id": "fc5f1d9a",
   "metadata": {},
   "outputs": [
    {
     "data": {
      "text/plain": [
       "<AxesSubplot:ylabel='Fuel Type'>"
      ]
     },
     "execution_count": 19,
     "metadata": {},
     "output_type": "execute_result"
    },
    {
     "data": {
      "image/png": "[encoded data removed]",
      "text/plain": [
       "<Figure size 1440x396 with 1 Axes>"
      ]
     },
     "metadata": {},
     "output_type": "display_data"
    }
   ],
   "source": [
    "#sns.histplot(df[\"Fuel Type\"])\n",
    "#sns.countplot(df[\"Fuel Type\"])\n",
    "df[\"Fuel Type\"].value_counts().plot(kind=\"pie\")"
   ]
  },
  {
   "cell_type": "markdown",
   "id": "7f31fb63",
   "metadata": {},
   "source": [
    "#**Numerical Columns Analysis**"
   ]
  },
  {
   "cell_type": "code",
   "execution_count": 20,
   "id": "122a5912",
   "metadata": {},
   "outputs": [
    {
     "data": {
      "text/html": [
       "<div>\n",
       "<style scoped>\n",
       "    .dataframe tbody tr th:only-of-type {\n",
       "        vertical-align: middle;\n",
       "    }\n",
       "\n",
       "    .dataframe tbody tr th {\n",
       "        vertical-align: top;\n",
       "    }\n",
       "\n",
       "    .dataframe thead th {\n",
       "        text-align: right;\n",
       "    }\n",
       "</style>\n",
       "<table border=\"1\" class=\"dataframe\">\n",
       "  <thead>\n",
       "    <tr style=\"text-align: right;\">\n",
       "      <th></th>\n",
       "      <th>Model Year</th>\n",
       "      <th>Engine Size(L)</th>\n",
       "      <th>Cylinders</th>\n",
       "      <th>Fuel Consumption (City (L/100 km)</th>\n",
       "      <th>Fuel Consumption(Hwy (L/100 km))</th>\n",
       "      <th>Fuel Consumption(Comb (L/100 km))</th>\n",
       "      <th>Fuel Consumption(Comb (mpg))</th>\n",
       "      <th>CO2 Emissions(g/km)</th>\n",
       "      <th>CO2 Rating</th>\n",
       "      <th>Smog Rating</th>\n",
       "    </tr>\n",
       "  </thead>\n",
       "  <tbody>\n",
       "    <tr>\n",
       "      <th>0</th>\n",
       "      <td>2022</td>\n",
       "      <td>2.4</td>\n",
       "      <td>4</td>\n",
       "      <td>12.5</td>\n",
       "      <td>7.0</td>\n",
       "      <td>8.6</td>\n",
       "      <td>33.0</td>\n",
       "      <td>200.0</td>\n",
       "      <td>6.0</td>\n",
       "      <td>3.0</td>\n",
       "    </tr>\n",
       "  </tbody>\n",
       "</table>\n",
       "</div>"
      ],
      "text/plain": [
       "   Model Year  Engine Size(L)  Cylinders  Fuel Consumption (City (L/100 km)  \\\n",
       "0        2022             2.4          4                               12.5   \n",
       "\n",
       "   Fuel Consumption(Hwy (L/100 km))  Fuel Consumption(Comb (L/100 km))  \\\n",
       "0                               7.0                                8.6   \n",
       "\n",
       "   Fuel Consumption(Comb (mpg))  CO2 Emissions(g/km)  CO2 Rating  Smog Rating  \n",
       "0                          33.0                200.0         6.0          3.0  "
      ]
     },
     "execution_count": 20,
     "metadata": {},
     "output_type": "execute_result"
    }
   ],
   "source": [
    "ncol.head(1)"
   ]
  },
  {
   "cell_type": "markdown",
   "id": "e0daa0b1",
   "metadata": {},
   "source": [
    "**Engine Size(L)**"
   ]
  },
  {
   "cell_type": "code",
   "execution_count": 21,
   "id": "5010f387",
   "metadata": {},
   "outputs": [
    {
     "data": {
      "text/plain": [
       "<seaborn.axisgrid.FacetGrid at 0x1f9b7d36dc0>"
      ]
     },
     "execution_count": 21,
     "metadata": {},
     "output_type": "execute_result"
    },
    {
     "data": {
      "image/png": "[encoded data removed]",
      "text/plain": [
       "<Figure size 360x360 with 1 Axes>"
      ]
     },
     "metadata": {
      "needs_background": "light"
     },
     "output_type": "display_data"
    }
   ],
   "source": [
    "plt.rcParams[\"figure.figsize\"] = (20,5.5)\n",
    "sns.displot(df[\"Engine Size(L)\"],kde=False)"
   ]
  },
  {
   "cell_type": "markdown",
   "id": "b83c4206",
   "metadata": {},
   "source": [
    "**Cylinders**"
   ]
  },
  {
   "cell_type": "code",
   "execution_count": 22,
   "id": "f0b3b0f6",
   "metadata": {},
   "outputs": [
    {
     "data": {
      "text/plain": [
       "<AxesSubplot:ylabel='Cylinders'>"
      ]
     },
     "execution_count": 22,
     "metadata": {},
     "output_type": "execute_result"
    },
    {
     "data": {
      "image/png": "[encoded data removed]",
      "text/plain": [
       "<Figure size 576x396 with 1 Axes>"
      ]
     },
     "metadata": {},
     "output_type": "display_data"
    }
   ],
   "source": [
    "plt.rcParams[\"figure.figsize\"] = (8,5.5)\n",
    "df['Cylinders'].value_counts().plot.pie()"
   ]
  },
  {
   "cell_type": "markdown",
   "id": "4209fe6b",
   "metadata": {},
   "source": [
    "**Fuel Consumption (City (L/100 km)**"
   ]
  },
  {
   "cell_type": "code",
   "execution_count": 23,
   "id": "467b2891",
   "metadata": {},
   "outputs": [
    {
     "data": {
      "text/plain": [
       "Text(0.5, 1.0, 'Fuel Consumption (City (L/100 km)')"
      ]
     },
     "execution_count": 23,
     "metadata": {},
     "output_type": "execute_result"
    },
    {
     "data": {
      "image/png": "[encoded data removed]",
      "text/plain": [
       "<Figure size 576x360 with 1 Axes>"
      ]
     },
     "metadata": {
      "needs_background": "light"
     },
     "output_type": "display_data"
    }
   ],
   "source": [
    "plt.rcParams[\"figure.figsize\"] = (8,5)\n",
    "#df['Fuel Consumption (City (L/100 km)'].value_counts().plot.bar()\n",
    "plt.hist(df[\"Fuel Consumption (City (L/100 km)\"])\n",
    "plt.title(\"Fuel Consumption (City (L/100 km)\")"
   ]
  },
  {
   "cell_type": "markdown",
   "id": "b32b0ca2",
   "metadata": {},
   "source": [
    "**Fuel Consumption(Hwy (L/100 km))**"
   ]
  },
  {
   "cell_type": "code",
   "execution_count": 24,
   "id": "74db1bf5",
   "metadata": {},
   "outputs": [
    {
     "data": {
      "text/plain": [
       "Text(0.5, 1.0, 'Fuel Consumption(Hwy (L/100 km))')"
      ]
     },
     "execution_count": 24,
     "metadata": {},
     "output_type": "execute_result"
    },
    {
     "data": {
      "image/png": "[encoded data removed]",
      "text/plain": [
       "<Figure size 576x360 with 1 Axes>"
      ]
     },
     "metadata": {
      "needs_background": "light"
     },
     "output_type": "display_data"
    }
   ],
   "source": [
    "plt.rcParams[\"figure.figsize\"] = (8,5)\n",
    "#df['Fuel Consumption(Hwy (L/100 km))'].value_counts().plot.bar()\n",
    "plt.hist(df[\"Fuel Consumption(Hwy (L/100 km))\"])\n",
    "plt.title(\"Fuel Consumption(Hwy (L/100 km))\")"
   ]
  },
  {
   "cell_type": "markdown",
   "id": "fe250ab1",
   "metadata": {},
   "source": [
    "**Fuel Consumption(Comb (L/100 km))**"
   ]
  },
  {
   "cell_type": "code",
   "execution_count": 25,
   "id": "de104401",
   "metadata": {},
   "outputs": [
    {
     "data": {
      "text/plain": [
       "(array([ 22., 144., 285., 254., 156.,  67.,   6.,   8.,   1.,   2.]),\n",
       " array([ 4.  ,  6.21,  8.42, 10.63, 12.84, 15.05, 17.26, 19.47, 21.68,\n",
       "        23.89, 26.1 ]),\n",
       " <BarContainer object of 10 artists>)"
      ]
     },
     "execution_count": 25,
     "metadata": {},
     "output_type": "execute_result"
    },
    {
     "data": {
      "image/png": "[encoded data removed]",
      "text/plain": [
       "<Figure size 576x360 with 1 Axes>"
      ]
     },
     "metadata": {
      "needs_background": "light"
     },
     "output_type": "display_data"
    }
   ],
   "source": [
    "#sns.distplot(df[\"Fuel Consumption(Comb (L/100 km))\"])\n",
    "plt.hist(df[\"Fuel Consumption(Comb (L/100 km))\"])"
   ]
  },
  {
   "cell_type": "markdown",
   "id": "de798ad9",
   "metadata": {},
   "source": [
    "**Fuel Consumption(Comb (mpg))**"
   ]
  },
  {
   "cell_type": "code",
   "execution_count": 26,
   "id": "d87de68f",
   "metadata": {},
   "outputs": [
    {
     "data": {
      "text/plain": [
       "(array([ 17., 250., 323., 217.,  98.,  20.,   6.,   6.,   6.,   2.]),\n",
       " array([11., 17., 23., 29., 35., 41., 47., 53., 59., 65., 71.]),\n",
       " <BarContainer object of 10 artists>)"
      ]
     },
     "execution_count": 26,
     "metadata": {},
     "output_type": "execute_result"
    },
    {
     "data": {
      "image/png": "[encoded data removed]",
      "text/plain": [
       "<Figure size 576x360 with 1 Axes>"
      ]
     },
     "metadata": {
      "needs_background": "light"
     },
     "output_type": "display_data"
    }
   ],
   "source": [
    "#sns.distplot(df[\"Fuel Consumption(Comb (mpg))\"])\n",
    "plt.hist(df[\"Fuel Consumption(Comb (mpg))\"])"
   ]
  },
  {
   "cell_type": "code",
   "execution_count": null,
   "id": "457acc3e",
   "metadata": {},
   "outputs": [],
   "source": []
  },
  {
   "cell_type": "markdown",
   "id": "a84ec7c3",
   "metadata": {},
   "source": [
    "**Fuel Consumption (City (L/100 km)**"
   ]
  },
  {
   "cell_type": "code",
   "execution_count": 27,
   "id": "5591952f",
   "metadata": {},
   "outputs": [
    {
     "data": {
      "text/plain": [
       "<seaborn.axisgrid.JointGrid at 0x1f9b96824f0>"
      ]
     },
     "execution_count": 27,
     "metadata": {},
     "output_type": "execute_result"
    },
    {
     "data": {
      "image/png": "[encoded data removed]",
      "text/plain": [
       "<Figure size 432x432 with 3 Axes>"
      ]
     },
     "metadata": {
      "needs_background": "light"
     },
     "output_type": "display_data"
    }
   ],
   "source": [
    "plt.rcParams[\"figure.figsize\"] = (20,10)\n",
    "sns.jointplot(x=\"Fuel Consumption (City (L/100 km)\",y=\"CO2 Emissions(g/km)\",data=df,kind=\"reg\")"
   ]
  },
  {
   "cell_type": "markdown",
   "id": "582729b1",
   "metadata": {},
   "source": [
    "**CO2 Emissions(g/km)**"
   ]
  },
  {
   "cell_type": "code",
   "execution_count": 28,
   "id": "0a2f5d9a",
   "metadata": {},
   "outputs": [
    {
     "name": "stderr",
     "output_type": "stream",
     "text": [
      "C:\\Users\\supri\\anaconda3\\lib\\site-packages\\seaborn\\distributions.py:2619: FutureWarning: `distplot` is a deprecated function and will be removed in a future version. Please adapt your code to use either `displot` (a figure-level function with similar flexibility) or `histplot` (an axes-level function for histograms).\n",
      "  warnings.warn(msg, FutureWarning)\n"
     ]
    },
    {
     "data": {
      "text/plain": [
       "<AxesSubplot:xlabel='CO2 Emissions(g/km)', ylabel='Density'>"
      ]
     },
     "execution_count": 28,
     "metadata": {},
     "output_type": "execute_result"
    },
    {
     "data": {
      "image/png": "[encoded data removed]",
      "text/plain": [
       "<Figure size 1440x720 with 1 Axes>"
      ]
     },
     "metadata": {
      "needs_background": "light"
     },
     "output_type": "display_data"
    }
   ],
   "source": [
    "sns.distplot(df[\"CO2 Emissions(g/km)\"])"
   ]
  },
  {
   "cell_type": "code",
   "execution_count": 29,
   "id": "e5e26897",
   "metadata": {},
   "outputs": [
    {
     "data": {
      "text/html": [
       "<div>\n",
       "<style scoped>\n",
       "    .dataframe tbody tr th:only-of-type {\n",
       "        vertical-align: middle;\n",
       "    }\n",
       "\n",
       "    .dataframe tbody tr th {\n",
       "        vertical-align: top;\n",
       "    }\n",
       "\n",
       "    .dataframe thead th {\n",
       "        text-align: right;\n",
       "    }\n",
       "</style>\n",
       "<table border=\"1\" class=\"dataframe\">\n",
       "  <thead>\n",
       "    <tr style=\"text-align: right;\">\n",
       "      <th></th>\n",
       "      <th>Model Year</th>\n",
       "      <th>Engine Size(L)</th>\n",
       "      <th>Cylinders</th>\n",
       "      <th>Fuel Consumption (City (L/100 km)</th>\n",
       "      <th>Fuel Consumption(Hwy (L/100 km))</th>\n",
       "      <th>Fuel Consumption(Comb (L/100 km))</th>\n",
       "      <th>Fuel Consumption(Comb (mpg))</th>\n",
       "      <th>CO2 Emissions(g/km)</th>\n",
       "      <th>CO2 Rating</th>\n",
       "      <th>Smog Rating</th>\n",
       "    </tr>\n",
       "  </thead>\n",
       "  <tbody>\n",
       "    <tr>\n",
       "      <th>0</th>\n",
       "      <td>2022</td>\n",
       "      <td>2.4</td>\n",
       "      <td>4</td>\n",
       "      <td>12.5</td>\n",
       "      <td>7.0</td>\n",
       "      <td>8.6</td>\n",
       "      <td>33.0</td>\n",
       "      <td>200.0</td>\n",
       "      <td>6.0</td>\n",
       "      <td>3.0</td>\n",
       "    </tr>\n",
       "  </tbody>\n",
       "</table>\n",
       "</div>"
      ],
      "text/plain": [
       "   Model Year  Engine Size(L)  Cylinders  Fuel Consumption (City (L/100 km)  \\\n",
       "0        2022             2.4          4                               12.5   \n",
       "\n",
       "   Fuel Consumption(Hwy (L/100 km))  Fuel Consumption(Comb (L/100 km))  \\\n",
       "0                               7.0                                8.6   \n",
       "\n",
       "   Fuel Consumption(Comb (mpg))  CO2 Emissions(g/km)  CO2 Rating  Smog Rating  \n",
       "0                          33.0                200.0         6.0          3.0  "
      ]
     },
     "execution_count": 29,
     "metadata": {},
     "output_type": "execute_result"
    }
   ],
   "source": [
    "ncol.head(1)"
   ]
  },
  {
   "cell_type": "markdown",
   "id": "2713cb25",
   "metadata": {},
   "source": [
    "**CO2 Rating**"
   ]
  },
  {
   "cell_type": "code",
   "execution_count": 30,
   "id": "9a16abfa",
   "metadata": {},
   "outputs": [
    {
     "name": "stderr",
     "output_type": "stream",
     "text": [
      "C:\\Users\\supri\\anaconda3\\lib\\site-packages\\seaborn\\distributions.py:2619: FutureWarning: `distplot` is a deprecated function and will be removed in a future version. Please adapt your code to use either `displot` (a figure-level function with similar flexibility) or `histplot` (an axes-level function for histograms).\n",
      "  warnings.warn(msg, FutureWarning)\n"
     ]
    },
    {
     "data": {
      "text/plain": [
       "<AxesSubplot:xlabel='CO2 Rating', ylabel='Density'>"
      ]
     },
     "execution_count": 30,
     "metadata": {},
     "output_type": "execute_result"
    },
    {
     "data": {
      "image/png": "[encoded data removed]",
      "text/plain": [
       "<Figure size 1440x720 with 1 Axes>"
      ]
     },
     "metadata": {
      "needs_background": "light"
     },
     "output_type": "display_data"
    }
   ],
   "source": [
    "sns.distplot(df[\"CO2 Rating\"])"
   ]
  },
  {
   "cell_type": "markdown",
   "id": "6d91bd00",
   "metadata": {},
   "source": [
    "**Smog Rating**"
   ]
  },
  {
   "cell_type": "code",
   "execution_count": 31,
   "id": "c844f9fa",
   "metadata": {},
   "outputs": [
    {
     "name": "stderr",
     "output_type": "stream",
     "text": [
      "C:\\Users\\supri\\anaconda3\\lib\\site-packages\\seaborn\\distributions.py:2619: FutureWarning: `distplot` is a deprecated function and will be removed in a future version. Please adapt your code to use either `displot` (a figure-level function with similar flexibility) or `histplot` (an axes-level function for histograms).\n",
      "  warnings.warn(msg, FutureWarning)\n"
     ]
    },
    {
     "data": {
      "text/plain": [
       "<AxesSubplot:xlabel='Smog Rating', ylabel='Density'>"
      ]
     },
     "execution_count": 31,
     "metadata": {},
     "output_type": "execute_result"
    },
    {
     "data": {
      "image/png": "[encoded data removed]",
      "text/plain": [
       "<Figure size 1440x720 with 1 Axes>"
      ]
     },
     "metadata": {
      "needs_background": "light"
     },
     "output_type": "display_data"
    }
   ],
   "source": [
    "sns.distplot(df[\"Smog Rating\"])"
   ]
  },
  {
   "cell_type": "markdown",
   "id": "f2e59811",
   "metadata": {},
   "source": [
    "# #**Bivariate analysis**"
   ]
  },
  {
   "cell_type": "code",
   "execution_count": 32,
   "id": "cda416e0",
   "metadata": {},
   "outputs": [
    {
     "data": {
      "text/html": [
       "<div>\n",
       "<style scoped>\n",
       "    .dataframe tbody tr th:only-of-type {\n",
       "        vertical-align: middle;\n",
       "    }\n",
       "\n",
       "    .dataframe tbody tr th {\n",
       "        vertical-align: top;\n",
       "    }\n",
       "\n",
       "    .dataframe thead th {\n",
       "        text-align: right;\n",
       "    }\n",
       "</style>\n",
       "<table border=\"1\" class=\"dataframe\">\n",
       "  <thead>\n",
       "    <tr style=\"text-align: right;\">\n",
       "      <th></th>\n",
       "      <th>Model Year</th>\n",
       "      <th>Engine Size(L)</th>\n",
       "      <th>Cylinders</th>\n",
       "      <th>Fuel Consumption (City (L/100 km)</th>\n",
       "      <th>Fuel Consumption(Hwy (L/100 km))</th>\n",
       "      <th>Fuel Consumption(Comb (L/100 km))</th>\n",
       "      <th>Fuel Consumption(Comb (mpg))</th>\n",
       "      <th>CO2 Emissions(g/km)</th>\n",
       "      <th>CO2 Rating</th>\n",
       "      <th>Smog Rating</th>\n",
       "    </tr>\n",
       "  </thead>\n",
       "  <tbody>\n",
       "    <tr>\n",
       "      <th>0</th>\n",
       "      <td>2022</td>\n",
       "      <td>2.4</td>\n",
       "      <td>4</td>\n",
       "      <td>12.5</td>\n",
       "      <td>7.0</td>\n",
       "      <td>8.6</td>\n",
       "      <td>33.0</td>\n",
       "      <td>200.0</td>\n",
       "      <td>6.0</td>\n",
       "      <td>3.0</td>\n",
       "    </tr>\n",
       "    <tr>\n",
       "      <th>1</th>\n",
       "      <td>2022</td>\n",
       "      <td>3.5</td>\n",
       "      <td>6</td>\n",
       "      <td>12.6</td>\n",
       "      <td>9.4</td>\n",
       "      <td>11.2</td>\n",
       "      <td>25.0</td>\n",
       "      <td>263.0</td>\n",
       "      <td>4.0</td>\n",
       "      <td>5.0</td>\n",
       "    </tr>\n",
       "    <tr>\n",
       "      <th>2</th>\n",
       "      <td>2022</td>\n",
       "      <td>2.0</td>\n",
       "      <td>4</td>\n",
       "      <td>11.0</td>\n",
       "      <td>8.6</td>\n",
       "      <td>9.9</td>\n",
       "      <td>29.0</td>\n",
       "      <td>232.0</td>\n",
       "      <td>5.0</td>\n",
       "      <td>6.0</td>\n",
       "    </tr>\n",
       "    <tr>\n",
       "      <th>3</th>\n",
       "      <td>2022</td>\n",
       "      <td>2.0</td>\n",
       "      <td>4</td>\n",
       "      <td>11.3</td>\n",
       "      <td>9.1</td>\n",
       "      <td>10.3</td>\n",
       "      <td>27.0</td>\n",
       "      <td>242.0</td>\n",
       "      <td>5.0</td>\n",
       "      <td>6.0</td>\n",
       "    </tr>\n",
       "    <tr>\n",
       "      <th>4</th>\n",
       "      <td>2022</td>\n",
       "      <td>2.0</td>\n",
       "      <td>4</td>\n",
       "      <td>11.2</td>\n",
       "      <td>8.0</td>\n",
       "      <td>9.8</td>\n",
       "      <td>29.0</td>\n",
       "      <td>230.0</td>\n",
       "      <td>5.0</td>\n",
       "      <td>7.0</td>\n",
       "    </tr>\n",
       "    <tr>\n",
       "      <th>5</th>\n",
       "      <td>2022</td>\n",
       "      <td>2.0</td>\n",
       "      <td>4</td>\n",
       "      <td>11.3</td>\n",
       "      <td>8.1</td>\n",
       "      <td>9.8</td>\n",
       "      <td>29.0</td>\n",
       "      <td>231.0</td>\n",
       "      <td>5.0</td>\n",
       "      <td>7.0</td>\n",
       "    </tr>\n",
       "    <tr>\n",
       "      <th>6</th>\n",
       "      <td>2022</td>\n",
       "      <td>3.0</td>\n",
       "      <td>6</td>\n",
       "      <td>12.3</td>\n",
       "      <td>9.4</td>\n",
       "      <td>11.0</td>\n",
       "      <td>26.0</td>\n",
       "      <td>256.0</td>\n",
       "      <td>5.0</td>\n",
       "      <td>5.0</td>\n",
       "    </tr>\n",
       "    <tr>\n",
       "      <th>7</th>\n",
       "      <td>2022</td>\n",
       "      <td>3.0</td>\n",
       "      <td>6</td>\n",
       "      <td>12.3</td>\n",
       "      <td>9.8</td>\n",
       "      <td>11.2</td>\n",
       "      <td>25.0</td>\n",
       "      <td>261.0</td>\n",
       "      <td>4.0</td>\n",
       "      <td>5.0</td>\n",
       "    </tr>\n",
       "    <tr>\n",
       "      <th>8</th>\n",
       "      <td>2022</td>\n",
       "      <td>2.0</td>\n",
       "      <td>4</td>\n",
       "      <td>10.0</td>\n",
       "      <td>7.2</td>\n",
       "      <td>8.7</td>\n",
       "      <td>32.0</td>\n",
       "      <td>205.0</td>\n",
       "      <td>6.0</td>\n",
       "      <td>3.0</td>\n",
       "    </tr>\n",
       "    <tr>\n",
       "      <th>9</th>\n",
       "      <td>2022</td>\n",
       "      <td>2.0</td>\n",
       "      <td>4</td>\n",
       "      <td>10.5</td>\n",
       "      <td>7.7</td>\n",
       "      <td>9.2</td>\n",
       "      <td>31.0</td>\n",
       "      <td>217.0</td>\n",
       "      <td>5.0</td>\n",
       "      <td>3.0</td>\n",
       "    </tr>\n",
       "  </tbody>\n",
       "</table>\n",
       "</div>"
      ],
      "text/plain": [
       "   Model Year  Engine Size(L)  Cylinders  Fuel Consumption (City (L/100 km)  \\\n",
       "0        2022             2.4          4                               12.5   \n",
       "1        2022             3.5          6                               12.6   \n",
       "2        2022             2.0          4                               11.0   \n",
       "3        2022             2.0          4                               11.3   \n",
       "4        2022             2.0          4                               11.2   \n",
       "5        2022             2.0          4                               11.3   \n",
       "6        2022             3.0          6                               12.3   \n",
       "7        2022             3.0          6                               12.3   \n",
       "8        2022             2.0          4                               10.0   \n",
       "9        2022             2.0          4                               10.5   \n",
       "\n",
       "   Fuel Consumption(Hwy (L/100 km))  Fuel Consumption(Comb (L/100 km))  \\\n",
       "0                               7.0                                8.6   \n",
       "1                               9.4                               11.2   \n",
       "2                               8.6                                9.9   \n",
       "3                               9.1                               10.3   \n",
       "4                               8.0                                9.8   \n",
       "5                               8.1                                9.8   \n",
       "6                               9.4                               11.0   \n",
       "7                               9.8                               11.2   \n",
       "8                               7.2                                8.7   \n",
       "9                               7.7                                9.2   \n",
       "\n",
       "   Fuel Consumption(Comb (mpg))  CO2 Emissions(g/km)  CO2 Rating  Smog Rating  \n",
       "0                          33.0                200.0         6.0          3.0  \n",
       "1                          25.0                263.0         4.0          5.0  \n",
       "2                          29.0                232.0         5.0          6.0  \n",
       "3                          27.0                242.0         5.0          6.0  \n",
       "4                          29.0                230.0         5.0          7.0  \n",
       "5                          29.0                231.0         5.0          7.0  \n",
       "6                          26.0                256.0         5.0          5.0  \n",
       "7                          25.0                261.0         4.0          5.0  \n",
       "8                          32.0                205.0         6.0          3.0  \n",
       "9                          31.0                217.0         5.0          3.0  "
      ]
     },
     "execution_count": 32,
     "metadata": {},
     "output_type": "execute_result"
    }
   ],
   "source": [
    "ncol.head(10)"
   ]
  },
  {
   "cell_type": "code",
   "execution_count": 33,
   "id": "e313bccc",
   "metadata": {},
   "outputs": [
    {
     "name": "stderr",
     "output_type": "stream",
     "text": [
      "C:\\Users\\supri\\anaconda3\\lib\\site-packages\\seaborn\\_decorators.py:36: FutureWarning: Pass the following variables as keyword args: x, y. From version 0.12, the only valid positional argument will be `data`, and passing other arguments without an explicit keyword will result in an error or misinterpretation.\n",
      "  warnings.warn(\n"
     ]
    },
    {
     "data": {
      "text/plain": [
       "<AxesSubplot:xlabel='Engine Size(L)', ylabel='Fuel Consumption(Comb (L/100 km))'>"
      ]
     },
     "execution_count": 33,
     "metadata": {},
     "output_type": "execute_result"
    },
    {
     "data": {
      "image/png": "[encoded data removed]",
      "text/plain": [
       "<Figure size 1440x720 with 1 Axes>"
      ]
     },
     "metadata": {
      "needs_background": "light"
     },
     "output_type": "display_data"
    }
   ],
   "source": [
    "sns.scatterplot(df[\"Engine Size(L)\"],df['Fuel Consumption(Comb (L/100 km))'],hue=df[\"CO2 Rating\"])\n",
    "# as engine size increases the the co2 emission is being decreasing but the \n",
    "#consumption of fuel on hwy as well as city has been in increased dastically."
   ]
  },
  {
   "cell_type": "code",
   "execution_count": 34,
   "id": "a9662df6",
   "metadata": {},
   "outputs": [
    {
     "name": "stderr",
     "output_type": "stream",
     "text": [
      "C:\\Users\\supri\\anaconda3\\lib\\site-packages\\seaborn\\_decorators.py:36: FutureWarning: Pass the following variables as keyword args: x, y. From version 0.12, the only valid positional argument will be `data`, and passing other arguments without an explicit keyword will result in an error or misinterpretation.\n",
      "  warnings.warn(\n"
     ]
    },
    {
     "data": {
      "text/plain": [
       "<AxesSubplot:xlabel='Engine Size(L)', ylabel='CO2 Rating'>"
      ]
     },
     "execution_count": 34,
     "metadata": {},
     "output_type": "execute_result"
    },
    {
     "data": {
      "image/png": "[encoded data removed]",
      "text/plain": [
       "<Figure size 1440x720 with 1 Axes>"
      ]
     },
     "metadata": {
      "needs_background": "light"
     },
     "output_type": "display_data"
    }
   ],
   "source": [
    "sns.scatterplot(df[\"Engine Size(L)\"],df['CO2 Rating'],hue=df[\"Smog Rating\"])\n",
    "# we can see with higher engine size with less CO2 rating and with that lower smog rating."
   ]
  },
  {
   "cell_type": "code",
   "execution_count": 35,
   "id": "c6d02300",
   "metadata": {},
   "outputs": [
    {
     "name": "stderr",
     "output_type": "stream",
     "text": [
      "C:\\Users\\supri\\anaconda3\\lib\\site-packages\\seaborn\\_decorators.py:36: FutureWarning: Pass the following variables as keyword args: x, y. From version 0.12, the only valid positional argument will be `data`, and passing other arguments without an explicit keyword will result in an error or misinterpretation.\n",
      "  warnings.warn(\n"
     ]
    },
    {
     "data": {
      "text/plain": [
       "<AxesSubplot:xlabel='Cylinders', ylabel='CO2 Emissions(g/km)'>"
      ]
     },
     "execution_count": 35,
     "metadata": {},
     "output_type": "execute_result"
    },
    {
     "data": {
      "image/png": "[encoded data removed]",
      "text/plain": [
       "<Figure size 1440x720 with 1 Axes>"
      ]
     },
     "metadata": {
      "needs_background": "light"
     },
     "output_type": "display_data"
    }
   ],
   "source": [
    "sns.scatterplot(df[\"Cylinders\"],df['CO2 Emissions(g/km)'])"
   ]
  },
  {
   "cell_type": "code",
   "execution_count": 36,
   "id": "8d611af7",
   "metadata": {},
   "outputs": [
    {
     "data": {
      "text/plain": [
       "<AxesSubplot:xlabel='Cylinders', ylabel='CO2 Emissions(g/km)'>"
      ]
     },
     "execution_count": 36,
     "metadata": {},
     "output_type": "execute_result"
    },
    {
     "data": {
      "image/png": "[encoded data removed]",
      "text/plain": [
       "<Figure size 1440x396 with 1 Axes>"
      ]
     },
     "metadata": {
      "needs_background": "light"
     },
     "output_type": "display_data"
    }
   ],
   "source": [
    "plt.rcParams[\"figure.figsize\"] = (20,5.5)\n",
    "sns.barplot(\n",
    "    data=df, x=\"Cylinders\", y=\"CO2 Emissions(g/km)\",\n",
    "    capsize=.4, errcolor=\".5\",\n",
    "     linewidth=3, edgecolor=\".5\",\n",
    ")"
   ]
  },
  {
   "cell_type": "code",
   "execution_count": 37,
   "id": "a1f8c015",
   "metadata": {},
   "outputs": [
    {
     "data": {
      "text/html": [
       "<div>\n",
       "<style scoped>\n",
       "    .dataframe tbody tr th:only-of-type {\n",
       "        vertical-align: middle;\n",
       "    }\n",
       "\n",
       "    .dataframe tbody tr th {\n",
       "        vertical-align: top;\n",
       "    }\n",
       "\n",
       "    .dataframe thead th {\n",
       "        text-align: right;\n",
       "    }\n",
       "</style>\n",
       "<table border=\"1\" class=\"dataframe\">\n",
       "  <thead>\n",
       "    <tr style=\"text-align: right;\">\n",
       "      <th></th>\n",
       "      <th>Model Year</th>\n",
       "      <th>Engine Size(L)</th>\n",
       "      <th>Cylinders</th>\n",
       "      <th>Fuel Consumption (City (L/100 km)</th>\n",
       "      <th>Fuel Consumption(Hwy (L/100 km))</th>\n",
       "      <th>Fuel Consumption(Comb (L/100 km))</th>\n",
       "      <th>Fuel Consumption(Comb (mpg))</th>\n",
       "      <th>CO2 Emissions(g/km)</th>\n",
       "      <th>CO2 Rating</th>\n",
       "      <th>Smog Rating</th>\n",
       "    </tr>\n",
       "  </thead>\n",
       "  <tbody>\n",
       "    <tr>\n",
       "      <th>count</th>\n",
       "      <td>945.0</td>\n",
       "      <td>945.000000</td>\n",
       "      <td>945.000000</td>\n",
       "      <td>945.000000</td>\n",
       "      <td>945.000000</td>\n",
       "      <td>945.000000</td>\n",
       "      <td>945.000000</td>\n",
       "      <td>945.000000</td>\n",
       "      <td>945.000000</td>\n",
       "      <td>945.000000</td>\n",
       "    </tr>\n",
       "    <tr>\n",
       "      <th>mean</th>\n",
       "      <td>2022.0</td>\n",
       "      <td>3.199683</td>\n",
       "      <td>5.669841</td>\n",
       "      <td>12.506243</td>\n",
       "      <td>9.359259</td>\n",
       "      <td>11.093439</td>\n",
       "      <td>27.260529</td>\n",
       "      <td>259.131323</td>\n",
       "      <td>4.551111</td>\n",
       "      <td>4.953439</td>\n",
       "    </tr>\n",
       "    <tr>\n",
       "      <th>std</th>\n",
       "      <td>0.0</td>\n",
       "      <td>1.375231</td>\n",
       "      <td>1.932930</td>\n",
       "      <td>3.413708</td>\n",
       "      <td>2.273899</td>\n",
       "      <td>2.877491</td>\n",
       "      <td>7.666590</td>\n",
       "      <td>63.957819</td>\n",
       "      <td>1.459431</td>\n",
       "      <td>1.665945</td>\n",
       "    </tr>\n",
       "    <tr>\n",
       "      <th>min</th>\n",
       "      <td>2022.0</td>\n",
       "      <td>1.200000</td>\n",
       "      <td>3.000000</td>\n",
       "      <td>4.000000</td>\n",
       "      <td>3.900000</td>\n",
       "      <td>4.000000</td>\n",
       "      <td>11.000000</td>\n",
       "      <td>94.000000</td>\n",
       "      <td>1.000000</td>\n",
       "      <td>1.000000</td>\n",
       "    </tr>\n",
       "    <tr>\n",
       "      <th>25%</th>\n",
       "      <td>2022.0</td>\n",
       "      <td>2.000000</td>\n",
       "      <td>4.000000</td>\n",
       "      <td>10.300000</td>\n",
       "      <td>7.700000</td>\n",
       "      <td>9.100000</td>\n",
       "      <td>22.000000</td>\n",
       "      <td>214.000000</td>\n",
       "      <td>3.000000</td>\n",
       "      <td>3.000000</td>\n",
       "    </tr>\n",
       "    <tr>\n",
       "      <th>50%</th>\n",
       "      <td>2022.0</td>\n",
       "      <td>3.000000</td>\n",
       "      <td>6.000000</td>\n",
       "      <td>12.300000</td>\n",
       "      <td>9.200000</td>\n",
       "      <td>10.800000</td>\n",
       "      <td>26.000000</td>\n",
       "      <td>258.000000</td>\n",
       "      <td>4.600000</td>\n",
       "      <td>5.000000</td>\n",
       "    </tr>\n",
       "    <tr>\n",
       "      <th>75%</th>\n",
       "      <td>2022.0</td>\n",
       "      <td>3.800000</td>\n",
       "      <td>6.000000</td>\n",
       "      <td>14.700000</td>\n",
       "      <td>10.600000</td>\n",
       "      <td>12.900000</td>\n",
       "      <td>31.000000</td>\n",
       "      <td>299.000000</td>\n",
       "      <td>5.000000</td>\n",
       "      <td>6.000000</td>\n",
       "    </tr>\n",
       "    <tr>\n",
       "      <th>max</th>\n",
       "      <td>2022.0</td>\n",
       "      <td>8.000000</td>\n",
       "      <td>16.000000</td>\n",
       "      <td>30.300000</td>\n",
       "      <td>20.900000</td>\n",
       "      <td>26.100000</td>\n",
       "      <td>71.000000</td>\n",
       "      <td>608.000000</td>\n",
       "      <td>10.000000</td>\n",
       "      <td>7.000000</td>\n",
       "    </tr>\n",
       "  </tbody>\n",
       "</table>\n",
       "</div>"
      ],
      "text/plain": [
       "       Model Year  Engine Size(L)   Cylinders  \\\n",
       "count       945.0      945.000000  945.000000   \n",
       "mean       2022.0        3.199683    5.669841   \n",
       "std           0.0        1.375231    1.932930   \n",
       "min        2022.0        1.200000    3.000000   \n",
       "25%        2022.0        2.000000    4.000000   \n",
       "50%        2022.0        3.000000    6.000000   \n",
       "75%        2022.0        3.800000    6.000000   \n",
       "max        2022.0        8.000000   16.000000   \n",
       "\n",
       "       Fuel Consumption (City (L/100 km)  Fuel Consumption(Hwy (L/100 km))  \\\n",
       "count                         945.000000                        945.000000   \n",
       "mean                           12.506243                          9.359259   \n",
       "std                             3.413708                          2.273899   \n",
       "min                             4.000000                          3.900000   \n",
       "25%                            10.300000                          7.700000   \n",
       "50%                            12.300000                          9.200000   \n",
       "75%                            14.700000                         10.600000   \n",
       "max                            30.300000                         20.900000   \n",
       "\n",
       "       Fuel Consumption(Comb (L/100 km))  Fuel Consumption(Comb (mpg))  \\\n",
       "count                         945.000000                    945.000000   \n",
       "mean                           11.093439                     27.260529   \n",
       "std                             2.877491                      7.666590   \n",
       "min                             4.000000                     11.000000   \n",
       "25%                             9.100000                     22.000000   \n",
       "50%                            10.800000                     26.000000   \n",
       "75%                            12.900000                     31.000000   \n",
       "max                            26.100000                     71.000000   \n",
       "\n",
       "       CO2 Emissions(g/km)  CO2 Rating  Smog Rating  \n",
       "count           945.000000  945.000000   945.000000  \n",
       "mean            259.131323    4.551111     4.953439  \n",
       "std              63.957819    1.459431     1.665945  \n",
       "min              94.000000    1.000000     1.000000  \n",
       "25%             214.000000    3.000000     3.000000  \n",
       "50%             258.000000    4.600000     5.000000  \n",
       "75%             299.000000    5.000000     6.000000  \n",
       "max             608.000000   10.000000     7.000000  "
      ]
     },
     "execution_count": 37,
     "metadata": {},
     "output_type": "execute_result"
    }
   ],
   "source": [
    "ncol.describe()"
   ]
  },
  {
   "cell_type": "code",
   "execution_count": null,
   "id": "c723d65d",
   "metadata": {},
   "outputs": [],
   "source": []
  },
  {
   "cell_type": "code",
   "execution_count": 38,
   "id": "340cd52a",
   "metadata": {},
   "outputs": [],
   "source": [
    "c=[]\n",
    "for i in df.columns:\n",
    "    if df[i].dtypes!='object':\n",
    "        c.append(i)"
   ]
  },
  {
   "cell_type": "code",
   "execution_count": null,
   "id": "c478ea57",
   "metadata": {},
   "outputs": [],
   "source": []
  },
  {
   "cell_type": "code",
   "execution_count": 39,
   "id": "fed3e4ad",
   "metadata": {},
   "outputs": [
    {
     "data": {
      "text/plain": [
       "(945, 15)"
      ]
     },
     "execution_count": 39,
     "metadata": {},
     "output_type": "execute_result"
    }
   ],
   "source": [
    "df.shape"
   ]
  },
  {
   "cell_type": "code",
   "execution_count": 40,
   "id": "a00be2ae",
   "metadata": {},
   "outputs": [
    {
     "name": "stdout",
     "output_type": "stream",
     "text": [
      "<class 'pandas.core.frame.DataFrame'>\n",
      "RangeIndex: 945 entries, 0 to 944\n",
      "Data columns (total 15 columns):\n",
      " #   Column                             Non-Null Count  Dtype  \n",
      "---  ------                             --------------  -----  \n",
      " 0   Model Year                         945 non-null    int64  \n",
      " 1   Make                               945 non-null    object \n",
      " 2   Model                              945 non-null    object \n",
      " 3   Vehicle Class                      945 non-null    object \n",
      " 4   Engine Size(L)                     945 non-null    float64\n",
      " 5   Cylinders                          945 non-null    int64  \n",
      " 6   Transmission                       945 non-null    object \n",
      " 7   Fuel Type                          945 non-null    object \n",
      " 8   Fuel Consumption (City (L/100 km)  945 non-null    float64\n",
      " 9   Fuel Consumption(Hwy (L/100 km))   945 non-null    float64\n",
      " 10  Fuel Consumption(Comb (L/100 km))  945 non-null    float64\n",
      " 11  Fuel Consumption(Comb (mpg))       945 non-null    float64\n",
      " 12  CO2 Emissions(g/km)                945 non-null    float64\n",
      " 13  CO2 Rating                         945 non-null    float64\n",
      " 14  Smog Rating                        945 non-null    float64\n",
      "dtypes: float64(8), int64(2), object(5)\n",
      "memory usage: 110.9+ KB\n"
     ]
    }
   ],
   "source": [
    "df.info()"
   ]
  },
  {
   "cell_type": "code",
   "execution_count": 41,
   "id": "41e757f6",
   "metadata": {},
   "outputs": [
    {
     "data": {
      "text/plain": [
       "['Model Year',\n",
       " 'Engine Size(L)',\n",
       " 'Cylinders',\n",
       " 'Fuel Consumption (City (L/100 km)',\n",
       " 'Fuel Consumption(Hwy (L/100 km))',\n",
       " 'Fuel Consumption(Comb (L/100 km))',\n",
       " 'Fuel Consumption(Comb (mpg))',\n",
       " 'CO2 Emissions(g/km)',\n",
       " 'CO2 Rating',\n",
       " 'Smog Rating']"
      ]
     },
     "execution_count": 41,
     "metadata": {},
     "output_type": "execute_result"
    }
   ],
   "source": [
    "c"
   ]
  },
  {
   "cell_type": "markdown",
   "id": "1905c18a",
   "metadata": {},
   "source": [
    "### Model Year"
   ]
  },
  {
   "cell_type": "code",
   "execution_count": 42,
   "id": "9eb42bc4",
   "metadata": {},
   "outputs": [
    {
     "data": {
      "text/plain": [
       "<AxesSubplot:ylabel='Model Year'>"
      ]
     },
     "execution_count": 42,
     "metadata": {},
     "output_type": "execute_result"
    },
    {
     "data": {
      "image/png": "[encoded data removed]",
      "text/plain": [
       "<Figure size 1440x396 with 1 Axes>"
      ]
     },
     "metadata": {
      "needs_background": "light"
     },
     "output_type": "display_data"
    }
   ],
   "source": [
    "sns.boxplot(y='Model Year', data=df)"
   ]
  },
  {
   "cell_type": "code",
   "execution_count": 43,
   "id": "1e843352",
   "metadata": {},
   "outputs": [
    {
     "data": {
      "text/plain": [
       "0.0"
      ]
     },
     "execution_count": 43,
     "metadata": {},
     "output_type": "execute_result"
    }
   ],
   "source": [
    "q25=df['Model Year'].quantile(0.25)\n",
    "q75=df['Model Year'].quantile(0.75)\n",
    "iqr=q75-q25\n",
    "iqr"
   ]
  },
  {
   "cell_type": "code",
   "execution_count": 44,
   "id": "12e3bab0",
   "metadata": {},
   "outputs": [
    {
     "data": {
      "text/plain": [
       "2022.0"
      ]
     },
     "execution_count": 44,
     "metadata": {},
     "output_type": "execute_result"
    }
   ],
   "source": [
    "upper_limit=q75+(1.5*iqr)\n",
    "upper_limit"
   ]
  },
  {
   "cell_type": "code",
   "execution_count": 45,
   "id": "009efb86",
   "metadata": {},
   "outputs": [
    {
     "data": {
      "text/plain": [
       "2022.0"
      ]
     },
     "execution_count": 45,
     "metadata": {},
     "output_type": "execute_result"
    }
   ],
   "source": [
    "lower_limit=q25-(1.5*iqr)\n",
    "lower_limit"
   ]
  },
  {
   "cell_type": "code",
   "execution_count": 46,
   "id": "89438470",
   "metadata": {},
   "outputs": [
    {
     "data": {
      "text/html": [
       "<div>\n",
       "<style scoped>\n",
       "    .dataframe tbody tr th:only-of-type {\n",
       "        vertical-align: middle;\n",
       "    }\n",
       "\n",
       "    .dataframe tbody tr th {\n",
       "        vertical-align: top;\n",
       "    }\n",
       "\n",
       "    .dataframe thead th {\n",
       "        text-align: right;\n",
       "    }\n",
       "</style>\n",
       "<table border=\"1\" class=\"dataframe\">\n",
       "  <thead>\n",
       "    <tr style=\"text-align: right;\">\n",
       "      <th></th>\n",
       "      <th>Model Year</th>\n",
       "      <th>Make</th>\n",
       "      <th>Model</th>\n",
       "      <th>Vehicle Class</th>\n",
       "      <th>Engine Size(L)</th>\n",
       "      <th>Cylinders</th>\n",
       "      <th>Transmission</th>\n",
       "      <th>Fuel Type</th>\n",
       "      <th>Fuel Consumption (City (L/100 km)</th>\n",
       "      <th>Fuel Consumption(Hwy (L/100 km))</th>\n",
       "      <th>Fuel Consumption(Comb (L/100 km))</th>\n",
       "      <th>Fuel Consumption(Comb (mpg))</th>\n",
       "      <th>CO2 Emissions(g/km)</th>\n",
       "      <th>CO2 Rating</th>\n",
       "      <th>Smog Rating</th>\n",
       "    </tr>\n",
       "  </thead>\n",
       "  <tbody>\n",
       "    <tr>\n",
       "      <th>0</th>\n",
       "      <td>2022</td>\n",
       "      <td>Acura</td>\n",
       "      <td>ILX</td>\n",
       "      <td>Compact</td>\n",
       "      <td>2.4</td>\n",
       "      <td>4</td>\n",
       "      <td>AM8</td>\n",
       "      <td>Z</td>\n",
       "      <td>12.5</td>\n",
       "      <td>7.0</td>\n",
       "      <td>8.6</td>\n",
       "      <td>33.0</td>\n",
       "      <td>200.0</td>\n",
       "      <td>6.0</td>\n",
       "      <td>3.0</td>\n",
       "    </tr>\n",
       "    <tr>\n",
       "      <th>1</th>\n",
       "      <td>2022</td>\n",
       "      <td>Acura</td>\n",
       "      <td>MDX SH-AWD</td>\n",
       "      <td>SUV: Small</td>\n",
       "      <td>3.5</td>\n",
       "      <td>6</td>\n",
       "      <td>AS10</td>\n",
       "      <td>Z</td>\n",
       "      <td>12.6</td>\n",
       "      <td>9.4</td>\n",
       "      <td>11.2</td>\n",
       "      <td>25.0</td>\n",
       "      <td>263.0</td>\n",
       "      <td>4.0</td>\n",
       "      <td>5.0</td>\n",
       "    </tr>\n",
       "    <tr>\n",
       "      <th>2</th>\n",
       "      <td>2022</td>\n",
       "      <td>Acura</td>\n",
       "      <td>RDX SH-AWD</td>\n",
       "      <td>SUV: Small</td>\n",
       "      <td>2.0</td>\n",
       "      <td>4</td>\n",
       "      <td>AS10</td>\n",
       "      <td>Z</td>\n",
       "      <td>11.0</td>\n",
       "      <td>8.6</td>\n",
       "      <td>9.9</td>\n",
       "      <td>29.0</td>\n",
       "      <td>232.0</td>\n",
       "      <td>5.0</td>\n",
       "      <td>6.0</td>\n",
       "    </tr>\n",
       "    <tr>\n",
       "      <th>3</th>\n",
       "      <td>2022</td>\n",
       "      <td>Acura</td>\n",
       "      <td>RDX SH-AWD A-SPEC</td>\n",
       "      <td>SUV: Small</td>\n",
       "      <td>2.0</td>\n",
       "      <td>4</td>\n",
       "      <td>AS10</td>\n",
       "      <td>Z</td>\n",
       "      <td>11.3</td>\n",
       "      <td>9.1</td>\n",
       "      <td>10.3</td>\n",
       "      <td>27.0</td>\n",
       "      <td>242.0</td>\n",
       "      <td>5.0</td>\n",
       "      <td>6.0</td>\n",
       "    </tr>\n",
       "    <tr>\n",
       "      <th>4</th>\n",
       "      <td>2022</td>\n",
       "      <td>Acura</td>\n",
       "      <td>TLX SH-AWD</td>\n",
       "      <td>Compact</td>\n",
       "      <td>2.0</td>\n",
       "      <td>4</td>\n",
       "      <td>AS10</td>\n",
       "      <td>Z</td>\n",
       "      <td>11.2</td>\n",
       "      <td>8.0</td>\n",
       "      <td>9.8</td>\n",
       "      <td>29.0</td>\n",
       "      <td>230.0</td>\n",
       "      <td>5.0</td>\n",
       "      <td>7.0</td>\n",
       "    </tr>\n",
       "    <tr>\n",
       "      <th>...</th>\n",
       "      <td>...</td>\n",
       "      <td>...</td>\n",
       "      <td>...</td>\n",
       "      <td>...</td>\n",
       "      <td>...</td>\n",
       "      <td>...</td>\n",
       "      <td>...</td>\n",
       "      <td>...</td>\n",
       "      <td>...</td>\n",
       "      <td>...</td>\n",
       "      <td>...</td>\n",
       "      <td>...</td>\n",
       "      <td>...</td>\n",
       "      <td>...</td>\n",
       "      <td>...</td>\n",
       "    </tr>\n",
       "    <tr>\n",
       "      <th>940</th>\n",
       "      <td>2022</td>\n",
       "      <td>Volvo</td>\n",
       "      <td>XC40 T5 AWD</td>\n",
       "      <td>SUV: Small</td>\n",
       "      <td>2.0</td>\n",
       "      <td>4</td>\n",
       "      <td>AS8</td>\n",
       "      <td>Z</td>\n",
       "      <td>10.7</td>\n",
       "      <td>7.7</td>\n",
       "      <td>9.4</td>\n",
       "      <td>30.0</td>\n",
       "      <td>219.0</td>\n",
       "      <td>5.0</td>\n",
       "      <td>5.0</td>\n",
       "    </tr>\n",
       "    <tr>\n",
       "      <th>941</th>\n",
       "      <td>2022</td>\n",
       "      <td>Volvo</td>\n",
       "      <td>XC60 B5 AWD</td>\n",
       "      <td>SUV: Small</td>\n",
       "      <td>2.0</td>\n",
       "      <td>4</td>\n",
       "      <td>AS8</td>\n",
       "      <td>Z</td>\n",
       "      <td>10.5</td>\n",
       "      <td>8.1</td>\n",
       "      <td>9.4</td>\n",
       "      <td>30.0</td>\n",
       "      <td>219.0</td>\n",
       "      <td>5.0</td>\n",
       "      <td>5.0</td>\n",
       "    </tr>\n",
       "    <tr>\n",
       "      <th>942</th>\n",
       "      <td>2022</td>\n",
       "      <td>Volvo</td>\n",
       "      <td>XC60 B6 AWD</td>\n",
       "      <td>SUV: Small</td>\n",
       "      <td>2.0</td>\n",
       "      <td>4</td>\n",
       "      <td>AS8</td>\n",
       "      <td>Z</td>\n",
       "      <td>11.0</td>\n",
       "      <td>8.7</td>\n",
       "      <td>9.9</td>\n",
       "      <td>29.0</td>\n",
       "      <td>232.0</td>\n",
       "      <td>5.0</td>\n",
       "      <td>5.0</td>\n",
       "    </tr>\n",
       "    <tr>\n",
       "      <th>943</th>\n",
       "      <td>2022</td>\n",
       "      <td>Volvo</td>\n",
       "      <td>XC90 T5 AWD</td>\n",
       "      <td>SUV: Standard</td>\n",
       "      <td>2.0</td>\n",
       "      <td>4</td>\n",
       "      <td>AS8</td>\n",
       "      <td>Z</td>\n",
       "      <td>11.5</td>\n",
       "      <td>8.4</td>\n",
       "      <td>10.1</td>\n",
       "      <td>28.0</td>\n",
       "      <td>236.0</td>\n",
       "      <td>5.0</td>\n",
       "      <td>5.0</td>\n",
       "    </tr>\n",
       "    <tr>\n",
       "      <th>944</th>\n",
       "      <td>2022</td>\n",
       "      <td>Volvo</td>\n",
       "      <td>XC90 T6 AWD</td>\n",
       "      <td>SUV: Standard</td>\n",
       "      <td>2.0</td>\n",
       "      <td>4</td>\n",
       "      <td>AS8</td>\n",
       "      <td>Z</td>\n",
       "      <td>12.5</td>\n",
       "      <td>8.9</td>\n",
       "      <td>10.8</td>\n",
       "      <td>26.0</td>\n",
       "      <td>252.0</td>\n",
       "      <td>5.0</td>\n",
       "      <td>7.0</td>\n",
       "    </tr>\n",
       "  </tbody>\n",
       "</table>\n",
       "<p>945 rows × 15 columns</p>\n",
       "</div>"
      ],
      "text/plain": [
       "     Model Year   Make              Model  Vehicle Class  Engine Size(L)  \\\n",
       "0          2022  Acura                ILX        Compact             2.4   \n",
       "1          2022  Acura         MDX SH-AWD     SUV: Small             3.5   \n",
       "2          2022  Acura         RDX SH-AWD     SUV: Small             2.0   \n",
       "3          2022  Acura  RDX SH-AWD A-SPEC     SUV: Small             2.0   \n",
       "4          2022  Acura         TLX SH-AWD        Compact             2.0   \n",
       "..          ...    ...                ...            ...             ...   \n",
       "940        2022  Volvo        XC40 T5 AWD     SUV: Small             2.0   \n",
       "941        2022  Volvo        XC60 B5 AWD     SUV: Small             2.0   \n",
       "942        2022  Volvo        XC60 B6 AWD     SUV: Small             2.0   \n",
       "943        2022  Volvo        XC90 T5 AWD  SUV: Standard             2.0   \n",
       "944        2022  Volvo        XC90 T6 AWD  SUV: Standard             2.0   \n",
       "\n",
       "     Cylinders Transmission Fuel Type  Fuel Consumption (City (L/100 km)  \\\n",
       "0            4          AM8         Z                               12.5   \n",
       "1            6         AS10         Z                               12.6   \n",
       "2            4         AS10         Z                               11.0   \n",
       "3            4         AS10         Z                               11.3   \n",
       "4            4         AS10         Z                               11.2   \n",
       "..         ...          ...       ...                                ...   \n",
       "940          4          AS8         Z                               10.7   \n",
       "941          4          AS8         Z                               10.5   \n",
       "942          4          AS8         Z                               11.0   \n",
       "943          4          AS8         Z                               11.5   \n",
       "944          4          AS8         Z                               12.5   \n",
       "\n",
       "     Fuel Consumption(Hwy (L/100 km))  Fuel Consumption(Comb (L/100 km))  \\\n",
       "0                                 7.0                                8.6   \n",
       "1                                 9.4                               11.2   \n",
       "2                                 8.6                                9.9   \n",
       "3                                 9.1                               10.3   \n",
       "4                                 8.0                                9.8   \n",
       "..                                ...                                ...   \n",
       "940                               7.7                                9.4   \n",
       "941                               8.1                                9.4   \n",
       "942                               8.7                                9.9   \n",
       "943                               8.4                               10.1   \n",
       "944                               8.9                               10.8   \n",
       "\n",
       "     Fuel Consumption(Comb (mpg))  CO2 Emissions(g/km)  CO2 Rating  \\\n",
       "0                            33.0                200.0         6.0   \n",
       "1                            25.0                263.0         4.0   \n",
       "2                            29.0                232.0         5.0   \n",
       "3                            27.0                242.0         5.0   \n",
       "4                            29.0                230.0         5.0   \n",
       "..                            ...                  ...         ...   \n",
       "940                          30.0                219.0         5.0   \n",
       "941                          30.0                219.0         5.0   \n",
       "942                          29.0                232.0         5.0   \n",
       "943                          28.0                236.0         5.0   \n",
       "944                          26.0                252.0         5.0   \n",
       "\n",
       "     Smog Rating  \n",
       "0            3.0  \n",
       "1            5.0  \n",
       "2            6.0  \n",
       "3            6.0  \n",
       "4            7.0  \n",
       "..           ...  \n",
       "940          5.0  \n",
       "941          5.0  \n",
       "942          5.0  \n",
       "943          5.0  \n",
       "944          7.0  \n",
       "\n",
       "[945 rows x 15 columns]"
      ]
     },
     "execution_count": 46,
     "metadata": {},
     "output_type": "execute_result"
    }
   ],
   "source": [
    "df=df[(df['Model Year']>=lower_limit) & (df['Model Year']<=upper_limit)]\n",
    "df"
   ]
  },
  {
   "cell_type": "code",
   "execution_count": 47,
   "id": "aee9a706",
   "metadata": {},
   "outputs": [
    {
     "data": {
      "text/plain": [
       "<AxesSubplot:ylabel='Model Year'>"
      ]
     },
     "execution_count": 47,
     "metadata": {},
     "output_type": "execute_result"
    },
    {
     "data": {
      "image/png": "[encoded data removed]",
      "text/plain": [
       "<Figure size 1440x396 with 1 Axes>"
      ]
     },
     "metadata": {
      "needs_background": "light"
     },
     "output_type": "display_data"
    }
   ],
   "source": [
    "sns.boxplot(y='Model Year', data=df)"
   ]
  },
  {
   "cell_type": "markdown",
   "id": "806a5be6",
   "metadata": {},
   "source": [
    "### Engine Size(L)"
   ]
  },
  {
   "cell_type": "code",
   "execution_count": 48,
   "id": "318378ba",
   "metadata": {},
   "outputs": [
    {
     "data": {
      "text/plain": [
       "(945, 15)"
      ]
     },
     "execution_count": 48,
     "metadata": {},
     "output_type": "execute_result"
    }
   ],
   "source": [
    "df.shape"
   ]
  },
  {
   "cell_type": "code",
   "execution_count": 49,
   "id": "1daa2817",
   "metadata": {},
   "outputs": [
    {
     "data": {
      "text/plain": [
       "<AxesSubplot:ylabel='Engine Size(L)'>"
      ]
     },
     "execution_count": 49,
     "metadata": {},
     "output_type": "execute_result"
    },
    {
     "data": {
      "image/png": "[encoded data removed]",
      "text/plain": [
       "<Figure size 1440x396 with 1 Axes>"
      ]
     },
     "metadata": {
      "needs_background": "light"
     },
     "output_type": "display_data"
    }
   ],
   "source": [
    "sns.boxplot(y='Engine Size(L)', data=df)"
   ]
  },
  {
   "cell_type": "code",
   "execution_count": 50,
   "id": "42853db3",
   "metadata": {},
   "outputs": [
    {
     "name": "stdout",
     "output_type": "stream",
     "text": [
      "1.7999999999999998\n",
      "6.5\n",
      "-0.6999999999999997\n"
     ]
    }
   ],
   "source": [
    "q25=df['Engine Size(L)'].quantile(0.25)\n",
    "q75=df['Engine Size(L)'].quantile(0.75)\n",
    "iqr=q75-q25\n",
    "print(iqr)\n",
    "upper_limit=q75+(1.5*iqr)\n",
    "print(upper_limit)\n",
    "lower_limit=q25-(1.5*iqr)\n",
    "print(lower_limit)"
   ]
  },
  {
   "cell_type": "code",
   "execution_count": 51,
   "id": "b65ea21d",
   "metadata": {},
   "outputs": [
    {
     "data": {
      "text/html": [
       "<div>\n",
       "<style scoped>\n",
       "    .dataframe tbody tr th:only-of-type {\n",
       "        vertical-align: middle;\n",
       "    }\n",
       "\n",
       "    .dataframe tbody tr th {\n",
       "        vertical-align: top;\n",
       "    }\n",
       "\n",
       "    .dataframe thead th {\n",
       "        text-align: right;\n",
       "    }\n",
       "</style>\n",
       "<table border=\"1\" class=\"dataframe\">\n",
       "  <thead>\n",
       "    <tr style=\"text-align: right;\">\n",
       "      <th></th>\n",
       "      <th>Model Year</th>\n",
       "      <th>Make</th>\n",
       "      <th>Model</th>\n",
       "      <th>Vehicle Class</th>\n",
       "      <th>Engine Size(L)</th>\n",
       "      <th>Cylinders</th>\n",
       "      <th>Transmission</th>\n",
       "      <th>Fuel Type</th>\n",
       "      <th>Fuel Consumption (City (L/100 km)</th>\n",
       "      <th>Fuel Consumption(Hwy (L/100 km))</th>\n",
       "      <th>Fuel Consumption(Comb (L/100 km))</th>\n",
       "      <th>Fuel Consumption(Comb (mpg))</th>\n",
       "      <th>CO2 Emissions(g/km)</th>\n",
       "      <th>CO2 Rating</th>\n",
       "      <th>Smog Rating</th>\n",
       "    </tr>\n",
       "  </thead>\n",
       "  <tbody>\n",
       "    <tr>\n",
       "      <th>0</th>\n",
       "      <td>2022</td>\n",
       "      <td>Acura</td>\n",
       "      <td>ILX</td>\n",
       "      <td>Compact</td>\n",
       "      <td>2.4</td>\n",
       "      <td>4</td>\n",
       "      <td>AM8</td>\n",
       "      <td>Z</td>\n",
       "      <td>12.5</td>\n",
       "      <td>7.0</td>\n",
       "      <td>8.6</td>\n",
       "      <td>33.0</td>\n",
       "      <td>200.0</td>\n",
       "      <td>6.0</td>\n",
       "      <td>3.0</td>\n",
       "    </tr>\n",
       "    <tr>\n",
       "      <th>1</th>\n",
       "      <td>2022</td>\n",
       "      <td>Acura</td>\n",
       "      <td>MDX SH-AWD</td>\n",
       "      <td>SUV: Small</td>\n",
       "      <td>3.5</td>\n",
       "      <td>6</td>\n",
       "      <td>AS10</td>\n",
       "      <td>Z</td>\n",
       "      <td>12.6</td>\n",
       "      <td>9.4</td>\n",
       "      <td>11.2</td>\n",
       "      <td>25.0</td>\n",
       "      <td>263.0</td>\n",
       "      <td>4.0</td>\n",
       "      <td>5.0</td>\n",
       "    </tr>\n",
       "    <tr>\n",
       "      <th>2</th>\n",
       "      <td>2022</td>\n",
       "      <td>Acura</td>\n",
       "      <td>RDX SH-AWD</td>\n",
       "      <td>SUV: Small</td>\n",
       "      <td>2.0</td>\n",
       "      <td>4</td>\n",
       "      <td>AS10</td>\n",
       "      <td>Z</td>\n",
       "      <td>11.0</td>\n",
       "      <td>8.6</td>\n",
       "      <td>9.9</td>\n",
       "      <td>29.0</td>\n",
       "      <td>232.0</td>\n",
       "      <td>5.0</td>\n",
       "      <td>6.0</td>\n",
       "    </tr>\n",
       "    <tr>\n",
       "      <th>3</th>\n",
       "      <td>2022</td>\n",
       "      <td>Acura</td>\n",
       "      <td>RDX SH-AWD A-SPEC</td>\n",
       "      <td>SUV: Small</td>\n",
       "      <td>2.0</td>\n",
       "      <td>4</td>\n",
       "      <td>AS10</td>\n",
       "      <td>Z</td>\n",
       "      <td>11.3</td>\n",
       "      <td>9.1</td>\n",
       "      <td>10.3</td>\n",
       "      <td>27.0</td>\n",
       "      <td>242.0</td>\n",
       "      <td>5.0</td>\n",
       "      <td>6.0</td>\n",
       "    </tr>\n",
       "    <tr>\n",
       "      <th>4</th>\n",
       "      <td>2022</td>\n",
       "      <td>Acura</td>\n",
       "      <td>TLX SH-AWD</td>\n",
       "      <td>Compact</td>\n",
       "      <td>2.0</td>\n",
       "      <td>4</td>\n",
       "      <td>AS10</td>\n",
       "      <td>Z</td>\n",
       "      <td>11.2</td>\n",
       "      <td>8.0</td>\n",
       "      <td>9.8</td>\n",
       "      <td>29.0</td>\n",
       "      <td>230.0</td>\n",
       "      <td>5.0</td>\n",
       "      <td>7.0</td>\n",
       "    </tr>\n",
       "    <tr>\n",
       "      <th>...</th>\n",
       "      <td>...</td>\n",
       "      <td>...</td>\n",
       "      <td>...</td>\n",
       "      <td>...</td>\n",
       "      <td>...</td>\n",
       "      <td>...</td>\n",
       "      <td>...</td>\n",
       "      <td>...</td>\n",
       "      <td>...</td>\n",
       "      <td>...</td>\n",
       "      <td>...</td>\n",
       "      <td>...</td>\n",
       "      <td>...</td>\n",
       "      <td>...</td>\n",
       "      <td>...</td>\n",
       "    </tr>\n",
       "    <tr>\n",
       "      <th>940</th>\n",
       "      <td>2022</td>\n",
       "      <td>Volvo</td>\n",
       "      <td>XC40 T5 AWD</td>\n",
       "      <td>SUV: Small</td>\n",
       "      <td>2.0</td>\n",
       "      <td>4</td>\n",
       "      <td>AS8</td>\n",
       "      <td>Z</td>\n",
       "      <td>10.7</td>\n",
       "      <td>7.7</td>\n",
       "      <td>9.4</td>\n",
       "      <td>30.0</td>\n",
       "      <td>219.0</td>\n",
       "      <td>5.0</td>\n",
       "      <td>5.0</td>\n",
       "    </tr>\n",
       "    <tr>\n",
       "      <th>941</th>\n",
       "      <td>2022</td>\n",
       "      <td>Volvo</td>\n",
       "      <td>XC60 B5 AWD</td>\n",
       "      <td>SUV: Small</td>\n",
       "      <td>2.0</td>\n",
       "      <td>4</td>\n",
       "      <td>AS8</td>\n",
       "      <td>Z</td>\n",
       "      <td>10.5</td>\n",
       "      <td>8.1</td>\n",
       "      <td>9.4</td>\n",
       "      <td>30.0</td>\n",
       "      <td>219.0</td>\n",
       "      <td>5.0</td>\n",
       "      <td>5.0</td>\n",
       "    </tr>\n",
       "    <tr>\n",
       "      <th>942</th>\n",
       "      <td>2022</td>\n",
       "      <td>Volvo</td>\n",
       "      <td>XC60 B6 AWD</td>\n",
       "      <td>SUV: Small</td>\n",
       "      <td>2.0</td>\n",
       "      <td>4</td>\n",
       "      <td>AS8</td>\n",
       "      <td>Z</td>\n",
       "      <td>11.0</td>\n",
       "      <td>8.7</td>\n",
       "      <td>9.9</td>\n",
       "      <td>29.0</td>\n",
       "      <td>232.0</td>\n",
       "      <td>5.0</td>\n",
       "      <td>5.0</td>\n",
       "    </tr>\n",
       "    <tr>\n",
       "      <th>943</th>\n",
       "      <td>2022</td>\n",
       "      <td>Volvo</td>\n",
       "      <td>XC90 T5 AWD</td>\n",
       "      <td>SUV: Standard</td>\n",
       "      <td>2.0</td>\n",
       "      <td>4</td>\n",
       "      <td>AS8</td>\n",
       "      <td>Z</td>\n",
       "      <td>11.5</td>\n",
       "      <td>8.4</td>\n",
       "      <td>10.1</td>\n",
       "      <td>28.0</td>\n",
       "      <td>236.0</td>\n",
       "      <td>5.0</td>\n",
       "      <td>5.0</td>\n",
       "    </tr>\n",
       "    <tr>\n",
       "      <th>944</th>\n",
       "      <td>2022</td>\n",
       "      <td>Volvo</td>\n",
       "      <td>XC90 T6 AWD</td>\n",
       "      <td>SUV: Standard</td>\n",
       "      <td>2.0</td>\n",
       "      <td>4</td>\n",
       "      <td>AS8</td>\n",
       "      <td>Z</td>\n",
       "      <td>12.5</td>\n",
       "      <td>8.9</td>\n",
       "      <td>10.8</td>\n",
       "      <td>26.0</td>\n",
       "      <td>252.0</td>\n",
       "      <td>5.0</td>\n",
       "      <td>7.0</td>\n",
       "    </tr>\n",
       "  </tbody>\n",
       "</table>\n",
       "<p>934 rows × 15 columns</p>\n",
       "</div>"
      ],
      "text/plain": [
       "     Model Year   Make              Model  Vehicle Class  Engine Size(L)  \\\n",
       "0          2022  Acura                ILX        Compact             2.4   \n",
       "1          2022  Acura         MDX SH-AWD     SUV: Small             3.5   \n",
       "2          2022  Acura         RDX SH-AWD     SUV: Small             2.0   \n",
       "3          2022  Acura  RDX SH-AWD A-SPEC     SUV: Small             2.0   \n",
       "4          2022  Acura         TLX SH-AWD        Compact             2.0   \n",
       "..          ...    ...                ...            ...             ...   \n",
       "940        2022  Volvo        XC40 T5 AWD     SUV: Small             2.0   \n",
       "941        2022  Volvo        XC60 B5 AWD     SUV: Small             2.0   \n",
       "942        2022  Volvo        XC60 B6 AWD     SUV: Small             2.0   \n",
       "943        2022  Volvo        XC90 T5 AWD  SUV: Standard             2.0   \n",
       "944        2022  Volvo        XC90 T6 AWD  SUV: Standard             2.0   \n",
       "\n",
       "     Cylinders Transmission Fuel Type  Fuel Consumption (City (L/100 km)  \\\n",
       "0            4          AM8         Z                               12.5   \n",
       "1            6         AS10         Z                               12.6   \n",
       "2            4         AS10         Z                               11.0   \n",
       "3            4         AS10         Z                               11.3   \n",
       "4            4         AS10         Z                               11.2   \n",
       "..         ...          ...       ...                                ...   \n",
       "940          4          AS8         Z                               10.7   \n",
       "941          4          AS8         Z                               10.5   \n",
       "942          4          AS8         Z                               11.0   \n",
       "943          4          AS8         Z                               11.5   \n",
       "944          4          AS8         Z                               12.5   \n",
       "\n",
       "     Fuel Consumption(Hwy (L/100 km))  Fuel Consumption(Comb (L/100 km))  \\\n",
       "0                                 7.0                                8.6   \n",
       "1                                 9.4                               11.2   \n",
       "2                                 8.6                                9.9   \n",
       "3                                 9.1                               10.3   \n",
       "4                                 8.0                                9.8   \n",
       "..                                ...                                ...   \n",
       "940                               7.7                                9.4   \n",
       "941                               8.1                                9.4   \n",
       "942                               8.7                                9.9   \n",
       "943                               8.4                               10.1   \n",
       "944                               8.9                               10.8   \n",
       "\n",
       "     Fuel Consumption(Comb (mpg))  CO2 Emissions(g/km)  CO2 Rating  \\\n",
       "0                            33.0                200.0         6.0   \n",
       "1                            25.0                263.0         4.0   \n",
       "2                            29.0                232.0         5.0   \n",
       "3                            27.0                242.0         5.0   \n",
       "4                            29.0                230.0         5.0   \n",
       "..                            ...                  ...         ...   \n",
       "940                          30.0                219.0         5.0   \n",
       "941                          30.0                219.0         5.0   \n",
       "942                          29.0                232.0         5.0   \n",
       "943                          28.0                236.0         5.0   \n",
       "944                          26.0                252.0         5.0   \n",
       "\n",
       "     Smog Rating  \n",
       "0            3.0  \n",
       "1            5.0  \n",
       "2            6.0  \n",
       "3            6.0  \n",
       "4            7.0  \n",
       "..           ...  \n",
       "940          5.0  \n",
       "941          5.0  \n",
       "942          5.0  \n",
       "943          5.0  \n",
       "944          7.0  \n",
       "\n",
       "[934 rows x 15 columns]"
      ]
     },
     "execution_count": 51,
     "metadata": {},
     "output_type": "execute_result"
    }
   ],
   "source": [
    "df=df[(df['Engine Size(L)']>=lower_limit) & (df['Engine Size(L)']<=upper_limit)]\n",
    "df"
   ]
  },
  {
   "cell_type": "code",
   "execution_count": 52,
   "id": "149c783e",
   "metadata": {},
   "outputs": [
    {
     "data": {
      "text/plain": [
       "<AxesSubplot:ylabel='Engine Size(L)'>"
      ]
     },
     "execution_count": 52,
     "metadata": {},
     "output_type": "execute_result"
    },
    {
     "data": {
      "image/png": "[encoded data removed]",
      "text/plain": [
       "<Figure size 1440x396 with 1 Axes>"
      ]
     },
     "metadata": {
      "needs_background": "light"
     },
     "output_type": "display_data"
    }
   ],
   "source": [
    "sns.boxplot(y='Engine Size(L)', data=df)"
   ]
  },
  {
   "cell_type": "markdown",
   "id": "2c64b5e5",
   "metadata": {},
   "source": [
    "### Cylinders"
   ]
  },
  {
   "cell_type": "code",
   "execution_count": 53,
   "id": "5ce45f06",
   "metadata": {},
   "outputs": [
    {
     "data": {
      "text/plain": [
       "(934, 15)"
      ]
     },
     "execution_count": 53,
     "metadata": {},
     "output_type": "execute_result"
    }
   ],
   "source": [
    "df.shape"
   ]
  },
  {
   "cell_type": "code",
   "execution_count": 54,
   "id": "124848df",
   "metadata": {},
   "outputs": [
    {
     "data": {
      "text/plain": [
       "<AxesSubplot:ylabel='Cylinders'>"
      ]
     },
     "execution_count": 54,
     "metadata": {},
     "output_type": "execute_result"
    },
    {
     "data": {
      "image/png": "[encoded data removed]",
      "text/plain": [
       "<Figure size 1440x396 with 1 Axes>"
      ]
     },
     "metadata": {
      "needs_background": "light"
     },
     "output_type": "display_data"
    }
   ],
   "source": [
    "sns.boxplot(y='Cylinders', data=df)"
   ]
  },
  {
   "cell_type": "markdown",
   "id": "604c74b6",
   "metadata": {},
   "source": [
    "### Fuel Consumption (City (L/100 km)"
   ]
  },
  {
   "cell_type": "code",
   "execution_count": 55,
   "id": "b41782d0",
   "metadata": {},
   "outputs": [
    {
     "data": {
      "text/plain": [
       "<AxesSubplot:ylabel='Fuel Consumption (City (L/100 km)'>"
      ]
     },
     "execution_count": 55,
     "metadata": {},
     "output_type": "execute_result"
    },
    {
     "data": {
      "image/png": "[encoded data removed]",
      "text/plain": [
       "<Figure size 1440x396 with 1 Axes>"
      ]
     },
     "metadata": {
      "needs_background": "light"
     },
     "output_type": "display_data"
    }
   ],
   "source": [
    "sns.boxplot(y='Fuel Consumption (City (L/100 km)', data=df)"
   ]
  },
  {
   "cell_type": "code",
   "execution_count": 56,
   "id": "78841bdb",
   "metadata": {},
   "outputs": [
    {
     "name": "stdout",
     "output_type": "stream",
     "text": [
      "4.375\n",
      "21.1375\n",
      "3.6374999999999993\n"
     ]
    }
   ],
   "source": [
    "q25=df['Fuel Consumption (City (L/100 km)'].quantile(0.25)\n",
    "q75=df['Fuel Consumption (City (L/100 km)'].quantile(0.75)\n",
    "iqr=q75-q25\n",
    "print(iqr)\n",
    "upper_limit=q75+(1.5*iqr)\n",
    "print(upper_limit)\n",
    "lower_limit=q25-(1.5*iqr)\n",
    "print(lower_limit)"
   ]
  },
  {
   "cell_type": "code",
   "execution_count": 57,
   "id": "4b567d1a",
   "metadata": {},
   "outputs": [
    {
     "data": {
      "text/html": [
       "<div>\n",
       "<style scoped>\n",
       "    .dataframe tbody tr th:only-of-type {\n",
       "        vertical-align: middle;\n",
       "    }\n",
       "\n",
       "    .dataframe tbody tr th {\n",
       "        vertical-align: top;\n",
       "    }\n",
       "\n",
       "    .dataframe thead th {\n",
       "        text-align: right;\n",
       "    }\n",
       "</style>\n",
       "<table border=\"1\" class=\"dataframe\">\n",
       "  <thead>\n",
       "    <tr style=\"text-align: right;\">\n",
       "      <th></th>\n",
       "      <th>Model Year</th>\n",
       "      <th>Make</th>\n",
       "      <th>Model</th>\n",
       "      <th>Vehicle Class</th>\n",
       "      <th>Engine Size(L)</th>\n",
       "      <th>Cylinders</th>\n",
       "      <th>Transmission</th>\n",
       "      <th>Fuel Type</th>\n",
       "      <th>Fuel Consumption (City (L/100 km)</th>\n",
       "      <th>Fuel Consumption(Hwy (L/100 km))</th>\n",
       "      <th>Fuel Consumption(Comb (L/100 km))</th>\n",
       "      <th>Fuel Consumption(Comb (mpg))</th>\n",
       "      <th>CO2 Emissions(g/km)</th>\n",
       "      <th>CO2 Rating</th>\n",
       "      <th>Smog Rating</th>\n",
       "    </tr>\n",
       "  </thead>\n",
       "  <tbody>\n",
       "    <tr>\n",
       "      <th>0</th>\n",
       "      <td>2022</td>\n",
       "      <td>Acura</td>\n",
       "      <td>ILX</td>\n",
       "      <td>Compact</td>\n",
       "      <td>2.4</td>\n",
       "      <td>4</td>\n",
       "      <td>AM8</td>\n",
       "      <td>Z</td>\n",
       "      <td>12.5</td>\n",
       "      <td>7.0</td>\n",
       "      <td>8.6</td>\n",
       "      <td>33.0</td>\n",
       "      <td>200.0</td>\n",
       "      <td>6.0</td>\n",
       "      <td>3.0</td>\n",
       "    </tr>\n",
       "    <tr>\n",
       "      <th>1</th>\n",
       "      <td>2022</td>\n",
       "      <td>Acura</td>\n",
       "      <td>MDX SH-AWD</td>\n",
       "      <td>SUV: Small</td>\n",
       "      <td>3.5</td>\n",
       "      <td>6</td>\n",
       "      <td>AS10</td>\n",
       "      <td>Z</td>\n",
       "      <td>12.6</td>\n",
       "      <td>9.4</td>\n",
       "      <td>11.2</td>\n",
       "      <td>25.0</td>\n",
       "      <td>263.0</td>\n",
       "      <td>4.0</td>\n",
       "      <td>5.0</td>\n",
       "    </tr>\n",
       "    <tr>\n",
       "      <th>2</th>\n",
       "      <td>2022</td>\n",
       "      <td>Acura</td>\n",
       "      <td>RDX SH-AWD</td>\n",
       "      <td>SUV: Small</td>\n",
       "      <td>2.0</td>\n",
       "      <td>4</td>\n",
       "      <td>AS10</td>\n",
       "      <td>Z</td>\n",
       "      <td>11.0</td>\n",
       "      <td>8.6</td>\n",
       "      <td>9.9</td>\n",
       "      <td>29.0</td>\n",
       "      <td>232.0</td>\n",
       "      <td>5.0</td>\n",
       "      <td>6.0</td>\n",
       "    </tr>\n",
       "    <tr>\n",
       "      <th>3</th>\n",
       "      <td>2022</td>\n",
       "      <td>Acura</td>\n",
       "      <td>RDX SH-AWD A-SPEC</td>\n",
       "      <td>SUV: Small</td>\n",
       "      <td>2.0</td>\n",
       "      <td>4</td>\n",
       "      <td>AS10</td>\n",
       "      <td>Z</td>\n",
       "      <td>11.3</td>\n",
       "      <td>9.1</td>\n",
       "      <td>10.3</td>\n",
       "      <td>27.0</td>\n",
       "      <td>242.0</td>\n",
       "      <td>5.0</td>\n",
       "      <td>6.0</td>\n",
       "    </tr>\n",
       "    <tr>\n",
       "      <th>4</th>\n",
       "      <td>2022</td>\n",
       "      <td>Acura</td>\n",
       "      <td>TLX SH-AWD</td>\n",
       "      <td>Compact</td>\n",
       "      <td>2.0</td>\n",
       "      <td>4</td>\n",
       "      <td>AS10</td>\n",
       "      <td>Z</td>\n",
       "      <td>11.2</td>\n",
       "      <td>8.0</td>\n",
       "      <td>9.8</td>\n",
       "      <td>29.0</td>\n",
       "      <td>230.0</td>\n",
       "      <td>5.0</td>\n",
       "      <td>7.0</td>\n",
       "    </tr>\n",
       "    <tr>\n",
       "      <th>...</th>\n",
       "      <td>...</td>\n",
       "      <td>...</td>\n",
       "      <td>...</td>\n",
       "      <td>...</td>\n",
       "      <td>...</td>\n",
       "      <td>...</td>\n",
       "      <td>...</td>\n",
       "      <td>...</td>\n",
       "      <td>...</td>\n",
       "      <td>...</td>\n",
       "      <td>...</td>\n",
       "      <td>...</td>\n",
       "      <td>...</td>\n",
       "      <td>...</td>\n",
       "      <td>...</td>\n",
       "    </tr>\n",
       "    <tr>\n",
       "      <th>940</th>\n",
       "      <td>2022</td>\n",
       "      <td>Volvo</td>\n",
       "      <td>XC40 T5 AWD</td>\n",
       "      <td>SUV: Small</td>\n",
       "      <td>2.0</td>\n",
       "      <td>4</td>\n",
       "      <td>AS8</td>\n",
       "      <td>Z</td>\n",
       "      <td>10.7</td>\n",
       "      <td>7.7</td>\n",
       "      <td>9.4</td>\n",
       "      <td>30.0</td>\n",
       "      <td>219.0</td>\n",
       "      <td>5.0</td>\n",
       "      <td>5.0</td>\n",
       "    </tr>\n",
       "    <tr>\n",
       "      <th>941</th>\n",
       "      <td>2022</td>\n",
       "      <td>Volvo</td>\n",
       "      <td>XC60 B5 AWD</td>\n",
       "      <td>SUV: Small</td>\n",
       "      <td>2.0</td>\n",
       "      <td>4</td>\n",
       "      <td>AS8</td>\n",
       "      <td>Z</td>\n",
       "      <td>10.5</td>\n",
       "      <td>8.1</td>\n",
       "      <td>9.4</td>\n",
       "      <td>30.0</td>\n",
       "      <td>219.0</td>\n",
       "      <td>5.0</td>\n",
       "      <td>5.0</td>\n",
       "    </tr>\n",
       "    <tr>\n",
       "      <th>942</th>\n",
       "      <td>2022</td>\n",
       "      <td>Volvo</td>\n",
       "      <td>XC60 B6 AWD</td>\n",
       "      <td>SUV: Small</td>\n",
       "      <td>2.0</td>\n",
       "      <td>4</td>\n",
       "      <td>AS8</td>\n",
       "      <td>Z</td>\n",
       "      <td>11.0</td>\n",
       "      <td>8.7</td>\n",
       "      <td>9.9</td>\n",
       "      <td>29.0</td>\n",
       "      <td>232.0</td>\n",
       "      <td>5.0</td>\n",
       "      <td>5.0</td>\n",
       "    </tr>\n",
       "    <tr>\n",
       "      <th>943</th>\n",
       "      <td>2022</td>\n",
       "      <td>Volvo</td>\n",
       "      <td>XC90 T5 AWD</td>\n",
       "      <td>SUV: Standard</td>\n",
       "      <td>2.0</td>\n",
       "      <td>4</td>\n",
       "      <td>AS8</td>\n",
       "      <td>Z</td>\n",
       "      <td>11.5</td>\n",
       "      <td>8.4</td>\n",
       "      <td>10.1</td>\n",
       "      <td>28.0</td>\n",
       "      <td>236.0</td>\n",
       "      <td>5.0</td>\n",
       "      <td>5.0</td>\n",
       "    </tr>\n",
       "    <tr>\n",
       "      <th>944</th>\n",
       "      <td>2022</td>\n",
       "      <td>Volvo</td>\n",
       "      <td>XC90 T6 AWD</td>\n",
       "      <td>SUV: Standard</td>\n",
       "      <td>2.0</td>\n",
       "      <td>4</td>\n",
       "      <td>AS8</td>\n",
       "      <td>Z</td>\n",
       "      <td>12.5</td>\n",
       "      <td>8.9</td>\n",
       "      <td>10.8</td>\n",
       "      <td>26.0</td>\n",
       "      <td>252.0</td>\n",
       "      <td>5.0</td>\n",
       "      <td>7.0</td>\n",
       "    </tr>\n",
       "  </tbody>\n",
       "</table>\n",
       "<p>924 rows × 15 columns</p>\n",
       "</div>"
      ],
      "text/plain": [
       "     Model Year   Make              Model  Vehicle Class  Engine Size(L)  \\\n",
       "0          2022  Acura                ILX        Compact             2.4   \n",
       "1          2022  Acura         MDX SH-AWD     SUV: Small             3.5   \n",
       "2          2022  Acura         RDX SH-AWD     SUV: Small             2.0   \n",
       "3          2022  Acura  RDX SH-AWD A-SPEC     SUV: Small             2.0   \n",
       "4          2022  Acura         TLX SH-AWD        Compact             2.0   \n",
       "..          ...    ...                ...            ...             ...   \n",
       "940        2022  Volvo        XC40 T5 AWD     SUV: Small             2.0   \n",
       "941        2022  Volvo        XC60 B5 AWD     SUV: Small             2.0   \n",
       "942        2022  Volvo        XC60 B6 AWD     SUV: Small             2.0   \n",
       "943        2022  Volvo        XC90 T5 AWD  SUV: Standard             2.0   \n",
       "944        2022  Volvo        XC90 T6 AWD  SUV: Standard             2.0   \n",
       "\n",
       "     Cylinders Transmission Fuel Type  Fuel Consumption (City (L/100 km)  \\\n",
       "0            4          AM8         Z                               12.5   \n",
       "1            6         AS10         Z                               12.6   \n",
       "2            4         AS10         Z                               11.0   \n",
       "3            4         AS10         Z                               11.3   \n",
       "4            4         AS10         Z                               11.2   \n",
       "..         ...          ...       ...                                ...   \n",
       "940          4          AS8         Z                               10.7   \n",
       "941          4          AS8         Z                               10.5   \n",
       "942          4          AS8         Z                               11.0   \n",
       "943          4          AS8         Z                               11.5   \n",
       "944          4          AS8         Z                               12.5   \n",
       "\n",
       "     Fuel Consumption(Hwy (L/100 km))  Fuel Consumption(Comb (L/100 km))  \\\n",
       "0                                 7.0                                8.6   \n",
       "1                                 9.4                               11.2   \n",
       "2                                 8.6                                9.9   \n",
       "3                                 9.1                               10.3   \n",
       "4                                 8.0                                9.8   \n",
       "..                                ...                                ...   \n",
       "940                               7.7                                9.4   \n",
       "941                               8.1                                9.4   \n",
       "942                               8.7                                9.9   \n",
       "943                               8.4                               10.1   \n",
       "944                               8.9                               10.8   \n",
       "\n",
       "     Fuel Consumption(Comb (mpg))  CO2 Emissions(g/km)  CO2 Rating  \\\n",
       "0                            33.0                200.0         6.0   \n",
       "1                            25.0                263.0         4.0   \n",
       "2                            29.0                232.0         5.0   \n",
       "3                            27.0                242.0         5.0   \n",
       "4                            29.0                230.0         5.0   \n",
       "..                            ...                  ...         ...   \n",
       "940                          30.0                219.0         5.0   \n",
       "941                          30.0                219.0         5.0   \n",
       "942                          29.0                232.0         5.0   \n",
       "943                          28.0                236.0         5.0   \n",
       "944                          26.0                252.0         5.0   \n",
       "\n",
       "     Smog Rating  \n",
       "0            3.0  \n",
       "1            5.0  \n",
       "2            6.0  \n",
       "3            6.0  \n",
       "4            7.0  \n",
       "..           ...  \n",
       "940          5.0  \n",
       "941          5.0  \n",
       "942          5.0  \n",
       "943          5.0  \n",
       "944          7.0  \n",
       "\n",
       "[924 rows x 15 columns]"
      ]
     },
     "execution_count": 57,
     "metadata": {},
     "output_type": "execute_result"
    }
   ],
   "source": [
    "df=df[(df['Fuel Consumption (City (L/100 km)']>=lower_limit) & (df['Fuel Consumption (City (L/100 km)']<=upper_limit)]\n",
    "df"
   ]
  },
  {
   "cell_type": "code",
   "execution_count": 58,
   "id": "ccc82335",
   "metadata": {},
   "outputs": [
    {
     "data": {
      "text/plain": [
       "<AxesSubplot:ylabel='Fuel Consumption (City (L/100 km)'>"
      ]
     },
     "execution_count": 58,
     "metadata": {},
     "output_type": "execute_result"
    },
    {
     "data": {
      "image/png": "[encoded data removed]",
      "text/plain": [
       "<Figure size 1440x396 with 1 Axes>"
      ]
     },
     "metadata": {
      "needs_background": "light"
     },
     "output_type": "display_data"
    }
   ],
   "source": [
    "sns.boxplot(y='Fuel Consumption (City (L/100 km)', data=df)"
   ]
  },
  {
   "cell_type": "markdown",
   "id": "301eae9e",
   "metadata": {},
   "source": [
    "### Fuel Consumption(Hwy (L/100 km))"
   ]
  },
  {
   "cell_type": "code",
   "execution_count": 59,
   "id": "26d3991e",
   "metadata": {},
   "outputs": [
    {
     "data": {
      "text/plain": [
       "(924, 15)"
      ]
     },
     "execution_count": 59,
     "metadata": {},
     "output_type": "execute_result"
    }
   ],
   "source": [
    "df.shape"
   ]
  },
  {
   "cell_type": "code",
   "execution_count": 60,
   "id": "7830a607",
   "metadata": {},
   "outputs": [
    {
     "data": {
      "text/plain": [
       "<AxesSubplot:ylabel='Fuel Consumption(Hwy (L/100 km))'>"
      ]
     },
     "execution_count": 60,
     "metadata": {},
     "output_type": "execute_result"
    },
    {
     "data": {
      "image/png": "[encoded data removed]",
      "text/plain": [
       "<Figure size 1440x396 with 1 Axes>"
      ]
     },
     "metadata": {
      "needs_background": "light"
     },
     "output_type": "display_data"
    }
   ],
   "source": [
    "sns.boxplot(y='Fuel Consumption(Hwy (L/100 km))', data=df)"
   ]
  },
  {
   "cell_type": "code",
   "execution_count": 61,
   "id": "776af270",
   "metadata": {},
   "outputs": [
    {
     "name": "stdout",
     "output_type": "stream",
     "text": [
      "2.8\n",
      "14.7\n",
      "3.500000000000001\n"
     ]
    }
   ],
   "source": [
    "q25=df['Fuel Consumption(Hwy (L/100 km))'].quantile(0.25)\n",
    "q75=df['Fuel Consumption(Hwy (L/100 km))'].quantile(0.75)\n",
    "iqr=q75-q25\n",
    "print(iqr)\n",
    "upper_limit=q75+(1.5*iqr)\n",
    "print(upper_limit)\n",
    "lower_limit=q25-(1.5*iqr)\n",
    "print(lower_limit)"
   ]
  },
  {
   "cell_type": "code",
   "execution_count": 62,
   "id": "14cf4352",
   "metadata": {},
   "outputs": [
    {
     "data": {
      "text/html": [
       "<div>\n",
       "<style scoped>\n",
       "    .dataframe tbody tr th:only-of-type {\n",
       "        vertical-align: middle;\n",
       "    }\n",
       "\n",
       "    .dataframe tbody tr th {\n",
       "        vertical-align: top;\n",
       "    }\n",
       "\n",
       "    .dataframe thead th {\n",
       "        text-align: right;\n",
       "    }\n",
       "</style>\n",
       "<table border=\"1\" class=\"dataframe\">\n",
       "  <thead>\n",
       "    <tr style=\"text-align: right;\">\n",
       "      <th></th>\n",
       "      <th>Model Year</th>\n",
       "      <th>Make</th>\n",
       "      <th>Model</th>\n",
       "      <th>Vehicle Class</th>\n",
       "      <th>Engine Size(L)</th>\n",
       "      <th>Cylinders</th>\n",
       "      <th>Transmission</th>\n",
       "      <th>Fuel Type</th>\n",
       "      <th>Fuel Consumption (City (L/100 km)</th>\n",
       "      <th>Fuel Consumption(Hwy (L/100 km))</th>\n",
       "      <th>Fuel Consumption(Comb (L/100 km))</th>\n",
       "      <th>Fuel Consumption(Comb (mpg))</th>\n",
       "      <th>CO2 Emissions(g/km)</th>\n",
       "      <th>CO2 Rating</th>\n",
       "      <th>Smog Rating</th>\n",
       "    </tr>\n",
       "  </thead>\n",
       "  <tbody>\n",
       "    <tr>\n",
       "      <th>0</th>\n",
       "      <td>2022</td>\n",
       "      <td>Acura</td>\n",
       "      <td>ILX</td>\n",
       "      <td>Compact</td>\n",
       "      <td>2.4</td>\n",
       "      <td>4</td>\n",
       "      <td>AM8</td>\n",
       "      <td>Z</td>\n",
       "      <td>12.5</td>\n",
       "      <td>7.0</td>\n",
       "      <td>8.6</td>\n",
       "      <td>33.0</td>\n",
       "      <td>200.0</td>\n",
       "      <td>6.0</td>\n",
       "      <td>3.0</td>\n",
       "    </tr>\n",
       "    <tr>\n",
       "      <th>1</th>\n",
       "      <td>2022</td>\n",
       "      <td>Acura</td>\n",
       "      <td>MDX SH-AWD</td>\n",
       "      <td>SUV: Small</td>\n",
       "      <td>3.5</td>\n",
       "      <td>6</td>\n",
       "      <td>AS10</td>\n",
       "      <td>Z</td>\n",
       "      <td>12.6</td>\n",
       "      <td>9.4</td>\n",
       "      <td>11.2</td>\n",
       "      <td>25.0</td>\n",
       "      <td>263.0</td>\n",
       "      <td>4.0</td>\n",
       "      <td>5.0</td>\n",
       "    </tr>\n",
       "    <tr>\n",
       "      <th>2</th>\n",
       "      <td>2022</td>\n",
       "      <td>Acura</td>\n",
       "      <td>RDX SH-AWD</td>\n",
       "      <td>SUV: Small</td>\n",
       "      <td>2.0</td>\n",
       "      <td>4</td>\n",
       "      <td>AS10</td>\n",
       "      <td>Z</td>\n",
       "      <td>11.0</td>\n",
       "      <td>8.6</td>\n",
       "      <td>9.9</td>\n",
       "      <td>29.0</td>\n",
       "      <td>232.0</td>\n",
       "      <td>5.0</td>\n",
       "      <td>6.0</td>\n",
       "    </tr>\n",
       "    <tr>\n",
       "      <th>3</th>\n",
       "      <td>2022</td>\n",
       "      <td>Acura</td>\n",
       "      <td>RDX SH-AWD A-SPEC</td>\n",
       "      <td>SUV: Small</td>\n",
       "      <td>2.0</td>\n",
       "      <td>4</td>\n",
       "      <td>AS10</td>\n",
       "      <td>Z</td>\n",
       "      <td>11.3</td>\n",
       "      <td>9.1</td>\n",
       "      <td>10.3</td>\n",
       "      <td>27.0</td>\n",
       "      <td>242.0</td>\n",
       "      <td>5.0</td>\n",
       "      <td>6.0</td>\n",
       "    </tr>\n",
       "    <tr>\n",
       "      <th>4</th>\n",
       "      <td>2022</td>\n",
       "      <td>Acura</td>\n",
       "      <td>TLX SH-AWD</td>\n",
       "      <td>Compact</td>\n",
       "      <td>2.0</td>\n",
       "      <td>4</td>\n",
       "      <td>AS10</td>\n",
       "      <td>Z</td>\n",
       "      <td>11.2</td>\n",
       "      <td>8.0</td>\n",
       "      <td>9.8</td>\n",
       "      <td>29.0</td>\n",
       "      <td>230.0</td>\n",
       "      <td>5.0</td>\n",
       "      <td>7.0</td>\n",
       "    </tr>\n",
       "    <tr>\n",
       "      <th>...</th>\n",
       "      <td>...</td>\n",
       "      <td>...</td>\n",
       "      <td>...</td>\n",
       "      <td>...</td>\n",
       "      <td>...</td>\n",
       "      <td>...</td>\n",
       "      <td>...</td>\n",
       "      <td>...</td>\n",
       "      <td>...</td>\n",
       "      <td>...</td>\n",
       "      <td>...</td>\n",
       "      <td>...</td>\n",
       "      <td>...</td>\n",
       "      <td>...</td>\n",
       "      <td>...</td>\n",
       "    </tr>\n",
       "    <tr>\n",
       "      <th>940</th>\n",
       "      <td>2022</td>\n",
       "      <td>Volvo</td>\n",
       "      <td>XC40 T5 AWD</td>\n",
       "      <td>SUV: Small</td>\n",
       "      <td>2.0</td>\n",
       "      <td>4</td>\n",
       "      <td>AS8</td>\n",
       "      <td>Z</td>\n",
       "      <td>10.7</td>\n",
       "      <td>7.7</td>\n",
       "      <td>9.4</td>\n",
       "      <td>30.0</td>\n",
       "      <td>219.0</td>\n",
       "      <td>5.0</td>\n",
       "      <td>5.0</td>\n",
       "    </tr>\n",
       "    <tr>\n",
       "      <th>941</th>\n",
       "      <td>2022</td>\n",
       "      <td>Volvo</td>\n",
       "      <td>XC60 B5 AWD</td>\n",
       "      <td>SUV: Small</td>\n",
       "      <td>2.0</td>\n",
       "      <td>4</td>\n",
       "      <td>AS8</td>\n",
       "      <td>Z</td>\n",
       "      <td>10.5</td>\n",
       "      <td>8.1</td>\n",
       "      <td>9.4</td>\n",
       "      <td>30.0</td>\n",
       "      <td>219.0</td>\n",
       "      <td>5.0</td>\n",
       "      <td>5.0</td>\n",
       "    </tr>\n",
       "    <tr>\n",
       "      <th>942</th>\n",
       "      <td>2022</td>\n",
       "      <td>Volvo</td>\n",
       "      <td>XC60 B6 AWD</td>\n",
       "      <td>SUV: Small</td>\n",
       "      <td>2.0</td>\n",
       "      <td>4</td>\n",
       "      <td>AS8</td>\n",
       "      <td>Z</td>\n",
       "      <td>11.0</td>\n",
       "      <td>8.7</td>\n",
       "      <td>9.9</td>\n",
       "      <td>29.0</td>\n",
       "      <td>232.0</td>\n",
       "      <td>5.0</td>\n",
       "      <td>5.0</td>\n",
       "    </tr>\n",
       "    <tr>\n",
       "      <th>943</th>\n",
       "      <td>2022</td>\n",
       "      <td>Volvo</td>\n",
       "      <td>XC90 T5 AWD</td>\n",
       "      <td>SUV: Standard</td>\n",
       "      <td>2.0</td>\n",
       "      <td>4</td>\n",
       "      <td>AS8</td>\n",
       "      <td>Z</td>\n",
       "      <td>11.5</td>\n",
       "      <td>8.4</td>\n",
       "      <td>10.1</td>\n",
       "      <td>28.0</td>\n",
       "      <td>236.0</td>\n",
       "      <td>5.0</td>\n",
       "      <td>5.0</td>\n",
       "    </tr>\n",
       "    <tr>\n",
       "      <th>944</th>\n",
       "      <td>2022</td>\n",
       "      <td>Volvo</td>\n",
       "      <td>XC90 T6 AWD</td>\n",
       "      <td>SUV: Standard</td>\n",
       "      <td>2.0</td>\n",
       "      <td>4</td>\n",
       "      <td>AS8</td>\n",
       "      <td>Z</td>\n",
       "      <td>12.5</td>\n",
       "      <td>8.9</td>\n",
       "      <td>10.8</td>\n",
       "      <td>26.0</td>\n",
       "      <td>252.0</td>\n",
       "      <td>5.0</td>\n",
       "      <td>7.0</td>\n",
       "    </tr>\n",
       "  </tbody>\n",
       "</table>\n",
       "<p>922 rows × 15 columns</p>\n",
       "</div>"
      ],
      "text/plain": [
       "     Model Year   Make              Model  Vehicle Class  Engine Size(L)  \\\n",
       "0          2022  Acura                ILX        Compact             2.4   \n",
       "1          2022  Acura         MDX SH-AWD     SUV: Small             3.5   \n",
       "2          2022  Acura         RDX SH-AWD     SUV: Small             2.0   \n",
       "3          2022  Acura  RDX SH-AWD A-SPEC     SUV: Small             2.0   \n",
       "4          2022  Acura         TLX SH-AWD        Compact             2.0   \n",
       "..          ...    ...                ...            ...             ...   \n",
       "940        2022  Volvo        XC40 T5 AWD     SUV: Small             2.0   \n",
       "941        2022  Volvo        XC60 B5 AWD     SUV: Small             2.0   \n",
       "942        2022  Volvo        XC60 B6 AWD     SUV: Small             2.0   \n",
       "943        2022  Volvo        XC90 T5 AWD  SUV: Standard             2.0   \n",
       "944        2022  Volvo        XC90 T6 AWD  SUV: Standard             2.0   \n",
       "\n",
       "     Cylinders Transmission Fuel Type  Fuel Consumption (City (L/100 km)  \\\n",
       "0            4          AM8         Z                               12.5   \n",
       "1            6         AS10         Z                               12.6   \n",
       "2            4         AS10         Z                               11.0   \n",
       "3            4         AS10         Z                               11.3   \n",
       "4            4         AS10         Z                               11.2   \n",
       "..         ...          ...       ...                                ...   \n",
       "940          4          AS8         Z                               10.7   \n",
       "941          4          AS8         Z                               10.5   \n",
       "942          4          AS8         Z                               11.0   \n",
       "943          4          AS8         Z                               11.5   \n",
       "944          4          AS8         Z                               12.5   \n",
       "\n",
       "     Fuel Consumption(Hwy (L/100 km))  Fuel Consumption(Comb (L/100 km))  \\\n",
       "0                                 7.0                                8.6   \n",
       "1                                 9.4                               11.2   \n",
       "2                                 8.6                                9.9   \n",
       "3                                 9.1                               10.3   \n",
       "4                                 8.0                                9.8   \n",
       "..                                ...                                ...   \n",
       "940                               7.7                                9.4   \n",
       "941                               8.1                                9.4   \n",
       "942                               8.7                                9.9   \n",
       "943                               8.4                               10.1   \n",
       "944                               8.9                               10.8   \n",
       "\n",
       "     Fuel Consumption(Comb (mpg))  CO2 Emissions(g/km)  CO2 Rating  \\\n",
       "0                            33.0                200.0         6.0   \n",
       "1                            25.0                263.0         4.0   \n",
       "2                            29.0                232.0         5.0   \n",
       "3                            27.0                242.0         5.0   \n",
       "4                            29.0                230.0         5.0   \n",
       "..                            ...                  ...         ...   \n",
       "940                          30.0                219.0         5.0   \n",
       "941                          30.0                219.0         5.0   \n",
       "942                          29.0                232.0         5.0   \n",
       "943                          28.0                236.0         5.0   \n",
       "944                          26.0                252.0         5.0   \n",
       "\n",
       "     Smog Rating  \n",
       "0            3.0  \n",
       "1            5.0  \n",
       "2            6.0  \n",
       "3            6.0  \n",
       "4            7.0  \n",
       "..           ...  \n",
       "940          5.0  \n",
       "941          5.0  \n",
       "942          5.0  \n",
       "943          5.0  \n",
       "944          7.0  \n",
       "\n",
       "[922 rows x 15 columns]"
      ]
     },
     "execution_count": 62,
     "metadata": {},
     "output_type": "execute_result"
    }
   ],
   "source": [
    "df=df[(df['Fuel Consumption(Hwy (L/100 km))']>=lower_limit) & (df['Fuel Consumption(Hwy (L/100 km))']<=upper_limit)]\n",
    "df"
   ]
  },
  {
   "cell_type": "code",
   "execution_count": 63,
   "id": "225deca1",
   "metadata": {},
   "outputs": [
    {
     "data": {
      "text/plain": [
       "<AxesSubplot:ylabel='Fuel Consumption(Hwy (L/100 km))'>"
      ]
     },
     "execution_count": 63,
     "metadata": {},
     "output_type": "execute_result"
    },
    {
     "data": {
      "image/png": "[encoded data removed]",
      "text/plain": [
       "<Figure size 1440x396 with 1 Axes>"
      ]
     },
     "metadata": {
      "needs_background": "light"
     },
     "output_type": "display_data"
    }
   ],
   "source": [
    "sns.boxplot(y='Fuel Consumption(Hwy (L/100 km))', data=df)"
   ]
  },
  {
   "cell_type": "markdown",
   "id": "a719e68b",
   "metadata": {},
   "source": [
    "### Fuel Consumption(Comb (L/100 km))"
   ]
  },
  {
   "cell_type": "code",
   "execution_count": 64,
   "id": "7e39e8cc",
   "metadata": {},
   "outputs": [
    {
     "data": {
      "text/plain": [
       "<AxesSubplot:ylabel='Fuel Consumption(Comb (L/100 km))'>"
      ]
     },
     "execution_count": 64,
     "metadata": {},
     "output_type": "execute_result"
    },
    {
     "data": {
      "image/png": "[encoded data removed]",
      "text/plain": [
       "<Figure size 1440x396 with 1 Axes>"
      ]
     },
     "metadata": {
      "needs_background": "light"
     },
     "output_type": "display_data"
    }
   ],
   "source": [
    "sns.boxplot(y='Fuel Consumption(Comb (L/100 km))', data=df)"
   ]
  },
  {
   "cell_type": "markdown",
   "id": "80305046",
   "metadata": {},
   "source": [
    "### Fuel Consumption(Comb (mpg))"
   ]
  },
  {
   "cell_type": "code",
   "execution_count": 65,
   "id": "dc6d2c69",
   "metadata": {},
   "outputs": [
    {
     "data": {
      "text/plain": [
       "<AxesSubplot:ylabel='Fuel Consumption(Comb (mpg))'>"
      ]
     },
     "execution_count": 65,
     "metadata": {},
     "output_type": "execute_result"
    },
    {
     "data": {
      "image/png": "[encoded data removed]",
      "text/plain": [
       "<Figure size 1440x396 with 1 Axes>"
      ]
     },
     "metadata": {
      "needs_background": "light"
     },
     "output_type": "display_data"
    }
   ],
   "source": [
    "sns.boxplot(y='Fuel Consumption(Comb (mpg))', data=df)"
   ]
  },
  {
   "cell_type": "code",
   "execution_count": 66,
   "id": "7af6efc6",
   "metadata": {},
   "outputs": [
    {
     "name": "stdout",
     "output_type": "stream",
     "text": [
      "9.0\n",
      "44.5\n",
      "8.5\n"
     ]
    }
   ],
   "source": [
    "q25=df['Fuel Consumption(Comb (mpg))'].quantile(0.25)\n",
    "q75=df['Fuel Consumption(Comb (mpg))'].quantile(0.75)\n",
    "iqr=q75-q25\n",
    "print(iqr)\n",
    "upper_limit=q75+(1.5*iqr)\n",
    "print(upper_limit)\n",
    "lower_limit=q25-(1.5*iqr)\n",
    "print(lower_limit)"
   ]
  },
  {
   "cell_type": "code",
   "execution_count": 67,
   "id": "6003f38d",
   "metadata": {},
   "outputs": [
    {
     "data": {
      "text/html": [
       "<div>\n",
       "<style scoped>\n",
       "    .dataframe tbody tr th:only-of-type {\n",
       "        vertical-align: middle;\n",
       "    }\n",
       "\n",
       "    .dataframe tbody tr th {\n",
       "        vertical-align: top;\n",
       "    }\n",
       "\n",
       "    .dataframe thead th {\n",
       "        text-align: right;\n",
       "    }\n",
       "</style>\n",
       "<table border=\"1\" class=\"dataframe\">\n",
       "  <thead>\n",
       "    <tr style=\"text-align: right;\">\n",
       "      <th></th>\n",
       "      <th>Model Year</th>\n",
       "      <th>Make</th>\n",
       "      <th>Model</th>\n",
       "      <th>Vehicle Class</th>\n",
       "      <th>Engine Size(L)</th>\n",
       "      <th>Cylinders</th>\n",
       "      <th>Transmission</th>\n",
       "      <th>Fuel Type</th>\n",
       "      <th>Fuel Consumption (City (L/100 km)</th>\n",
       "      <th>Fuel Consumption(Hwy (L/100 km))</th>\n",
       "      <th>Fuel Consumption(Comb (L/100 km))</th>\n",
       "      <th>Fuel Consumption(Comb (mpg))</th>\n",
       "      <th>CO2 Emissions(g/km)</th>\n",
       "      <th>CO2 Rating</th>\n",
       "      <th>Smog Rating</th>\n",
       "    </tr>\n",
       "  </thead>\n",
       "  <tbody>\n",
       "    <tr>\n",
       "      <th>0</th>\n",
       "      <td>2022</td>\n",
       "      <td>Acura</td>\n",
       "      <td>ILX</td>\n",
       "      <td>Compact</td>\n",
       "      <td>2.4</td>\n",
       "      <td>4</td>\n",
       "      <td>AM8</td>\n",
       "      <td>Z</td>\n",
       "      <td>12.5</td>\n",
       "      <td>7.0</td>\n",
       "      <td>8.6</td>\n",
       "      <td>33.0</td>\n",
       "      <td>200.0</td>\n",
       "      <td>6.0</td>\n",
       "      <td>3.0</td>\n",
       "    </tr>\n",
       "    <tr>\n",
       "      <th>1</th>\n",
       "      <td>2022</td>\n",
       "      <td>Acura</td>\n",
       "      <td>MDX SH-AWD</td>\n",
       "      <td>SUV: Small</td>\n",
       "      <td>3.5</td>\n",
       "      <td>6</td>\n",
       "      <td>AS10</td>\n",
       "      <td>Z</td>\n",
       "      <td>12.6</td>\n",
       "      <td>9.4</td>\n",
       "      <td>11.2</td>\n",
       "      <td>25.0</td>\n",
       "      <td>263.0</td>\n",
       "      <td>4.0</td>\n",
       "      <td>5.0</td>\n",
       "    </tr>\n",
       "    <tr>\n",
       "      <th>2</th>\n",
       "      <td>2022</td>\n",
       "      <td>Acura</td>\n",
       "      <td>RDX SH-AWD</td>\n",
       "      <td>SUV: Small</td>\n",
       "      <td>2.0</td>\n",
       "      <td>4</td>\n",
       "      <td>AS10</td>\n",
       "      <td>Z</td>\n",
       "      <td>11.0</td>\n",
       "      <td>8.6</td>\n",
       "      <td>9.9</td>\n",
       "      <td>29.0</td>\n",
       "      <td>232.0</td>\n",
       "      <td>5.0</td>\n",
       "      <td>6.0</td>\n",
       "    </tr>\n",
       "    <tr>\n",
       "      <th>3</th>\n",
       "      <td>2022</td>\n",
       "      <td>Acura</td>\n",
       "      <td>RDX SH-AWD A-SPEC</td>\n",
       "      <td>SUV: Small</td>\n",
       "      <td>2.0</td>\n",
       "      <td>4</td>\n",
       "      <td>AS10</td>\n",
       "      <td>Z</td>\n",
       "      <td>11.3</td>\n",
       "      <td>9.1</td>\n",
       "      <td>10.3</td>\n",
       "      <td>27.0</td>\n",
       "      <td>242.0</td>\n",
       "      <td>5.0</td>\n",
       "      <td>6.0</td>\n",
       "    </tr>\n",
       "    <tr>\n",
       "      <th>4</th>\n",
       "      <td>2022</td>\n",
       "      <td>Acura</td>\n",
       "      <td>TLX SH-AWD</td>\n",
       "      <td>Compact</td>\n",
       "      <td>2.0</td>\n",
       "      <td>4</td>\n",
       "      <td>AS10</td>\n",
       "      <td>Z</td>\n",
       "      <td>11.2</td>\n",
       "      <td>8.0</td>\n",
       "      <td>9.8</td>\n",
       "      <td>29.0</td>\n",
       "      <td>230.0</td>\n",
       "      <td>5.0</td>\n",
       "      <td>7.0</td>\n",
       "    </tr>\n",
       "    <tr>\n",
       "      <th>...</th>\n",
       "      <td>...</td>\n",
       "      <td>...</td>\n",
       "      <td>...</td>\n",
       "      <td>...</td>\n",
       "      <td>...</td>\n",
       "      <td>...</td>\n",
       "      <td>...</td>\n",
       "      <td>...</td>\n",
       "      <td>...</td>\n",
       "      <td>...</td>\n",
       "      <td>...</td>\n",
       "      <td>...</td>\n",
       "      <td>...</td>\n",
       "      <td>...</td>\n",
       "      <td>...</td>\n",
       "    </tr>\n",
       "    <tr>\n",
       "      <th>940</th>\n",
       "      <td>2022</td>\n",
       "      <td>Volvo</td>\n",
       "      <td>XC40 T5 AWD</td>\n",
       "      <td>SUV: Small</td>\n",
       "      <td>2.0</td>\n",
       "      <td>4</td>\n",
       "      <td>AS8</td>\n",
       "      <td>Z</td>\n",
       "      <td>10.7</td>\n",
       "      <td>7.7</td>\n",
       "      <td>9.4</td>\n",
       "      <td>30.0</td>\n",
       "      <td>219.0</td>\n",
       "      <td>5.0</td>\n",
       "      <td>5.0</td>\n",
       "    </tr>\n",
       "    <tr>\n",
       "      <th>941</th>\n",
       "      <td>2022</td>\n",
       "      <td>Volvo</td>\n",
       "      <td>XC60 B5 AWD</td>\n",
       "      <td>SUV: Small</td>\n",
       "      <td>2.0</td>\n",
       "      <td>4</td>\n",
       "      <td>AS8</td>\n",
       "      <td>Z</td>\n",
       "      <td>10.5</td>\n",
       "      <td>8.1</td>\n",
       "      <td>9.4</td>\n",
       "      <td>30.0</td>\n",
       "      <td>219.0</td>\n",
       "      <td>5.0</td>\n",
       "      <td>5.0</td>\n",
       "    </tr>\n",
       "    <tr>\n",
       "      <th>942</th>\n",
       "      <td>2022</td>\n",
       "      <td>Volvo</td>\n",
       "      <td>XC60 B6 AWD</td>\n",
       "      <td>SUV: Small</td>\n",
       "      <td>2.0</td>\n",
       "      <td>4</td>\n",
       "      <td>AS8</td>\n",
       "      <td>Z</td>\n",
       "      <td>11.0</td>\n",
       "      <td>8.7</td>\n",
       "      <td>9.9</td>\n",
       "      <td>29.0</td>\n",
       "      <td>232.0</td>\n",
       "      <td>5.0</td>\n",
       "      <td>5.0</td>\n",
       "    </tr>\n",
       "    <tr>\n",
       "      <th>943</th>\n",
       "      <td>2022</td>\n",
       "      <td>Volvo</td>\n",
       "      <td>XC90 T5 AWD</td>\n",
       "      <td>SUV: Standard</td>\n",
       "      <td>2.0</td>\n",
       "      <td>4</td>\n",
       "      <td>AS8</td>\n",
       "      <td>Z</td>\n",
       "      <td>11.5</td>\n",
       "      <td>8.4</td>\n",
       "      <td>10.1</td>\n",
       "      <td>28.0</td>\n",
       "      <td>236.0</td>\n",
       "      <td>5.0</td>\n",
       "      <td>5.0</td>\n",
       "    </tr>\n",
       "    <tr>\n",
       "      <th>944</th>\n",
       "      <td>2022</td>\n",
       "      <td>Volvo</td>\n",
       "      <td>XC90 T6 AWD</td>\n",
       "      <td>SUV: Standard</td>\n",
       "      <td>2.0</td>\n",
       "      <td>4</td>\n",
       "      <td>AS8</td>\n",
       "      <td>Z</td>\n",
       "      <td>12.5</td>\n",
       "      <td>8.9</td>\n",
       "      <td>10.8</td>\n",
       "      <td>26.0</td>\n",
       "      <td>252.0</td>\n",
       "      <td>5.0</td>\n",
       "      <td>7.0</td>\n",
       "    </tr>\n",
       "  </tbody>\n",
       "</table>\n",
       "<p>899 rows × 15 columns</p>\n",
       "</div>"
      ],
      "text/plain": [
       "     Model Year   Make              Model  Vehicle Class  Engine Size(L)  \\\n",
       "0          2022  Acura                ILX        Compact             2.4   \n",
       "1          2022  Acura         MDX SH-AWD     SUV: Small             3.5   \n",
       "2          2022  Acura         RDX SH-AWD     SUV: Small             2.0   \n",
       "3          2022  Acura  RDX SH-AWD A-SPEC     SUV: Small             2.0   \n",
       "4          2022  Acura         TLX SH-AWD        Compact             2.0   \n",
       "..          ...    ...                ...            ...             ...   \n",
       "940        2022  Volvo        XC40 T5 AWD     SUV: Small             2.0   \n",
       "941        2022  Volvo        XC60 B5 AWD     SUV: Small             2.0   \n",
       "942        2022  Volvo        XC60 B6 AWD     SUV: Small             2.0   \n",
       "943        2022  Volvo        XC90 T5 AWD  SUV: Standard             2.0   \n",
       "944        2022  Volvo        XC90 T6 AWD  SUV: Standard             2.0   \n",
       "\n",
       "     Cylinders Transmission Fuel Type  Fuel Consumption (City (L/100 km)  \\\n",
       "0            4          AM8         Z                               12.5   \n",
       "1            6         AS10         Z                               12.6   \n",
       "2            4         AS10         Z                               11.0   \n",
       "3            4         AS10         Z                               11.3   \n",
       "4            4         AS10         Z                               11.2   \n",
       "..         ...          ...       ...                                ...   \n",
       "940          4          AS8         Z                               10.7   \n",
       "941          4          AS8         Z                               10.5   \n",
       "942          4          AS8         Z                               11.0   \n",
       "943          4          AS8         Z                               11.5   \n",
       "944          4          AS8         Z                               12.5   \n",
       "\n",
       "     Fuel Consumption(Hwy (L/100 km))  Fuel Consumption(Comb (L/100 km))  \\\n",
       "0                                 7.0                                8.6   \n",
       "1                                 9.4                               11.2   \n",
       "2                                 8.6                                9.9   \n",
       "3                                 9.1                               10.3   \n",
       "4                                 8.0                                9.8   \n",
       "..                                ...                                ...   \n",
       "940                               7.7                                9.4   \n",
       "941                               8.1                                9.4   \n",
       "942                               8.7                                9.9   \n",
       "943                               8.4                               10.1   \n",
       "944                               8.9                               10.8   \n",
       "\n",
       "     Fuel Consumption(Comb (mpg))  CO2 Emissions(g/km)  CO2 Rating  \\\n",
       "0                            33.0                200.0         6.0   \n",
       "1                            25.0                263.0         4.0   \n",
       "2                            29.0                232.0         5.0   \n",
       "3                            27.0                242.0         5.0   \n",
       "4                            29.0                230.0         5.0   \n",
       "..                            ...                  ...         ...   \n",
       "940                          30.0                219.0         5.0   \n",
       "941                          30.0                219.0         5.0   \n",
       "942                          29.0                232.0         5.0   \n",
       "943                          28.0                236.0         5.0   \n",
       "944                          26.0                252.0         5.0   \n",
       "\n",
       "     Smog Rating  \n",
       "0            3.0  \n",
       "1            5.0  \n",
       "2            6.0  \n",
       "3            6.0  \n",
       "4            7.0  \n",
       "..           ...  \n",
       "940          5.0  \n",
       "941          5.0  \n",
       "942          5.0  \n",
       "943          5.0  \n",
       "944          7.0  \n",
       "\n",
       "[899 rows x 15 columns]"
      ]
     },
     "execution_count": 67,
     "metadata": {},
     "output_type": "execute_result"
    }
   ],
   "source": [
    "df=df[(df['Fuel Consumption(Comb (mpg))']>=lower_limit) & (df['Fuel Consumption(Comb (mpg))']<=upper_limit)]\n",
    "df"
   ]
  },
  {
   "cell_type": "code",
   "execution_count": 68,
   "id": "1373e7c4",
   "metadata": {},
   "outputs": [
    {
     "data": {
      "text/plain": [
       "<AxesSubplot:ylabel='Fuel Consumption(Comb (mpg))'>"
      ]
     },
     "execution_count": 68,
     "metadata": {},
     "output_type": "execute_result"
    },
    {
     "data": {
      "image/png": "[encoded data removed]",
      "text/plain": [
       "<Figure size 1440x396 with 1 Axes>"
      ]
     },
     "metadata": {
      "needs_background": "light"
     },
     "output_type": "display_data"
    }
   ],
   "source": [
    "sns.boxplot(y='Fuel Consumption(Comb (mpg))', data=df)"
   ]
  },
  {
   "cell_type": "markdown",
   "id": "7b5414d5",
   "metadata": {},
   "source": [
    "### CO2 Emissions(g/km)"
   ]
  },
  {
   "cell_type": "code",
   "execution_count": 69,
   "id": "5dcea64c",
   "metadata": {},
   "outputs": [
    {
     "data": {
      "text/plain": [
       "<AxesSubplot:ylabel='CO2 Emissions(g/km)'>"
      ]
     },
     "execution_count": 69,
     "metadata": {},
     "output_type": "execute_result"
    },
    {
     "data": {
      "image/png": "[encoded data removed]",
      "text/plain": [
       "<Figure size 1440x396 with 1 Axes>"
      ]
     },
     "metadata": {
      "needs_background": "light"
     },
     "output_type": "display_data"
    }
   ],
   "source": [
    "sns.boxplot(y='CO2 Emissions(g/km)', data=df)"
   ]
  },
  {
   "cell_type": "markdown",
   "id": "e0ba5bbd",
   "metadata": {},
   "source": [
    "### CO2 Rating"
   ]
  },
  {
   "cell_type": "code",
   "execution_count": 70,
   "id": "201caf01",
   "metadata": {},
   "outputs": [
    {
     "data": {
      "text/plain": [
       "<AxesSubplot:ylabel='CO2 Rating'>"
      ]
     },
     "execution_count": 70,
     "metadata": {},
     "output_type": "execute_result"
    },
    {
     "data": {
      "image/png": "[encoded data removed]",
      "text/plain": [
       "<Figure size 1440x396 with 1 Axes>"
      ]
     },
     "metadata": {
      "needs_background": "light"
     },
     "output_type": "display_data"
    }
   ],
   "source": [
    "sns.boxplot(y='CO2 Rating', data=df)"
   ]
  },
  {
   "cell_type": "code",
   "execution_count": 71,
   "id": "67ce1758",
   "metadata": {},
   "outputs": [
    {
     "name": "stdout",
     "output_type": "stream",
     "text": [
      "1.0\n",
      "6.5\n",
      "2.5\n"
     ]
    }
   ],
   "source": [
    "q25=df['CO2 Rating'].quantile(0.25)\n",
    "q75=df['CO2 Rating'].quantile(0.75)\n",
    "iqr=q75-q25\n",
    "print(iqr)\n",
    "upper_limit=q75+(1.5*iqr)\n",
    "print(upper_limit)\n",
    "lower_limit=q25-(1.5*iqr)\n",
    "print(lower_limit)"
   ]
  },
  {
   "cell_type": "code",
   "execution_count": 72,
   "id": "d66070e5",
   "metadata": {},
   "outputs": [
    {
     "data": {
      "text/html": [
       "<div>\n",
       "<style scoped>\n",
       "    .dataframe tbody tr th:only-of-type {\n",
       "        vertical-align: middle;\n",
       "    }\n",
       "\n",
       "    .dataframe tbody tr th {\n",
       "        vertical-align: top;\n",
       "    }\n",
       "\n",
       "    .dataframe thead th {\n",
       "        text-align: right;\n",
       "    }\n",
       "</style>\n",
       "<table border=\"1\" class=\"dataframe\">\n",
       "  <thead>\n",
       "    <tr style=\"text-align: right;\">\n",
       "      <th></th>\n",
       "      <th>Model Year</th>\n",
       "      <th>Make</th>\n",
       "      <th>Model</th>\n",
       "      <th>Vehicle Class</th>\n",
       "      <th>Engine Size(L)</th>\n",
       "      <th>Cylinders</th>\n",
       "      <th>Transmission</th>\n",
       "      <th>Fuel Type</th>\n",
       "      <th>Fuel Consumption (City (L/100 km)</th>\n",
       "      <th>Fuel Consumption(Hwy (L/100 km))</th>\n",
       "      <th>Fuel Consumption(Comb (L/100 km))</th>\n",
       "      <th>Fuel Consumption(Comb (mpg))</th>\n",
       "      <th>CO2 Emissions(g/km)</th>\n",
       "      <th>CO2 Rating</th>\n",
       "      <th>Smog Rating</th>\n",
       "    </tr>\n",
       "  </thead>\n",
       "  <tbody>\n",
       "    <tr>\n",
       "      <th>0</th>\n",
       "      <td>2022</td>\n",
       "      <td>Acura</td>\n",
       "      <td>ILX</td>\n",
       "      <td>Compact</td>\n",
       "      <td>2.4</td>\n",
       "      <td>4</td>\n",
       "      <td>AM8</td>\n",
       "      <td>Z</td>\n",
       "      <td>12.5</td>\n",
       "      <td>7.0</td>\n",
       "      <td>8.6</td>\n",
       "      <td>33.0</td>\n",
       "      <td>200.0</td>\n",
       "      <td>6.0</td>\n",
       "      <td>3.0</td>\n",
       "    </tr>\n",
       "    <tr>\n",
       "      <th>1</th>\n",
       "      <td>2022</td>\n",
       "      <td>Acura</td>\n",
       "      <td>MDX SH-AWD</td>\n",
       "      <td>SUV: Small</td>\n",
       "      <td>3.5</td>\n",
       "      <td>6</td>\n",
       "      <td>AS10</td>\n",
       "      <td>Z</td>\n",
       "      <td>12.6</td>\n",
       "      <td>9.4</td>\n",
       "      <td>11.2</td>\n",
       "      <td>25.0</td>\n",
       "      <td>263.0</td>\n",
       "      <td>4.0</td>\n",
       "      <td>5.0</td>\n",
       "    </tr>\n",
       "    <tr>\n",
       "      <th>2</th>\n",
       "      <td>2022</td>\n",
       "      <td>Acura</td>\n",
       "      <td>RDX SH-AWD</td>\n",
       "      <td>SUV: Small</td>\n",
       "      <td>2.0</td>\n",
       "      <td>4</td>\n",
       "      <td>AS10</td>\n",
       "      <td>Z</td>\n",
       "      <td>11.0</td>\n",
       "      <td>8.6</td>\n",
       "      <td>9.9</td>\n",
       "      <td>29.0</td>\n",
       "      <td>232.0</td>\n",
       "      <td>5.0</td>\n",
       "      <td>6.0</td>\n",
       "    </tr>\n",
       "    <tr>\n",
       "      <th>3</th>\n",
       "      <td>2022</td>\n",
       "      <td>Acura</td>\n",
       "      <td>RDX SH-AWD A-SPEC</td>\n",
       "      <td>SUV: Small</td>\n",
       "      <td>2.0</td>\n",
       "      <td>4</td>\n",
       "      <td>AS10</td>\n",
       "      <td>Z</td>\n",
       "      <td>11.3</td>\n",
       "      <td>9.1</td>\n",
       "      <td>10.3</td>\n",
       "      <td>27.0</td>\n",
       "      <td>242.0</td>\n",
       "      <td>5.0</td>\n",
       "      <td>6.0</td>\n",
       "    </tr>\n",
       "    <tr>\n",
       "      <th>4</th>\n",
       "      <td>2022</td>\n",
       "      <td>Acura</td>\n",
       "      <td>TLX SH-AWD</td>\n",
       "      <td>Compact</td>\n",
       "      <td>2.0</td>\n",
       "      <td>4</td>\n",
       "      <td>AS10</td>\n",
       "      <td>Z</td>\n",
       "      <td>11.2</td>\n",
       "      <td>8.0</td>\n",
       "      <td>9.8</td>\n",
       "      <td>29.0</td>\n",
       "      <td>230.0</td>\n",
       "      <td>5.0</td>\n",
       "      <td>7.0</td>\n",
       "    </tr>\n",
       "    <tr>\n",
       "      <th>...</th>\n",
       "      <td>...</td>\n",
       "      <td>...</td>\n",
       "      <td>...</td>\n",
       "      <td>...</td>\n",
       "      <td>...</td>\n",
       "      <td>...</td>\n",
       "      <td>...</td>\n",
       "      <td>...</td>\n",
       "      <td>...</td>\n",
       "      <td>...</td>\n",
       "      <td>...</td>\n",
       "      <td>...</td>\n",
       "      <td>...</td>\n",
       "      <td>...</td>\n",
       "      <td>...</td>\n",
       "    </tr>\n",
       "    <tr>\n",
       "      <th>940</th>\n",
       "      <td>2022</td>\n",
       "      <td>Volvo</td>\n",
       "      <td>XC40 T5 AWD</td>\n",
       "      <td>SUV: Small</td>\n",
       "      <td>2.0</td>\n",
       "      <td>4</td>\n",
       "      <td>AS8</td>\n",
       "      <td>Z</td>\n",
       "      <td>10.7</td>\n",
       "      <td>7.7</td>\n",
       "      <td>9.4</td>\n",
       "      <td>30.0</td>\n",
       "      <td>219.0</td>\n",
       "      <td>5.0</td>\n",
       "      <td>5.0</td>\n",
       "    </tr>\n",
       "    <tr>\n",
       "      <th>941</th>\n",
       "      <td>2022</td>\n",
       "      <td>Volvo</td>\n",
       "      <td>XC60 B5 AWD</td>\n",
       "      <td>SUV: Small</td>\n",
       "      <td>2.0</td>\n",
       "      <td>4</td>\n",
       "      <td>AS8</td>\n",
       "      <td>Z</td>\n",
       "      <td>10.5</td>\n",
       "      <td>8.1</td>\n",
       "      <td>9.4</td>\n",
       "      <td>30.0</td>\n",
       "      <td>219.0</td>\n",
       "      <td>5.0</td>\n",
       "      <td>5.0</td>\n",
       "    </tr>\n",
       "    <tr>\n",
       "      <th>942</th>\n",
       "      <td>2022</td>\n",
       "      <td>Volvo</td>\n",
       "      <td>XC60 B6 AWD</td>\n",
       "      <td>SUV: Small</td>\n",
       "      <td>2.0</td>\n",
       "      <td>4</td>\n",
       "      <td>AS8</td>\n",
       "      <td>Z</td>\n",
       "      <td>11.0</td>\n",
       "      <td>8.7</td>\n",
       "      <td>9.9</td>\n",
       "      <td>29.0</td>\n",
       "      <td>232.0</td>\n",
       "      <td>5.0</td>\n",
       "      <td>5.0</td>\n",
       "    </tr>\n",
       "    <tr>\n",
       "      <th>943</th>\n",
       "      <td>2022</td>\n",
       "      <td>Volvo</td>\n",
       "      <td>XC90 T5 AWD</td>\n",
       "      <td>SUV: Standard</td>\n",
       "      <td>2.0</td>\n",
       "      <td>4</td>\n",
       "      <td>AS8</td>\n",
       "      <td>Z</td>\n",
       "      <td>11.5</td>\n",
       "      <td>8.4</td>\n",
       "      <td>10.1</td>\n",
       "      <td>28.0</td>\n",
       "      <td>236.0</td>\n",
       "      <td>5.0</td>\n",
       "      <td>5.0</td>\n",
       "    </tr>\n",
       "    <tr>\n",
       "      <th>944</th>\n",
       "      <td>2022</td>\n",
       "      <td>Volvo</td>\n",
       "      <td>XC90 T6 AWD</td>\n",
       "      <td>SUV: Standard</td>\n",
       "      <td>2.0</td>\n",
       "      <td>4</td>\n",
       "      <td>AS8</td>\n",
       "      <td>Z</td>\n",
       "      <td>12.5</td>\n",
       "      <td>8.9</td>\n",
       "      <td>10.8</td>\n",
       "      <td>26.0</td>\n",
       "      <td>252.0</td>\n",
       "      <td>5.0</td>\n",
       "      <td>7.0</td>\n",
       "    </tr>\n",
       "  </tbody>\n",
       "</table>\n",
       "<p>791 rows × 15 columns</p>\n",
       "</div>"
      ],
      "text/plain": [
       "     Model Year   Make              Model  Vehicle Class  Engine Size(L)  \\\n",
       "0          2022  Acura                ILX        Compact             2.4   \n",
       "1          2022  Acura         MDX SH-AWD     SUV: Small             3.5   \n",
       "2          2022  Acura         RDX SH-AWD     SUV: Small             2.0   \n",
       "3          2022  Acura  RDX SH-AWD A-SPEC     SUV: Small             2.0   \n",
       "4          2022  Acura         TLX SH-AWD        Compact             2.0   \n",
       "..          ...    ...                ...            ...             ...   \n",
       "940        2022  Volvo        XC40 T5 AWD     SUV: Small             2.0   \n",
       "941        2022  Volvo        XC60 B5 AWD     SUV: Small             2.0   \n",
       "942        2022  Volvo        XC60 B6 AWD     SUV: Small             2.0   \n",
       "943        2022  Volvo        XC90 T5 AWD  SUV: Standard             2.0   \n",
       "944        2022  Volvo        XC90 T6 AWD  SUV: Standard             2.0   \n",
       "\n",
       "     Cylinders Transmission Fuel Type  Fuel Consumption (City (L/100 km)  \\\n",
       "0            4          AM8         Z                               12.5   \n",
       "1            6         AS10         Z                               12.6   \n",
       "2            4         AS10         Z                               11.0   \n",
       "3            4         AS10         Z                               11.3   \n",
       "4            4         AS10         Z                               11.2   \n",
       "..         ...          ...       ...                                ...   \n",
       "940          4          AS8         Z                               10.7   \n",
       "941          4          AS8         Z                               10.5   \n",
       "942          4          AS8         Z                               11.0   \n",
       "943          4          AS8         Z                               11.5   \n",
       "944          4          AS8         Z                               12.5   \n",
       "\n",
       "     Fuel Consumption(Hwy (L/100 km))  Fuel Consumption(Comb (L/100 km))  \\\n",
       "0                                 7.0                                8.6   \n",
       "1                                 9.4                               11.2   \n",
       "2                                 8.6                                9.9   \n",
       "3                                 9.1                               10.3   \n",
       "4                                 8.0                                9.8   \n",
       "..                                ...                                ...   \n",
       "940                               7.7                                9.4   \n",
       "941                               8.1                                9.4   \n",
       "942                               8.7                                9.9   \n",
       "943                               8.4                               10.1   \n",
       "944                               8.9                               10.8   \n",
       "\n",
       "     Fuel Consumption(Comb (mpg))  CO2 Emissions(g/km)  CO2 Rating  \\\n",
       "0                            33.0                200.0         6.0   \n",
       "1                            25.0                263.0         4.0   \n",
       "2                            29.0                232.0         5.0   \n",
       "3                            27.0                242.0         5.0   \n",
       "4                            29.0                230.0         5.0   \n",
       "..                            ...                  ...         ...   \n",
       "940                          30.0                219.0         5.0   \n",
       "941                          30.0                219.0         5.0   \n",
       "942                          29.0                232.0         5.0   \n",
       "943                          28.0                236.0         5.0   \n",
       "944                          26.0                252.0         5.0   \n",
       "\n",
       "     Smog Rating  \n",
       "0            3.0  \n",
       "1            5.0  \n",
       "2            6.0  \n",
       "3            6.0  \n",
       "4            7.0  \n",
       "..           ...  \n",
       "940          5.0  \n",
       "941          5.0  \n",
       "942          5.0  \n",
       "943          5.0  \n",
       "944          7.0  \n",
       "\n",
       "[791 rows x 15 columns]"
      ]
     },
     "execution_count": 72,
     "metadata": {},
     "output_type": "execute_result"
    }
   ],
   "source": [
    "df=df[(df['CO2 Rating']>=lower_limit) & (df['CO2 Rating']<=upper_limit)]\n",
    "df"
   ]
  },
  {
   "cell_type": "code",
   "execution_count": 73,
   "id": "ee414587",
   "metadata": {},
   "outputs": [
    {
     "data": {
      "text/plain": [
       "<AxesSubplot:ylabel='CO2 Rating'>"
      ]
     },
     "execution_count": 73,
     "metadata": {},
     "output_type": "execute_result"
    },
    {
     "data": {
      "image/png": "[encoded data removed]",
      "text/plain": [
       "<Figure size 1440x396 with 1 Axes>"
      ]
     },
     "metadata": {
      "needs_background": "light"
     },
     "output_type": "display_data"
    }
   ],
   "source": [
    "sns.boxplot(y='CO2 Rating', data=df)"
   ]
  },
  {
   "cell_type": "markdown",
   "id": "be18c3b5",
   "metadata": {},
   "source": [
    "### Smog Rating"
   ]
  },
  {
   "cell_type": "code",
   "execution_count": 74,
   "id": "38eab826",
   "metadata": {},
   "outputs": [
    {
     "data": {
      "text/plain": [
       "<AxesSubplot:ylabel='Smog Rating'>"
      ]
     },
     "execution_count": 74,
     "metadata": {},
     "output_type": "execute_result"
    },
    {
     "data": {
      "image/png": "[encoded data removed]",
      "text/plain": [
       "<Figure size 1440x396 with 1 Axes>"
      ]
     },
     "metadata": {
      "needs_background": "light"
     },
     "output_type": "display_data"
    }
   ],
   "source": [
    "sns.boxplot(y='Smog Rating', data=df)"
   ]
  },
  {
   "cell_type": "code",
   "execution_count": 75,
   "id": "8340aeac",
   "metadata": {},
   "outputs": [
    {
     "data": {
      "text/html": [
       "<div>\n",
       "<style scoped>\n",
       "    .dataframe tbody tr th:only-of-type {\n",
       "        vertical-align: middle;\n",
       "    }\n",
       "\n",
       "    .dataframe tbody tr th {\n",
       "        vertical-align: top;\n",
       "    }\n",
       "\n",
       "    .dataframe thead th {\n",
       "        text-align: right;\n",
       "    }\n",
       "</style>\n",
       "<table border=\"1\" class=\"dataframe\">\n",
       "  <thead>\n",
       "    <tr style=\"text-align: right;\">\n",
       "      <th></th>\n",
       "      <th>Model Year</th>\n",
       "      <th>Make</th>\n",
       "      <th>Model</th>\n",
       "      <th>Vehicle Class</th>\n",
       "      <th>Engine Size(L)</th>\n",
       "      <th>Cylinders</th>\n",
       "      <th>Transmission</th>\n",
       "      <th>Fuel Type</th>\n",
       "      <th>Fuel Consumption (City (L/100 km)</th>\n",
       "      <th>Fuel Consumption(Hwy (L/100 km))</th>\n",
       "      <th>Fuel Consumption(Comb (L/100 km))</th>\n",
       "      <th>Fuel Consumption(Comb (mpg))</th>\n",
       "      <th>CO2 Emissions(g/km)</th>\n",
       "      <th>CO2 Rating</th>\n",
       "      <th>Smog Rating</th>\n",
       "    </tr>\n",
       "  </thead>\n",
       "  <tbody>\n",
       "    <tr>\n",
       "      <th>0</th>\n",
       "      <td>2022</td>\n",
       "      <td>Acura</td>\n",
       "      <td>ILX</td>\n",
       "      <td>Compact</td>\n",
       "      <td>2.4</td>\n",
       "      <td>4</td>\n",
       "      <td>AM8</td>\n",
       "      <td>Z</td>\n",
       "      <td>12.5</td>\n",
       "      <td>7.0</td>\n",
       "      <td>8.6</td>\n",
       "      <td>33.0</td>\n",
       "      <td>200.0</td>\n",
       "      <td>6.0</td>\n",
       "      <td>3.0</td>\n",
       "    </tr>\n",
       "  </tbody>\n",
       "</table>\n",
       "</div>"
      ],
      "text/plain": [
       "   Model Year   Make Model Vehicle Class  Engine Size(L)  Cylinders  \\\n",
       "0        2022  Acura   ILX       Compact             2.4          4   \n",
       "\n",
       "  Transmission Fuel Type  Fuel Consumption (City (L/100 km)  \\\n",
       "0          AM8         Z                               12.5   \n",
       "\n",
       "   Fuel Consumption(Hwy (L/100 km))  Fuel Consumption(Comb (L/100 km))  \\\n",
       "0                               7.0                                8.6   \n",
       "\n",
       "   Fuel Consumption(Comb (mpg))  CO2 Emissions(g/km)  CO2 Rating  Smog Rating  \n",
       "0                          33.0                200.0         6.0          3.0  "
      ]
     },
     "execution_count": 75,
     "metadata": {},
     "output_type": "execute_result"
    }
   ],
   "source": [
    "df.head(1)"
   ]
  },
  {
   "cell_type": "markdown",
   "id": "1275bde9",
   "metadata": {},
   "source": [
    "chi aquare test"
   ]
  },
  {
   "cell_type": "code",
   "execution_count": 76,
   "id": "a23297be",
   "metadata": {},
   "outputs": [
    {
     "data": {
      "text/plain": [
       "SUV: Small                 180\n",
       "SUV: Standard              128\n",
       "Mid-size                    90\n",
       "Pickup truck: Standard      90\n",
       "Subcompact                  68\n",
       "Compact                     47\n",
       "Full-size                   46\n",
       "Minicompact                 45\n",
       "Two-seater                  40\n",
       "Pickup truck: Small         19\n",
       "Station wagon: Small        15\n",
       "Special purpose vehicle     12\n",
       "Station wagon: Mid-size      6\n",
       "Minivan                      5\n",
       "Name: Vehicle Class, dtype: int64"
      ]
     },
     "execution_count": 76,
     "metadata": {},
     "output_type": "execute_result"
    }
   ],
   "source": [
    "df['Vehicle Class'].value_counts()"
   ]
  },
  {
   "cell_type": "code",
   "execution_count": 77,
   "id": "543f47a2",
   "metadata": {},
   "outputs": [
    {
     "data": {
      "text/plain": [
       "AS8     192\n",
       "A8       91\n",
       "AS10     81\n",
       "A9       65\n",
       "A10      64\n",
       "M6       59\n",
       "AM7      51\n",
       "AM8      49\n",
       "AS6      36\n",
       "AV8      21\n",
       "AS9      19\n",
       "A6       16\n",
       "M7       14\n",
       "AV       10\n",
       "AS7       6\n",
       "AV6       5\n",
       "AV7       4\n",
       "AV10      3\n",
       "M5        2\n",
       "AS5       2\n",
       "A7        1\n",
       "Name: Transmission, dtype: int64"
      ]
     },
     "execution_count": 77,
     "metadata": {},
     "output_type": "execute_result"
    }
   ],
   "source": [
    "df['Transmission'].value_counts()"
   ]
  },
  {
   "cell_type": "markdown",
   "id": "6f85b582",
   "metadata": {},
   "source": [
    "Chi square test of vehicle class and transmission "
   ]
  },
  {
   "cell_type": "code",
   "execution_count": 78,
   "id": "a2880d7f",
   "metadata": {},
   "outputs": [],
   "source": [
    "import scipy.stats as st"
   ]
  },
  {
   "cell_type": "code",
   "execution_count": 79,
   "id": "d6f4acbd",
   "metadata": {},
   "outputs": [],
   "source": [
    "crosstab=pd.crosstab(index=df['Vehicle Class'],columns=df['Transmission'])\n",
    "a,b,c,d=st.chi2_contingency(crosstab)"
   ]
  },
  {
   "cell_type": "code",
   "execution_count": 80,
   "id": "c3504073",
   "metadata": {},
   "outputs": [
    {
     "data": {
      "text/html": [
       "<div>\n",
       "<style scoped>\n",
       "    .dataframe tbody tr th:only-of-type {\n",
       "        vertical-align: middle;\n",
       "    }\n",
       "\n",
       "    .dataframe tbody tr th {\n",
       "        vertical-align: top;\n",
       "    }\n",
       "\n",
       "    .dataframe thead th {\n",
       "        text-align: right;\n",
       "    }\n",
       "</style>\n",
       "<table border=\"1\" class=\"dataframe\">\n",
       "  <thead>\n",
       "    <tr style=\"text-align: right;\">\n",
       "      <th>Transmission</th>\n",
       "      <th>A10</th>\n",
       "      <th>A6</th>\n",
       "      <th>A7</th>\n",
       "      <th>A8</th>\n",
       "      <th>A9</th>\n",
       "      <th>AM7</th>\n",
       "      <th>AM8</th>\n",
       "      <th>AS10</th>\n",
       "      <th>AS5</th>\n",
       "      <th>AS6</th>\n",
       "      <th>...</th>\n",
       "      <th>AS8</th>\n",
       "      <th>AS9</th>\n",
       "      <th>AV</th>\n",
       "      <th>AV10</th>\n",
       "      <th>AV6</th>\n",
       "      <th>AV7</th>\n",
       "      <th>AV8</th>\n",
       "      <th>M5</th>\n",
       "      <th>M6</th>\n",
       "      <th>M7</th>\n",
       "    </tr>\n",
       "    <tr>\n",
       "      <th>Vehicle Class</th>\n",
       "      <th></th>\n",
       "      <th></th>\n",
       "      <th></th>\n",
       "      <th></th>\n",
       "      <th></th>\n",
       "      <th></th>\n",
       "      <th></th>\n",
       "      <th></th>\n",
       "      <th></th>\n",
       "      <th></th>\n",
       "      <th></th>\n",
       "      <th></th>\n",
       "      <th></th>\n",
       "      <th></th>\n",
       "      <th></th>\n",
       "      <th></th>\n",
       "      <th></th>\n",
       "      <th></th>\n",
       "      <th></th>\n",
       "      <th></th>\n",
       "      <th></th>\n",
       "    </tr>\n",
       "  </thead>\n",
       "  <tbody>\n",
       "    <tr>\n",
       "      <th>Compact</th>\n",
       "      <td>0</td>\n",
       "      <td>0</td>\n",
       "      <td>0</td>\n",
       "      <td>0</td>\n",
       "      <td>3</td>\n",
       "      <td>5</td>\n",
       "      <td>3</td>\n",
       "      <td>9</td>\n",
       "      <td>0</td>\n",
       "      <td>8</td>\n",
       "      <td>...</td>\n",
       "      <td>13</td>\n",
       "      <td>0</td>\n",
       "      <td>0</td>\n",
       "      <td>0</td>\n",
       "      <td>0</td>\n",
       "      <td>0</td>\n",
       "      <td>0</td>\n",
       "      <td>0</td>\n",
       "      <td>5</td>\n",
       "      <td>0</td>\n",
       "    </tr>\n",
       "    <tr>\n",
       "      <th>Full-size</th>\n",
       "      <td>0</td>\n",
       "      <td>0</td>\n",
       "      <td>0</td>\n",
       "      <td>12</td>\n",
       "      <td>3</td>\n",
       "      <td>1</td>\n",
       "      <td>14</td>\n",
       "      <td>1</td>\n",
       "      <td>0</td>\n",
       "      <td>0</td>\n",
       "      <td>...</td>\n",
       "      <td>12</td>\n",
       "      <td>0</td>\n",
       "      <td>0</td>\n",
       "      <td>0</td>\n",
       "      <td>0</td>\n",
       "      <td>0</td>\n",
       "      <td>2</td>\n",
       "      <td>0</td>\n",
       "      <td>1</td>\n",
       "      <td>0</td>\n",
       "    </tr>\n",
       "    <tr>\n",
       "      <th>Mid-size</th>\n",
       "      <td>0</td>\n",
       "      <td>0</td>\n",
       "      <td>0</td>\n",
       "      <td>13</td>\n",
       "      <td>4</td>\n",
       "      <td>7</td>\n",
       "      <td>2</td>\n",
       "      <td>8</td>\n",
       "      <td>0</td>\n",
       "      <td>4</td>\n",
       "      <td>...</td>\n",
       "      <td>28</td>\n",
       "      <td>0</td>\n",
       "      <td>2</td>\n",
       "      <td>1</td>\n",
       "      <td>0</td>\n",
       "      <td>1</td>\n",
       "      <td>1</td>\n",
       "      <td>1</td>\n",
       "      <td>16</td>\n",
       "      <td>0</td>\n",
       "    </tr>\n",
       "    <tr>\n",
       "      <th>Minicompact</th>\n",
       "      <td>0</td>\n",
       "      <td>0</td>\n",
       "      <td>0</td>\n",
       "      <td>3</td>\n",
       "      <td>0</td>\n",
       "      <td>3</td>\n",
       "      <td>20</td>\n",
       "      <td>1</td>\n",
       "      <td>0</td>\n",
       "      <td>2</td>\n",
       "      <td>...</td>\n",
       "      <td>1</td>\n",
       "      <td>0</td>\n",
       "      <td>0</td>\n",
       "      <td>0</td>\n",
       "      <td>0</td>\n",
       "      <td>0</td>\n",
       "      <td>0</td>\n",
       "      <td>0</td>\n",
       "      <td>5</td>\n",
       "      <td>10</td>\n",
       "    </tr>\n",
       "    <tr>\n",
       "      <th>Minivan</th>\n",
       "      <td>0</td>\n",
       "      <td>0</td>\n",
       "      <td>0</td>\n",
       "      <td>0</td>\n",
       "      <td>3</td>\n",
       "      <td>0</td>\n",
       "      <td>0</td>\n",
       "      <td>1</td>\n",
       "      <td>0</td>\n",
       "      <td>0</td>\n",
       "      <td>...</td>\n",
       "      <td>1</td>\n",
       "      <td>0</td>\n",
       "      <td>0</td>\n",
       "      <td>0</td>\n",
       "      <td>0</td>\n",
       "      <td>0</td>\n",
       "      <td>0</td>\n",
       "      <td>0</td>\n",
       "      <td>0</td>\n",
       "      <td>0</td>\n",
       "    </tr>\n",
       "    <tr>\n",
       "      <th>Pickup truck: Small</th>\n",
       "      <td>0</td>\n",
       "      <td>9</td>\n",
       "      <td>0</td>\n",
       "      <td>6</td>\n",
       "      <td>0</td>\n",
       "      <td>0</td>\n",
       "      <td>1</td>\n",
       "      <td>0</td>\n",
       "      <td>0</td>\n",
       "      <td>1</td>\n",
       "      <td>...</td>\n",
       "      <td>0</td>\n",
       "      <td>0</td>\n",
       "      <td>0</td>\n",
       "      <td>0</td>\n",
       "      <td>0</td>\n",
       "      <td>0</td>\n",
       "      <td>0</td>\n",
       "      <td>0</td>\n",
       "      <td>2</td>\n",
       "      <td>0</td>\n",
       "    </tr>\n",
       "    <tr>\n",
       "      <th>Pickup truck: Standard</th>\n",
       "      <td>24</td>\n",
       "      <td>4</td>\n",
       "      <td>0</td>\n",
       "      <td>27</td>\n",
       "      <td>0</td>\n",
       "      <td>0</td>\n",
       "      <td>0</td>\n",
       "      <td>31</td>\n",
       "      <td>0</td>\n",
       "      <td>0</td>\n",
       "      <td>...</td>\n",
       "      <td>0</td>\n",
       "      <td>3</td>\n",
       "      <td>0</td>\n",
       "      <td>0</td>\n",
       "      <td>0</td>\n",
       "      <td>0</td>\n",
       "      <td>0</td>\n",
       "      <td>0</td>\n",
       "      <td>1</td>\n",
       "      <td>0</td>\n",
       "    </tr>\n",
       "    <tr>\n",
       "      <th>SUV: Small</th>\n",
       "      <td>0</td>\n",
       "      <td>3</td>\n",
       "      <td>1</td>\n",
       "      <td>17</td>\n",
       "      <td>24</td>\n",
       "      <td>8</td>\n",
       "      <td>5</td>\n",
       "      <td>10</td>\n",
       "      <td>0</td>\n",
       "      <td>15</td>\n",
       "      <td>...</td>\n",
       "      <td>50</td>\n",
       "      <td>15</td>\n",
       "      <td>5</td>\n",
       "      <td>1</td>\n",
       "      <td>3</td>\n",
       "      <td>1</td>\n",
       "      <td>15</td>\n",
       "      <td>0</td>\n",
       "      <td>3</td>\n",
       "      <td>4</td>\n",
       "    </tr>\n",
       "    <tr>\n",
       "      <th>SUV: Standard</th>\n",
       "      <td>38</td>\n",
       "      <td>0</td>\n",
       "      <td>0</td>\n",
       "      <td>12</td>\n",
       "      <td>15</td>\n",
       "      <td>0</td>\n",
       "      <td>0</td>\n",
       "      <td>10</td>\n",
       "      <td>2</td>\n",
       "      <td>1</td>\n",
       "      <td>...</td>\n",
       "      <td>45</td>\n",
       "      <td>1</td>\n",
       "      <td>0</td>\n",
       "      <td>0</td>\n",
       "      <td>2</td>\n",
       "      <td>0</td>\n",
       "      <td>1</td>\n",
       "      <td>0</td>\n",
       "      <td>0</td>\n",
       "      <td>0</td>\n",
       "    </tr>\n",
       "    <tr>\n",
       "      <th>Special purpose vehicle</th>\n",
       "      <td>0</td>\n",
       "      <td>0</td>\n",
       "      <td>0</td>\n",
       "      <td>0</td>\n",
       "      <td>4</td>\n",
       "      <td>0</td>\n",
       "      <td>0</td>\n",
       "      <td>0</td>\n",
       "      <td>0</td>\n",
       "      <td>2</td>\n",
       "      <td>...</td>\n",
       "      <td>6</td>\n",
       "      <td>0</td>\n",
       "      <td>0</td>\n",
       "      <td>0</td>\n",
       "      <td>0</td>\n",
       "      <td>0</td>\n",
       "      <td>0</td>\n",
       "      <td>0</td>\n",
       "      <td>0</td>\n",
       "      <td>0</td>\n",
       "    </tr>\n",
       "    <tr>\n",
       "      <th>Station wagon: Mid-size</th>\n",
       "      <td>0</td>\n",
       "      <td>0</td>\n",
       "      <td>0</td>\n",
       "      <td>0</td>\n",
       "      <td>1</td>\n",
       "      <td>1</td>\n",
       "      <td>1</td>\n",
       "      <td>0</td>\n",
       "      <td>0</td>\n",
       "      <td>0</td>\n",
       "      <td>...</td>\n",
       "      <td>2</td>\n",
       "      <td>0</td>\n",
       "      <td>0</td>\n",
       "      <td>0</td>\n",
       "      <td>0</td>\n",
       "      <td>1</td>\n",
       "      <td>0</td>\n",
       "      <td>0</td>\n",
       "      <td>0</td>\n",
       "      <td>0</td>\n",
       "    </tr>\n",
       "    <tr>\n",
       "      <th>Station wagon: Small</th>\n",
       "      <td>0</td>\n",
       "      <td>0</td>\n",
       "      <td>0</td>\n",
       "      <td>0</td>\n",
       "      <td>0</td>\n",
       "      <td>3</td>\n",
       "      <td>2</td>\n",
       "      <td>0</td>\n",
       "      <td>0</td>\n",
       "      <td>0</td>\n",
       "      <td>...</td>\n",
       "      <td>2</td>\n",
       "      <td>0</td>\n",
       "      <td>3</td>\n",
       "      <td>0</td>\n",
       "      <td>0</td>\n",
       "      <td>1</td>\n",
       "      <td>2</td>\n",
       "      <td>1</td>\n",
       "      <td>1</td>\n",
       "      <td>0</td>\n",
       "    </tr>\n",
       "    <tr>\n",
       "      <th>Subcompact</th>\n",
       "      <td>2</td>\n",
       "      <td>0</td>\n",
       "      <td>0</td>\n",
       "      <td>0</td>\n",
       "      <td>8</td>\n",
       "      <td>8</td>\n",
       "      <td>1</td>\n",
       "      <td>10</td>\n",
       "      <td>0</td>\n",
       "      <td>2</td>\n",
       "      <td>...</td>\n",
       "      <td>20</td>\n",
       "      <td>0</td>\n",
       "      <td>0</td>\n",
       "      <td>1</td>\n",
       "      <td>0</td>\n",
       "      <td>0</td>\n",
       "      <td>0</td>\n",
       "      <td>0</td>\n",
       "      <td>14</td>\n",
       "      <td>0</td>\n",
       "    </tr>\n",
       "    <tr>\n",
       "      <th>Two-seater</th>\n",
       "      <td>0</td>\n",
       "      <td>0</td>\n",
       "      <td>0</td>\n",
       "      <td>1</td>\n",
       "      <td>0</td>\n",
       "      <td>15</td>\n",
       "      <td>0</td>\n",
       "      <td>0</td>\n",
       "      <td>0</td>\n",
       "      <td>1</td>\n",
       "      <td>...</td>\n",
       "      <td>12</td>\n",
       "      <td>0</td>\n",
       "      <td>0</td>\n",
       "      <td>0</td>\n",
       "      <td>0</td>\n",
       "      <td>0</td>\n",
       "      <td>0</td>\n",
       "      <td>0</td>\n",
       "      <td>11</td>\n",
       "      <td>0</td>\n",
       "    </tr>\n",
       "  </tbody>\n",
       "</table>\n",
       "<p>14 rows × 21 columns</p>\n",
       "</div>"
      ],
      "text/plain": [
       "Transmission             A10  A6  A7  A8  A9  AM7  AM8  AS10  AS5  AS6  ...  \\\n",
       "Vehicle Class                                                           ...   \n",
       "Compact                    0   0   0   0   3    5    3     9    0    8  ...   \n",
       "Full-size                  0   0   0  12   3    1   14     1    0    0  ...   \n",
       "Mid-size                   0   0   0  13   4    7    2     8    0    4  ...   \n",
       "Minicompact                0   0   0   3   0    3   20     1    0    2  ...   \n",
       "Minivan                    0   0   0   0   3    0    0     1    0    0  ...   \n",
       "Pickup truck: Small        0   9   0   6   0    0    1     0    0    1  ...   \n",
       "Pickup truck: Standard    24   4   0  27   0    0    0    31    0    0  ...   \n",
       "SUV: Small                 0   3   1  17  24    8    5    10    0   15  ...   \n",
       "SUV: Standard             38   0   0  12  15    0    0    10    2    1  ...   \n",
       "Special purpose vehicle    0   0   0   0   4    0    0     0    0    2  ...   \n",
       "Station wagon: Mid-size    0   0   0   0   1    1    1     0    0    0  ...   \n",
       "Station wagon: Small       0   0   0   0   0    3    2     0    0    0  ...   \n",
       "Subcompact                 2   0   0   0   8    8    1    10    0    2  ...   \n",
       "Two-seater                 0   0   0   1   0   15    0     0    0    1  ...   \n",
       "\n",
       "Transmission             AS8  AS9  AV  AV10  AV6  AV7  AV8  M5  M6  M7  \n",
       "Vehicle Class                                                           \n",
       "Compact                   13    0   0     0    0    0    0   0   5   0  \n",
       "Full-size                 12    0   0     0    0    0    2   0   1   0  \n",
       "Mid-size                  28    0   2     1    0    1    1   1  16   0  \n",
       "Minicompact                1    0   0     0    0    0    0   0   5  10  \n",
       "Minivan                    1    0   0     0    0    0    0   0   0   0  \n",
       "Pickup truck: Small        0    0   0     0    0    0    0   0   2   0  \n",
       "Pickup truck: Standard     0    3   0     0    0    0    0   0   1   0  \n",
       "SUV: Small                50   15   5     1    3    1   15   0   3   4  \n",
       "SUV: Standard             45    1   0     0    2    0    1   0   0   0  \n",
       "Special purpose vehicle    6    0   0     0    0    0    0   0   0   0  \n",
       "Station wagon: Mid-size    2    0   0     0    0    1    0   0   0   0  \n",
       "Station wagon: Small       2    0   3     0    0    1    2   1   1   0  \n",
       "Subcompact                20    0   0     1    0    0    0   0  14   0  \n",
       "Two-seater                12    0   0     0    0    0    0   0  11   0  \n",
       "\n",
       "[14 rows x 21 columns]"
      ]
     },
     "execution_count": 80,
     "metadata": {},
     "output_type": "execute_result"
    }
   ],
   "source": [
    "crosstab"
   ]
  },
  {
   "cell_type": "code",
   "execution_count": 81,
   "id": "cec8a646",
   "metadata": {},
   "outputs": [
    {
     "name": "stdout",
     "output_type": "stream",
     "text": [
      "1347.1963286053087\n",
      "5.237651356257549e-146\n",
      "260\n"
     ]
    }
   ],
   "source": [
    "print(a)\n",
    "print(b)\n",
    "print(c)"
   ]
  },
  {
   "cell_type": "markdown",
   "id": "fa2e815f",
   "metadata": {},
   "source": [
    "chi sqaure test of fuel type and transmission"
   ]
  },
  {
   "cell_type": "code",
   "execution_count": 82,
   "id": "65d1a7b9",
   "metadata": {},
   "outputs": [],
   "source": [
    "crosstab_2=pd.crosstab(index=df['Transmission'],columns=df['Fuel Type'])\n",
    "a_2,b_2,c_2,d_2=st.chi2_contingency(crosstab_2)"
   ]
  },
  {
   "cell_type": "code",
   "execution_count": 83,
   "id": "3ad9a48c",
   "metadata": {},
   "outputs": [
    {
     "data": {
      "text/html": [
       "<div>\n",
       "<style scoped>\n",
       "    .dataframe tbody tr th:only-of-type {\n",
       "        vertical-align: middle;\n",
       "    }\n",
       "\n",
       "    .dataframe tbody tr th {\n",
       "        vertical-align: top;\n",
       "    }\n",
       "\n",
       "    .dataframe thead th {\n",
       "        text-align: right;\n",
       "    }\n",
       "</style>\n",
       "<table border=\"1\" class=\"dataframe\">\n",
       "  <thead>\n",
       "    <tr style=\"text-align: right;\">\n",
       "      <th>Fuel Type</th>\n",
       "      <th>D</th>\n",
       "      <th>E</th>\n",
       "      <th>X</th>\n",
       "      <th>Z</th>\n",
       "    </tr>\n",
       "    <tr>\n",
       "      <th>Transmission</th>\n",
       "      <th></th>\n",
       "      <th></th>\n",
       "      <th></th>\n",
       "      <th></th>\n",
       "    </tr>\n",
       "  </thead>\n",
       "  <tbody>\n",
       "    <tr>\n",
       "      <th>A10</th>\n",
       "      <td>16</td>\n",
       "      <td>0</td>\n",
       "      <td>31</td>\n",
       "      <td>17</td>\n",
       "    </tr>\n",
       "    <tr>\n",
       "      <th>A6</th>\n",
       "      <td>5</td>\n",
       "      <td>0</td>\n",
       "      <td>11</td>\n",
       "      <td>0</td>\n",
       "    </tr>\n",
       "    <tr>\n",
       "      <th>A7</th>\n",
       "      <td>0</td>\n",
       "      <td>0</td>\n",
       "      <td>1</td>\n",
       "      <td>0</td>\n",
       "    </tr>\n",
       "    <tr>\n",
       "      <th>A8</th>\n",
       "      <td>7</td>\n",
       "      <td>0</td>\n",
       "      <td>57</td>\n",
       "      <td>27</td>\n",
       "    </tr>\n",
       "    <tr>\n",
       "      <th>A9</th>\n",
       "      <td>0</td>\n",
       "      <td>0</td>\n",
       "      <td>31</td>\n",
       "      <td>34</td>\n",
       "    </tr>\n",
       "    <tr>\n",
       "      <th>AM7</th>\n",
       "      <td>0</td>\n",
       "      <td>0</td>\n",
       "      <td>8</td>\n",
       "      <td>43</td>\n",
       "    </tr>\n",
       "    <tr>\n",
       "      <th>AM8</th>\n",
       "      <td>0</td>\n",
       "      <td>0</td>\n",
       "      <td>5</td>\n",
       "      <td>44</td>\n",
       "    </tr>\n",
       "    <tr>\n",
       "      <th>AS10</th>\n",
       "      <td>0</td>\n",
       "      <td>5</td>\n",
       "      <td>51</td>\n",
       "      <td>25</td>\n",
       "    </tr>\n",
       "    <tr>\n",
       "      <th>AS5</th>\n",
       "      <td>0</td>\n",
       "      <td>0</td>\n",
       "      <td>2</td>\n",
       "      <td>0</td>\n",
       "    </tr>\n",
       "    <tr>\n",
       "      <th>AS6</th>\n",
       "      <td>0</td>\n",
       "      <td>0</td>\n",
       "      <td>27</td>\n",
       "      <td>9</td>\n",
       "    </tr>\n",
       "    <tr>\n",
       "      <th>AS7</th>\n",
       "      <td>0</td>\n",
       "      <td>0</td>\n",
       "      <td>1</td>\n",
       "      <td>5</td>\n",
       "    </tr>\n",
       "    <tr>\n",
       "      <th>AS8</th>\n",
       "      <td>0</td>\n",
       "      <td>2</td>\n",
       "      <td>46</td>\n",
       "      <td>144</td>\n",
       "    </tr>\n",
       "    <tr>\n",
       "      <th>AS9</th>\n",
       "      <td>0</td>\n",
       "      <td>0</td>\n",
       "      <td>11</td>\n",
       "      <td>8</td>\n",
       "    </tr>\n",
       "    <tr>\n",
       "      <th>AV</th>\n",
       "      <td>0</td>\n",
       "      <td>0</td>\n",
       "      <td>10</td>\n",
       "      <td>0</td>\n",
       "    </tr>\n",
       "    <tr>\n",
       "      <th>AV10</th>\n",
       "      <td>0</td>\n",
       "      <td>0</td>\n",
       "      <td>1</td>\n",
       "      <td>2</td>\n",
       "    </tr>\n",
       "    <tr>\n",
       "      <th>AV6</th>\n",
       "      <td>0</td>\n",
       "      <td>0</td>\n",
       "      <td>3</td>\n",
       "      <td>2</td>\n",
       "    </tr>\n",
       "    <tr>\n",
       "      <th>AV7</th>\n",
       "      <td>0</td>\n",
       "      <td>0</td>\n",
       "      <td>3</td>\n",
       "      <td>1</td>\n",
       "    </tr>\n",
       "    <tr>\n",
       "      <th>AV8</th>\n",
       "      <td>0</td>\n",
       "      <td>0</td>\n",
       "      <td>18</td>\n",
       "      <td>3</td>\n",
       "    </tr>\n",
       "    <tr>\n",
       "      <th>M5</th>\n",
       "      <td>0</td>\n",
       "      <td>0</td>\n",
       "      <td>2</td>\n",
       "      <td>0</td>\n",
       "    </tr>\n",
       "    <tr>\n",
       "      <th>M6</th>\n",
       "      <td>0</td>\n",
       "      <td>0</td>\n",
       "      <td>24</td>\n",
       "      <td>35</td>\n",
       "    </tr>\n",
       "    <tr>\n",
       "      <th>M7</th>\n",
       "      <td>0</td>\n",
       "      <td>0</td>\n",
       "      <td>4</td>\n",
       "      <td>10</td>\n",
       "    </tr>\n",
       "  </tbody>\n",
       "</table>\n",
       "</div>"
      ],
      "text/plain": [
       "Fuel Type      D  E   X    Z\n",
       "Transmission                \n",
       "A10           16  0  31   17\n",
       "A6             5  0  11    0\n",
       "A7             0  0   1    0\n",
       "A8             7  0  57   27\n",
       "A9             0  0  31   34\n",
       "AM7            0  0   8   43\n",
       "AM8            0  0   5   44\n",
       "AS10           0  5  51   25\n",
       "AS5            0  0   2    0\n",
       "AS6            0  0  27    9\n",
       "AS7            0  0   1    5\n",
       "AS8            0  2  46  144\n",
       "AS9            0  0  11    8\n",
       "AV             0  0  10    0\n",
       "AV10           0  0   1    2\n",
       "AV6            0  0   3    2\n",
       "AV7            0  0   3    1\n",
       "AV8            0  0  18    3\n",
       "M5             0  0   2    0\n",
       "M6             0  0  24   35\n",
       "M7             0  0   4   10"
      ]
     },
     "execution_count": 83,
     "metadata": {},
     "output_type": "execute_result"
    }
   ],
   "source": [
    "crosstab_2"
   ]
  },
  {
   "cell_type": "code",
   "execution_count": 84,
   "id": "01783931",
   "metadata": {},
   "outputs": [
    {
     "name": "stdout",
     "output_type": "stream",
     "text": [
      "360.03130873898186\n",
      "2.256309393584268e-44\n",
      "60\n"
     ]
    }
   ],
   "source": [
    "print(a_2)\n",
    "print(b_2)\n",
    "print(c_2)"
   ]
  },
  {
   "cell_type": "markdown",
   "id": "a9c3956a",
   "metadata": {},
   "source": [
    "Pearson's correlation and heat map"
   ]
  },
  {
   "cell_type": "code",
   "execution_count": 85,
   "id": "57248df6",
   "metadata": {},
   "outputs": [],
   "source": [
    "import seaborn as sns"
   ]
  },
  {
   "cell_type": "code",
   "execution_count": 86,
   "id": "7e51a2b3",
   "metadata": {},
   "outputs": [],
   "source": [
    "a=df.corr()"
   ]
  },
  {
   "cell_type": "code",
   "execution_count": 87,
   "id": "3dfcd3ce",
   "metadata": {},
   "outputs": [
    {
     "data": {
      "image/png": "[encoded data removed]",
      "text/plain": [
       "<Figure size 1440x396 with 2 Axes>"
      ]
     },
     "metadata": {
      "needs_background": "light"
     },
     "output_type": "display_data"
    }
   ],
   "source": [
    "b=sns.heatmap(a,annot=True,cmap='coolwarm')"
   ]
  },
  {
   "cell_type": "code",
   "execution_count": 88,
   "id": "9de8bab9",
   "metadata": {},
   "outputs": [
    {
     "data": {
      "text/html": [
       "<div>\n",
       "<style scoped>\n",
       "    .dataframe tbody tr th:only-of-type {\n",
       "        vertical-align: middle;\n",
       "    }\n",
       "\n",
       "    .dataframe tbody tr th {\n",
       "        vertical-align: top;\n",
       "    }\n",
       "\n",
       "    .dataframe thead th {\n",
       "        text-align: right;\n",
       "    }\n",
       "</style>\n",
       "<table border=\"1\" class=\"dataframe\">\n",
       "  <thead>\n",
       "    <tr style=\"text-align: right;\">\n",
       "      <th></th>\n",
       "      <th>Model Year</th>\n",
       "      <th>Make</th>\n",
       "      <th>Model</th>\n",
       "      <th>Vehicle Class</th>\n",
       "      <th>Engine Size(L)</th>\n",
       "      <th>Cylinders</th>\n",
       "      <th>Transmission</th>\n",
       "      <th>Fuel Type</th>\n",
       "      <th>Fuel Consumption (City (L/100 km)</th>\n",
       "      <th>Fuel Consumption(Hwy (L/100 km))</th>\n",
       "      <th>Fuel Consumption(Comb (L/100 km))</th>\n",
       "      <th>Fuel Consumption(Comb (mpg))</th>\n",
       "      <th>CO2 Emissions(g/km)</th>\n",
       "      <th>CO2 Rating</th>\n",
       "      <th>Smog Rating</th>\n",
       "    </tr>\n",
       "  </thead>\n",
       "  <tbody>\n",
       "    <tr>\n",
       "      <th>0</th>\n",
       "      <td>2022</td>\n",
       "      <td>Acura</td>\n",
       "      <td>ILX</td>\n",
       "      <td>Compact</td>\n",
       "      <td>2.4</td>\n",
       "      <td>4</td>\n",
       "      <td>AM8</td>\n",
       "      <td>Z</td>\n",
       "      <td>12.5</td>\n",
       "      <td>7.0</td>\n",
       "      <td>8.6</td>\n",
       "      <td>33.0</td>\n",
       "      <td>200.0</td>\n",
       "      <td>6.0</td>\n",
       "      <td>3.0</td>\n",
       "    </tr>\n",
       "  </tbody>\n",
       "</table>\n",
       "</div>"
      ],
      "text/plain": [
       "   Model Year   Make Model Vehicle Class  Engine Size(L)  Cylinders  \\\n",
       "0        2022  Acura   ILX       Compact             2.4          4   \n",
       "\n",
       "  Transmission Fuel Type  Fuel Consumption (City (L/100 km)  \\\n",
       "0          AM8         Z                               12.5   \n",
       "\n",
       "   Fuel Consumption(Hwy (L/100 km))  Fuel Consumption(Comb (L/100 km))  \\\n",
       "0                               7.0                                8.6   \n",
       "\n",
       "   Fuel Consumption(Comb (mpg))  CO2 Emissions(g/km)  CO2 Rating  Smog Rating  \n",
       "0                          33.0                200.0         6.0          3.0  "
      ]
     },
     "execution_count": 88,
     "metadata": {},
     "output_type": "execute_result"
    }
   ],
   "source": [
    "df.head(1)"
   ]
  },
  {
   "cell_type": "code",
   "execution_count": null,
   "id": "efd576a9",
   "metadata": {},
   "outputs": [],
   "source": []
  },
  {
   "cell_type": "code",
   "execution_count": null,
   "id": "85570f32",
   "metadata": {},
   "outputs": [],
   "source": []
  },
  {
   "cell_type": "code",
   "execution_count": 89,
   "id": "fbaf8614",
   "metadata": {},
   "outputs": [],
   "source": [
    "df2=df.drop(columns=['Fuel Consumption (City (L/100 km)','Fuel Consumption(Hwy (L/100 km))','Fuel Consumption(Comb (mpg))','Model Year','Make','Model','Vehicle Class'])"
   ]
  },
  {
   "cell_type": "code",
   "execution_count": 90,
   "id": "5cb17132",
   "metadata": {},
   "outputs": [
    {
     "data": {
      "text/html": [
       "<div>\n",
       "<style scoped>\n",
       "    .dataframe tbody tr th:only-of-type {\n",
       "        vertical-align: middle;\n",
       "    }\n",
       "\n",
       "    .dataframe tbody tr th {\n",
       "        vertical-align: top;\n",
       "    }\n",
       "\n",
       "    .dataframe thead th {\n",
       "        text-align: right;\n",
       "    }\n",
       "</style>\n",
       "<table border=\"1\" class=\"dataframe\">\n",
       "  <thead>\n",
       "    <tr style=\"text-align: right;\">\n",
       "      <th></th>\n",
       "      <th>Engine Size(L)</th>\n",
       "      <th>Cylinders</th>\n",
       "      <th>Transmission</th>\n",
       "      <th>Fuel Type</th>\n",
       "      <th>Fuel Consumption(Comb (L/100 km))</th>\n",
       "      <th>CO2 Emissions(g/km)</th>\n",
       "      <th>CO2 Rating</th>\n",
       "      <th>Smog Rating</th>\n",
       "    </tr>\n",
       "  </thead>\n",
       "  <tbody>\n",
       "    <tr>\n",
       "      <th>0</th>\n",
       "      <td>2.4</td>\n",
       "      <td>4</td>\n",
       "      <td>AM8</td>\n",
       "      <td>Z</td>\n",
       "      <td>8.6</td>\n",
       "      <td>200.0</td>\n",
       "      <td>6.0</td>\n",
       "      <td>3.0</td>\n",
       "    </tr>\n",
       "    <tr>\n",
       "      <th>1</th>\n",
       "      <td>3.5</td>\n",
       "      <td>6</td>\n",
       "      <td>AS10</td>\n",
       "      <td>Z</td>\n",
       "      <td>11.2</td>\n",
       "      <td>263.0</td>\n",
       "      <td>4.0</td>\n",
       "      <td>5.0</td>\n",
       "    </tr>\n",
       "    <tr>\n",
       "      <th>2</th>\n",
       "      <td>2.0</td>\n",
       "      <td>4</td>\n",
       "      <td>AS10</td>\n",
       "      <td>Z</td>\n",
       "      <td>9.9</td>\n",
       "      <td>232.0</td>\n",
       "      <td>5.0</td>\n",
       "      <td>6.0</td>\n",
       "    </tr>\n",
       "    <tr>\n",
       "      <th>3</th>\n",
       "      <td>2.0</td>\n",
       "      <td>4</td>\n",
       "      <td>AS10</td>\n",
       "      <td>Z</td>\n",
       "      <td>10.3</td>\n",
       "      <td>242.0</td>\n",
       "      <td>5.0</td>\n",
       "      <td>6.0</td>\n",
       "    </tr>\n",
       "    <tr>\n",
       "      <th>4</th>\n",
       "      <td>2.0</td>\n",
       "      <td>4</td>\n",
       "      <td>AS10</td>\n",
       "      <td>Z</td>\n",
       "      <td>9.8</td>\n",
       "      <td>230.0</td>\n",
       "      <td>5.0</td>\n",
       "      <td>7.0</td>\n",
       "    </tr>\n",
       "    <tr>\n",
       "      <th>...</th>\n",
       "      <td>...</td>\n",
       "      <td>...</td>\n",
       "      <td>...</td>\n",
       "      <td>...</td>\n",
       "      <td>...</td>\n",
       "      <td>...</td>\n",
       "      <td>...</td>\n",
       "      <td>...</td>\n",
       "    </tr>\n",
       "    <tr>\n",
       "      <th>940</th>\n",
       "      <td>2.0</td>\n",
       "      <td>4</td>\n",
       "      <td>AS8</td>\n",
       "      <td>Z</td>\n",
       "      <td>9.4</td>\n",
       "      <td>219.0</td>\n",
       "      <td>5.0</td>\n",
       "      <td>5.0</td>\n",
       "    </tr>\n",
       "    <tr>\n",
       "      <th>941</th>\n",
       "      <td>2.0</td>\n",
       "      <td>4</td>\n",
       "      <td>AS8</td>\n",
       "      <td>Z</td>\n",
       "      <td>9.4</td>\n",
       "      <td>219.0</td>\n",
       "      <td>5.0</td>\n",
       "      <td>5.0</td>\n",
       "    </tr>\n",
       "    <tr>\n",
       "      <th>942</th>\n",
       "      <td>2.0</td>\n",
       "      <td>4</td>\n",
       "      <td>AS8</td>\n",
       "      <td>Z</td>\n",
       "      <td>9.9</td>\n",
       "      <td>232.0</td>\n",
       "      <td>5.0</td>\n",
       "      <td>5.0</td>\n",
       "    </tr>\n",
       "    <tr>\n",
       "      <th>943</th>\n",
       "      <td>2.0</td>\n",
       "      <td>4</td>\n",
       "      <td>AS8</td>\n",
       "      <td>Z</td>\n",
       "      <td>10.1</td>\n",
       "      <td>236.0</td>\n",
       "      <td>5.0</td>\n",
       "      <td>5.0</td>\n",
       "    </tr>\n",
       "    <tr>\n",
       "      <th>944</th>\n",
       "      <td>2.0</td>\n",
       "      <td>4</td>\n",
       "      <td>AS8</td>\n",
       "      <td>Z</td>\n",
       "      <td>10.8</td>\n",
       "      <td>252.0</td>\n",
       "      <td>5.0</td>\n",
       "      <td>7.0</td>\n",
       "    </tr>\n",
       "  </tbody>\n",
       "</table>\n",
       "<p>791 rows × 8 columns</p>\n",
       "</div>"
      ],
      "text/plain": [
       "     Engine Size(L)  Cylinders Transmission Fuel Type  \\\n",
       "0               2.4          4          AM8         Z   \n",
       "1               3.5          6         AS10         Z   \n",
       "2               2.0          4         AS10         Z   \n",
       "3               2.0          4         AS10         Z   \n",
       "4               2.0          4         AS10         Z   \n",
       "..              ...        ...          ...       ...   \n",
       "940             2.0          4          AS8         Z   \n",
       "941             2.0          4          AS8         Z   \n",
       "942             2.0          4          AS8         Z   \n",
       "943             2.0          4          AS8         Z   \n",
       "944             2.0          4          AS8         Z   \n",
       "\n",
       "     Fuel Consumption(Comb (L/100 km))  CO2 Emissions(g/km)  CO2 Rating  \\\n",
       "0                                  8.6                200.0         6.0   \n",
       "1                                 11.2                263.0         4.0   \n",
       "2                                  9.9                232.0         5.0   \n",
       "3                                 10.3                242.0         5.0   \n",
       "4                                  9.8                230.0         5.0   \n",
       "..                                 ...                  ...         ...   \n",
       "940                                9.4                219.0         5.0   \n",
       "941                                9.4                219.0         5.0   \n",
       "942                                9.9                232.0         5.0   \n",
       "943                               10.1                236.0         5.0   \n",
       "944                               10.8                252.0         5.0   \n",
       "\n",
       "     Smog Rating  \n",
       "0            3.0  \n",
       "1            5.0  \n",
       "2            6.0  \n",
       "3            6.0  \n",
       "4            7.0  \n",
       "..           ...  \n",
       "940          5.0  \n",
       "941          5.0  \n",
       "942          5.0  \n",
       "943          5.0  \n",
       "944          7.0  \n",
       "\n",
       "[791 rows x 8 columns]"
      ]
     },
     "execution_count": 90,
     "metadata": {},
     "output_type": "execute_result"
    }
   ],
   "source": [
    "df2"
   ]
  },
  {
   "cell_type": "code",
   "execution_count": 91,
   "id": "df6fb2bf",
   "metadata": {},
   "outputs": [],
   "source": [
    "from sklearn.preprocessing import LabelEncoder\n",
    "le=LabelEncoder()"
   ]
  },
  {
   "cell_type": "code",
   "execution_count": 92,
   "id": "9805691f",
   "metadata": {},
   "outputs": [],
   "source": [
    "col=['Transmission','Fuel Type']"
   ]
  },
  {
   "cell_type": "code",
   "execution_count": 93,
   "id": "bd74378f",
   "metadata": {},
   "outputs": [],
   "source": [
    "for c in col:\n",
    "  df2[c]=le.fit_transform(df2[c])"
   ]
  },
  {
   "cell_type": "code",
   "execution_count": 94,
   "id": "d25358a9",
   "metadata": {},
   "outputs": [
    {
     "data": {
      "text/html": [
       "<div>\n",
       "<style scoped>\n",
       "    .dataframe tbody tr th:only-of-type {\n",
       "        vertical-align: middle;\n",
       "    }\n",
       "\n",
       "    .dataframe tbody tr th {\n",
       "        vertical-align: top;\n",
       "    }\n",
       "\n",
       "    .dataframe thead th {\n",
       "        text-align: right;\n",
       "    }\n",
       "</style>\n",
       "<table border=\"1\" class=\"dataframe\">\n",
       "  <thead>\n",
       "    <tr style=\"text-align: right;\">\n",
       "      <th></th>\n",
       "      <th>Engine Size(L)</th>\n",
       "      <th>Cylinders</th>\n",
       "      <th>Transmission</th>\n",
       "      <th>Fuel Type</th>\n",
       "      <th>Fuel Consumption(Comb (L/100 km))</th>\n",
       "      <th>CO2 Emissions(g/km)</th>\n",
       "      <th>CO2 Rating</th>\n",
       "      <th>Smog Rating</th>\n",
       "    </tr>\n",
       "  </thead>\n",
       "  <tbody>\n",
       "    <tr>\n",
       "      <th>0</th>\n",
       "      <td>2.4</td>\n",
       "      <td>4</td>\n",
       "      <td>6</td>\n",
       "      <td>3</td>\n",
       "      <td>8.6</td>\n",
       "      <td>200.0</td>\n",
       "      <td>6.0</td>\n",
       "      <td>3.0</td>\n",
       "    </tr>\n",
       "    <tr>\n",
       "      <th>1</th>\n",
       "      <td>3.5</td>\n",
       "      <td>6</td>\n",
       "      <td>7</td>\n",
       "      <td>3</td>\n",
       "      <td>11.2</td>\n",
       "      <td>263.0</td>\n",
       "      <td>4.0</td>\n",
       "      <td>5.0</td>\n",
       "    </tr>\n",
       "    <tr>\n",
       "      <th>2</th>\n",
       "      <td>2.0</td>\n",
       "      <td>4</td>\n",
       "      <td>7</td>\n",
       "      <td>3</td>\n",
       "      <td>9.9</td>\n",
       "      <td>232.0</td>\n",
       "      <td>5.0</td>\n",
       "      <td>6.0</td>\n",
       "    </tr>\n",
       "    <tr>\n",
       "      <th>3</th>\n",
       "      <td>2.0</td>\n",
       "      <td>4</td>\n",
       "      <td>7</td>\n",
       "      <td>3</td>\n",
       "      <td>10.3</td>\n",
       "      <td>242.0</td>\n",
       "      <td>5.0</td>\n",
       "      <td>6.0</td>\n",
       "    </tr>\n",
       "    <tr>\n",
       "      <th>4</th>\n",
       "      <td>2.0</td>\n",
       "      <td>4</td>\n",
       "      <td>7</td>\n",
       "      <td>3</td>\n",
       "      <td>9.8</td>\n",
       "      <td>230.0</td>\n",
       "      <td>5.0</td>\n",
       "      <td>7.0</td>\n",
       "    </tr>\n",
       "    <tr>\n",
       "      <th>...</th>\n",
       "      <td>...</td>\n",
       "      <td>...</td>\n",
       "      <td>...</td>\n",
       "      <td>...</td>\n",
       "      <td>...</td>\n",
       "      <td>...</td>\n",
       "      <td>...</td>\n",
       "      <td>...</td>\n",
       "    </tr>\n",
       "    <tr>\n",
       "      <th>940</th>\n",
       "      <td>2.0</td>\n",
       "      <td>4</td>\n",
       "      <td>11</td>\n",
       "      <td>3</td>\n",
       "      <td>9.4</td>\n",
       "      <td>219.0</td>\n",
       "      <td>5.0</td>\n",
       "      <td>5.0</td>\n",
       "    </tr>\n",
       "    <tr>\n",
       "      <th>941</th>\n",
       "      <td>2.0</td>\n",
       "      <td>4</td>\n",
       "      <td>11</td>\n",
       "      <td>3</td>\n",
       "      <td>9.4</td>\n",
       "      <td>219.0</td>\n",
       "      <td>5.0</td>\n",
       "      <td>5.0</td>\n",
       "    </tr>\n",
       "    <tr>\n",
       "      <th>942</th>\n",
       "      <td>2.0</td>\n",
       "      <td>4</td>\n",
       "      <td>11</td>\n",
       "      <td>3</td>\n",
       "      <td>9.9</td>\n",
       "      <td>232.0</td>\n",
       "      <td>5.0</td>\n",
       "      <td>5.0</td>\n",
       "    </tr>\n",
       "    <tr>\n",
       "      <th>943</th>\n",
       "      <td>2.0</td>\n",
       "      <td>4</td>\n",
       "      <td>11</td>\n",
       "      <td>3</td>\n",
       "      <td>10.1</td>\n",
       "      <td>236.0</td>\n",
       "      <td>5.0</td>\n",
       "      <td>5.0</td>\n",
       "    </tr>\n",
       "    <tr>\n",
       "      <th>944</th>\n",
       "      <td>2.0</td>\n",
       "      <td>4</td>\n",
       "      <td>11</td>\n",
       "      <td>3</td>\n",
       "      <td>10.8</td>\n",
       "      <td>252.0</td>\n",
       "      <td>5.0</td>\n",
       "      <td>7.0</td>\n",
       "    </tr>\n",
       "  </tbody>\n",
       "</table>\n",
       "<p>791 rows × 8 columns</p>\n",
       "</div>"
      ],
      "text/plain": [
       "     Engine Size(L)  Cylinders  Transmission  Fuel Type  \\\n",
       "0               2.4          4             6          3   \n",
       "1               3.5          6             7          3   \n",
       "2               2.0          4             7          3   \n",
       "3               2.0          4             7          3   \n",
       "4               2.0          4             7          3   \n",
       "..              ...        ...           ...        ...   \n",
       "940             2.0          4            11          3   \n",
       "941             2.0          4            11          3   \n",
       "942             2.0          4            11          3   \n",
       "943             2.0          4            11          3   \n",
       "944             2.0          4            11          3   \n",
       "\n",
       "     Fuel Consumption(Comb (L/100 km))  CO2 Emissions(g/km)  CO2 Rating  \\\n",
       "0                                  8.6                200.0         6.0   \n",
       "1                                 11.2                263.0         4.0   \n",
       "2                                  9.9                232.0         5.0   \n",
       "3                                 10.3                242.0         5.0   \n",
       "4                                  9.8                230.0         5.0   \n",
       "..                                 ...                  ...         ...   \n",
       "940                                9.4                219.0         5.0   \n",
       "941                                9.4                219.0         5.0   \n",
       "942                                9.9                232.0         5.0   \n",
       "943                               10.1                236.0         5.0   \n",
       "944                               10.8                252.0         5.0   \n",
       "\n",
       "     Smog Rating  \n",
       "0            3.0  \n",
       "1            5.0  \n",
       "2            6.0  \n",
       "3            6.0  \n",
       "4            7.0  \n",
       "..           ...  \n",
       "940          5.0  \n",
       "941          5.0  \n",
       "942          5.0  \n",
       "943          5.0  \n",
       "944          7.0  \n",
       "\n",
       "[791 rows x 8 columns]"
      ]
     },
     "execution_count": 94,
     "metadata": {},
     "output_type": "execute_result"
    }
   ],
   "source": [
    "df2"
   ]
  },
  {
   "cell_type": "code",
   "execution_count": null,
   "id": "d388ceed",
   "metadata": {},
   "outputs": [],
   "source": []
  },
  {
   "cell_type": "code",
   "execution_count": 95,
   "id": "74a736f4",
   "metadata": {},
   "outputs": [],
   "source": [
    "from sklearn.preprocessing import LabelEncoder, StandardScaler\n",
    "from sklearn.linear_model import LogisticRegression\n",
    "from sklearn.metrics import accuracy_score\n",
    "from sklearn import tree"
   ]
  },
  {
   "cell_type": "code",
   "execution_count": 96,
   "id": "e80be42f",
   "metadata": {},
   "outputs": [],
   "source": [
    "from sklearn.model_selection import train_test_split"
   ]
  },
  {
   "cell_type": "code",
   "execution_count": 97,
   "id": "1fa42905",
   "metadata": {},
   "outputs": [
    {
     "data": {
      "text/html": [
       "<div>\n",
       "<style scoped>\n",
       "    .dataframe tbody tr th:only-of-type {\n",
       "        vertical-align: middle;\n",
       "    }\n",
       "\n",
       "    .dataframe tbody tr th {\n",
       "        vertical-align: top;\n",
       "    }\n",
       "\n",
       "    .dataframe thead th {\n",
       "        text-align: right;\n",
       "    }\n",
       "</style>\n",
       "<table border=\"1\" class=\"dataframe\">\n",
       "  <thead>\n",
       "    <tr style=\"text-align: right;\">\n",
       "      <th></th>\n",
       "      <th>Engine Size(L)</th>\n",
       "      <th>Cylinders</th>\n",
       "      <th>Transmission</th>\n",
       "      <th>Fuel Type</th>\n",
       "      <th>Fuel Consumption(Comb (L/100 km))</th>\n",
       "      <th>CO2 Emissions(g/km)</th>\n",
       "      <th>CO2 Rating</th>\n",
       "      <th>Smog Rating</th>\n",
       "    </tr>\n",
       "  </thead>\n",
       "  <tbody>\n",
       "    <tr>\n",
       "      <th>0</th>\n",
       "      <td>2.4</td>\n",
       "      <td>4</td>\n",
       "      <td>6</td>\n",
       "      <td>3</td>\n",
       "      <td>8.6</td>\n",
       "      <td>200.0</td>\n",
       "      <td>6.0</td>\n",
       "      <td>3.0</td>\n",
       "    </tr>\n",
       "    <tr>\n",
       "      <th>1</th>\n",
       "      <td>3.5</td>\n",
       "      <td>6</td>\n",
       "      <td>7</td>\n",
       "      <td>3</td>\n",
       "      <td>11.2</td>\n",
       "      <td>263.0</td>\n",
       "      <td>4.0</td>\n",
       "      <td>5.0</td>\n",
       "    </tr>\n",
       "  </tbody>\n",
       "</table>\n",
       "</div>"
      ],
      "text/plain": [
       "   Engine Size(L)  Cylinders  Transmission  Fuel Type  \\\n",
       "0             2.4          4             6          3   \n",
       "1             3.5          6             7          3   \n",
       "\n",
       "   Fuel Consumption(Comb (L/100 km))  CO2 Emissions(g/km)  CO2 Rating  \\\n",
       "0                                8.6                200.0         6.0   \n",
       "1                               11.2                263.0         4.0   \n",
       "\n",
       "   Smog Rating  \n",
       "0          3.0  \n",
       "1          5.0  "
      ]
     },
     "execution_count": 97,
     "metadata": {},
     "output_type": "execute_result"
    }
   ],
   "source": [
    "df2.head(2)"
   ]
  },
  {
   "cell_type": "code",
   "execution_count": 98,
   "id": "57d90c46",
   "metadata": {},
   "outputs": [],
   "source": [
    "x=df2.drop(columns='Fuel Consumption(Comb (L/100 km))')\n",
    "y=df2['Fuel Consumption(Comb (L/100 km))']"
   ]
  },
  {
   "cell_type": "code",
   "execution_count": 99,
   "id": "51fbb551",
   "metadata": {},
   "outputs": [
    {
     "data": {
      "text/html": [
       "<div>\n",
       "<style scoped>\n",
       "    .dataframe tbody tr th:only-of-type {\n",
       "        vertical-align: middle;\n",
       "    }\n",
       "\n",
       "    .dataframe tbody tr th {\n",
       "        vertical-align: top;\n",
       "    }\n",
       "\n",
       "    .dataframe thead th {\n",
       "        text-align: right;\n",
       "    }\n",
       "</style>\n",
       "<table border=\"1\" class=\"dataframe\">\n",
       "  <thead>\n",
       "    <tr style=\"text-align: right;\">\n",
       "      <th></th>\n",
       "      <th>Engine Size(L)</th>\n",
       "      <th>Cylinders</th>\n",
       "      <th>Transmission</th>\n",
       "      <th>Fuel Type</th>\n",
       "      <th>CO2 Emissions(g/km)</th>\n",
       "      <th>CO2 Rating</th>\n",
       "      <th>Smog Rating</th>\n",
       "    </tr>\n",
       "  </thead>\n",
       "  <tbody>\n",
       "    <tr>\n",
       "      <th>0</th>\n",
       "      <td>2.4</td>\n",
       "      <td>4</td>\n",
       "      <td>6</td>\n",
       "      <td>3</td>\n",
       "      <td>200.0</td>\n",
       "      <td>6.0</td>\n",
       "      <td>3.0</td>\n",
       "    </tr>\n",
       "    <tr>\n",
       "      <th>1</th>\n",
       "      <td>3.5</td>\n",
       "      <td>6</td>\n",
       "      <td>7</td>\n",
       "      <td>3</td>\n",
       "      <td>263.0</td>\n",
       "      <td>4.0</td>\n",
       "      <td>5.0</td>\n",
       "    </tr>\n",
       "  </tbody>\n",
       "</table>\n",
       "</div>"
      ],
      "text/plain": [
       "   Engine Size(L)  Cylinders  Transmission  Fuel Type  CO2 Emissions(g/km)  \\\n",
       "0             2.4          4             6          3                200.0   \n",
       "1             3.5          6             7          3                263.0   \n",
       "\n",
       "   CO2 Rating  Smog Rating  \n",
       "0         6.0          3.0  \n",
       "1         4.0          5.0  "
      ]
     },
     "execution_count": 99,
     "metadata": {},
     "output_type": "execute_result"
    }
   ],
   "source": [
    "x.head(2)"
   ]
  },
  {
   "cell_type": "code",
   "execution_count": 100,
   "id": "9d4f673f",
   "metadata": {},
   "outputs": [
    {
     "data": {
      "text/plain": [
       "0     8.6\n",
       "1    11.2\n",
       "Name: Fuel Consumption(Comb (L/100 km)), dtype: float64"
      ]
     },
     "execution_count": 100,
     "metadata": {},
     "output_type": "execute_result"
    }
   ],
   "source": [
    "y.head(2)"
   ]
  },
  {
   "cell_type": "code",
   "execution_count": 101,
   "id": "aa39d8e5",
   "metadata": {},
   "outputs": [],
   "source": [
    "X_train, X_test, Y_train, Y_test=train_test_split(x,y,test_size=0.3, random_state=4)"
   ]
  },
  {
   "cell_type": "code",
   "execution_count": 102,
   "id": "870fa2c5",
   "metadata": {},
   "outputs": [],
   "source": [
    "from sklearn.preprocessing import StandardScaler\n",
    "sc=StandardScaler()"
   ]
  },
  {
   "cell_type": "code",
   "execution_count": 103,
   "id": "1a2096f3",
   "metadata": {},
   "outputs": [],
   "source": [
    "X_train=sc.fit_transform(X_train)"
   ]
  },
  {
   "cell_type": "code",
   "execution_count": 104,
   "id": "7363c4e8",
   "metadata": {},
   "outputs": [],
   "source": [
    "X_test=sc.transform(X_test)"
   ]
  },
  {
   "cell_type": "code",
   "execution_count": 105,
   "id": "bd276abf",
   "metadata": {},
   "outputs": [
    {
     "data": {
      "text/plain": [
       "array([[-0.17305697,  0.212201  ,  2.2638244 , ...,  0.71982034,\n",
       "        -0.38360568,  0.06761903],\n",
       "       [-0.98476609, -1.01656502, -0.38168934, ..., -1.13598049,\n",
       "         0.63431151,  0.06761903],\n",
       "       [-0.57891153, -1.01656502, -1.32651567, ..., -0.12176376,\n",
       "         0.63431151,  0.70140422],\n",
       "       ...,\n",
       "       [ 0.3139685 ,  0.212201  , -0.94858514, ..., -0.14334284,\n",
       "         0.63431151,  1.3351894 ],\n",
       "       [ 0.3139685 ,  0.212201  , -0.94858514, ...,  0.43929231,\n",
       "         0.22714463,  0.70140422],\n",
       "       [ 0.3139685 ,  0.212201  , -0.75961987, ...,  0.00771072,\n",
       "        -0.38360568,  0.70140422]])"
      ]
     },
     "execution_count": 105,
     "metadata": {},
     "output_type": "execute_result"
    }
   ],
   "source": [
    "X_train"
   ]
  },
  {
   "cell_type": "code",
   "execution_count": 106,
   "id": "f094ac76",
   "metadata": {},
   "outputs": [],
   "source": [
    "from sklearn.linear_model import LinearRegression\n",
    "reg=LinearRegression()"
   ]
  },
  {
   "cell_type": "code",
   "execution_count": 107,
   "id": "d48cdc13",
   "metadata": {},
   "outputs": [
    {
     "data": {
      "text/plain": [
       "LinearRegression()"
      ]
     },
     "execution_count": 107,
     "metadata": {},
     "output_type": "execute_result"
    }
   ],
   "source": [
    "reg.fit(X_train, Y_train)"
   ]
  },
  {
   "cell_type": "code",
   "execution_count": 108,
   "id": "9732350f",
   "metadata": {},
   "outputs": [
    {
     "data": {
      "text/plain": [
       "11.16148282097649"
      ]
     },
     "execution_count": 108,
     "metadata": {},
     "output_type": "execute_result"
    }
   ],
   "source": [
    "reg.intercept_"
   ]
  },
  {
   "cell_type": "code",
   "execution_count": 109,
   "id": "50f5939d",
   "metadata": {},
   "outputs": [
    {
     "data": {
      "text/plain": [
       "array([ 0.16266581, -0.06823617,  0.0582151 ,  0.18505379,  1.81220557,\n",
       "       -0.09954462,  0.05796609])"
      ]
     },
     "execution_count": 109,
     "metadata": {},
     "output_type": "execute_result"
    }
   ],
   "source": [
    "reg.coef_"
   ]
  },
  {
   "cell_type": "code",
   "execution_count": 110,
   "id": "66744d11",
   "metadata": {},
   "outputs": [],
   "source": [
    "Y_pred=reg.predict(X_test)"
   ]
  },
  {
   "cell_type": "code",
   "execution_count": 111,
   "id": "04953e69",
   "metadata": {},
   "outputs": [
    {
     "data": {
      "text/plain": [
       "array([ 9.63909128,  9.77449413, 13.72377996, 10.64852935,  7.62691383,\n",
       "       10.35281635, 11.79656389, 10.54902991, 10.39474212,  9.21722033,\n",
       "        8.38278236, 11.77066189,  7.98544003, 10.62289332, 12.7339092 ,\n",
       "       11.06240884,  8.3812178 ,  9.72994475,  8.51983551, 11.92467074,\n",
       "       10.43277414,  8.12308063,  9.28596106, 15.16291203, 11.00721553,\n",
       "        9.62675054, 10.90802826, 13.16455585,  8.50824504, 11.61134565,\n",
       "       10.66398851, 11.0544248 ,  9.88679549, 13.82559788, 11.67236866,\n",
       "        8.6500611 ,  9.13754975,  7.96580644, 12.97228297, 11.9873288 ,\n",
       "       12.47587044, 11.3088795 , 12.00961784, 10.62149821, 12.86177501,\n",
       "       12.48838567,  8.44813412, 11.21289353,  7.62400917,  9.98986417,\n",
       "       14.25576089,  7.83847297, 15.44775932, 12.84934966, 11.0309824 ,\n",
       "       10.37913945, 13.23130293, 12.21385473,  9.7552298 ,  8.26647612,\n",
       "        8.25307629, 10.47274704, 16.05938381, 14.55736935, 10.71440739,\n",
       "       11.61395537,  9.459327  , 11.71653578,  9.84726193, 13.7533866 ,\n",
       "       14.50849894,  8.94510172, 10.68630984,  7.80701585, 12.78819629,\n",
       "       11.50906354,  9.29044433, 11.4996155 ,  9.54243526, 13.79957446,\n",
       "       13.79725605,  9.23107612, 12.91492877, 11.11549668,  9.55233744,\n",
       "       13.73059208, 11.0544248 , 13.31722342, 12.20307773, 12.0982445 ,\n",
       "        9.91638807,  7.82412031, 10.86386115, 11.71384207, 14.50849894,\n",
       "       12.00961784, 10.27460489, 15.19253853, 12.84860986, 11.44696408,\n",
       "       11.31527681, 12.15930511,  7.596586  , 11.50261882,  8.94529735,\n",
       "       14.88145254, 11.63442359,  9.01043896,  9.16128016, 11.99380106,\n",
       "       15.21786032,  8.19066385, 10.42873315, 10.60942362, 13.20218198,\n",
       "       14.02112652, 11.51240569, 13.77878312,  9.02512937, 14.91879843,\n",
       "        8.93238895, 13.35022531,  8.98910425, 11.46921979,  8.10274234,\n",
       "       12.60777961,  9.98958371, 12.29393772, 13.18918107, 10.58729346,\n",
       "       12.94374216, 15.23164426, 13.64477766, 10.88162115, 11.19370814,\n",
       "       14.60771244, 11.96844337, 15.21786032,  8.18586547,  9.49531038,\n",
       "       11.7238385 ,  8.47418091,  7.9512311 , 12.01094773, 12.42225553,\n",
       "        9.33071071, 10.41360047, 12.47587044,  9.58959557, 11.61989462,\n",
       "        9.56443652,  9.88520701,  7.93398184, 11.77066189,  8.6561798 ,\n",
       "        9.44238397,  8.94999852, 10.46159252, 14.27386457,  9.72878409,\n",
       "        9.29397266,  9.72060734, 11.92467074, 12.47215094,  9.83671749,\n",
       "        8.09440786,  9.90750303,  7.84578383, 13.08696134, 11.18691471,\n",
       "       11.69245043, 11.71835243, 10.78532943, 13.82559788, 10.69501986,\n",
       "       10.19831608, 14.60771244, 10.44402687, 10.5018589 , 11.12060129,\n",
       "        8.27987594, 11.73155616,  9.17458627, 10.03457558,  8.48891769,\n",
       "       13.79249232, 11.50776099,  8.20280849, 10.35447574,  9.76374687,\n",
       "       10.3505217 ,  7.95852709,  8.67593555,  7.94868711, 11.61756832,\n",
       "       12.32039492, 13.76327968, 10.27813323, 10.76617733, 13.79619407,\n",
       "       10.43295045, 13.73059208, 10.44402687, 15.20316991, 13.4659373 ,\n",
       "        9.72060734, 11.73527567,  9.7868781 ,  8.3634126 , 12.49046243,\n",
       "       12.74589103,  8.39596945,  9.06079742, 10.35350127,  8.28699046,\n",
       "       12.36258033, 12.89443602, 14.05252322, 10.58911011,  9.28563819,\n",
       "       10.62045994, 12.51738268, 10.95983261, 11.16406996,  8.63245153,\n",
       "        8.98910425, 11.84858974,  9.08625123, 10.69270124, 12.92661137,\n",
       "        8.88873009, 12.15935463, 14.88145254, 11.31729059, 10.12944203,\n",
       "        9.53441611,  9.36774723,  8.97518445])"
      ]
     },
     "execution_count": 111,
     "metadata": {},
     "output_type": "execute_result"
    }
   ],
   "source": [
    "Y_pred"
   ]
  },
  {
   "cell_type": "code",
   "execution_count": 112,
   "id": "924f4c04",
   "metadata": {},
   "outputs": [
    {
     "data": {
      "text/plain": [
       "846     9.5\n",
       "477     9.5\n",
       "817    13.7\n",
       "847    10.5\n",
       "531     7.8\n",
       "       ... \n",
       "57     11.2\n",
       "728     9.9\n",
       "76      9.4\n",
       "673     9.3\n",
       "854     9.0\n",
       "Name: Fuel Consumption(Comb (L/100 km)), Length: 238, dtype: float64"
      ]
     },
     "execution_count": 112,
     "metadata": {},
     "output_type": "execute_result"
    }
   ],
   "source": [
    "Y_test"
   ]
  },
  {
   "cell_type": "code",
   "execution_count": 113,
   "id": "ee3b7cdb",
   "metadata": {},
   "outputs": [
    {
     "data": {
      "text/plain": [
       "0.7265916401001776"
      ]
     },
     "execution_count": 113,
     "metadata": {},
     "output_type": "execute_result"
    }
   ],
   "source": [
    "from sklearn import metrics\n",
    "metrics.mean_squared_error(Y_test,Y_pred)"
   ]
  },
  {
   "cell_type": "code",
   "execution_count": 114,
   "id": "1836b144",
   "metadata": {},
   "outputs": [
    {
     "data": {
      "text/plain": [
       "0.8524034491367205"
      ]
     },
     "execution_count": 114,
     "metadata": {},
     "output_type": "execute_result"
    }
   ],
   "source": [
    "np.sqrt(metrics.mean_squared_error(Y_test,Y_pred))"
   ]
  },
  {
   "cell_type": "code",
   "execution_count": 115,
   "id": "53bfe6c7",
   "metadata": {},
   "outputs": [
    {
     "data": {
      "text/plain": [
       "0.8468021063840614"
      ]
     },
     "execution_count": 115,
     "metadata": {},
     "output_type": "execute_result"
    }
   ],
   "source": [
    "metrics.r2_score(Y_test, Y_pred)"
   ]
  },
  {
   "cell_type": "code",
   "execution_count": null,
   "id": "b3cfb1b7",
   "metadata": {},
   "outputs": [],
   "source": []
  },
  {
   "cell_type": "markdown",
   "id": "d5e7c8d7",
   "metadata": {},
   "source": [
    "# Linear Regression"
   ]
  },
  {
   "cell_type": "code",
   "execution_count": 116,
   "id": "92d5750b",
   "metadata": {},
   "outputs": [
    {
     "name": "stdout",
     "output_type": "stream",
     "text": [
      "Mean Absolute Error(MAE) of Multiple Linear regression: 0.2937281821343879\n",
      "Mean Squared Error(MSE) of Multiple Linear regression: 0.7265916401001776\n",
      "Root Mean Squared Error (RMSE) of Multiple Linear regression: 0.8524034491367205\n",
      "Variance score of Multiple Linear regression: 0.97\n",
      "Explained Variance Score (EVS) of Multiple Linear regression: 0.8497507525813518\n",
      "Residual sum of squares of Multiple Linear regression: 0.73\n",
      "R2 of Multiple Linear regression: 0.8468021063840614\n",
      "R2 rounded of Multiple Linear regression: 0.85\n",
      "Adjusted_r2 of Multiple Linear regression:  0.842\n",
      "Accuracy of Multiple Linear regression: 0.8468021063840614\n"
     ]
    }
   ],
   "source": [
    "from sklearn import linear_model\n",
    "mlm = linear_model.LinearRegression()\n",
    "mlm.fit (X_train, Y_train)\n",
    "\n",
    "\n",
    "Yhat_mlm = mlm.predict(X_test)\n",
    "k = X_test.shape[1]\n",
    "n = len(X_test)\n",
    "\n",
    "from sklearn import metrics\n",
    "from sklearn.metrics import mean_squared_error,mean_absolute_error,explained_variance_score, r2_score\n",
    "print('Mean Absolute Error(MAE) of Multiple Linear regression:', metrics.mean_absolute_error(Y_test, Yhat_mlm))\n",
    "print('Mean Squared Error(MSE) of Multiple Linear regression:', metrics.mean_squared_error(Y_test, Yhat_mlm))\n",
    "print('Root Mean Squared Error (RMSE) of Multiple Linear regression:', np.sqrt(metrics.mean_squared_error(Y_test, Yhat_mlm)))\n",
    "# Explained variance score: 1 is perfect prediction\n",
    "print('Variance score of Multiple Linear regression: %.2f' % mlm.score(X_train, Y_train))\n",
    "print('Explained Variance Score (EVS) of Multiple Linear regression:',explained_variance_score(Y_test, Yhat_mlm))\n",
    "#Residual sum of squares (rss)\n",
    "print(\"Residual sum of squares of Multiple Linear regression: %.2f\" % np.mean((Yhat_mlm - Y_test) ** 2))\n",
    "print('R2 of Multiple Linear regression:',metrics.r2_score(Y_test, Yhat_mlm))\n",
    "print('R2 rounded of Multiple Linear regression:',(metrics.r2_score(Y_test, Yhat_mlm)).round(2))\n",
    "r2 = r2_score(Y_test, Yhat_mlm)\n",
    "r2_rounded = r2_score(Y_test, Yhat_mlm).round(2)\n",
    "adjusted_r2 = (1- (1-r2)*(n-1)/(n-k-1)).round(3)\n",
    "print('Adjusted_r2 of Multiple Linear regression: ', (1- (1-r2)*(n-1)/(n-k-1)).round(3))\n",
    "accuracy = mlm.score(X_test, Y_test)\n",
    "print(\"Accuracy of Multiple Linear regression: {}\".format(accuracy))"
   ]
  },
  {
   "cell_type": "code",
   "execution_count": null,
   "id": "baa1c2b1",
   "metadata": {},
   "outputs": [],
   "source": []
  },
  {
   "cell_type": "code",
   "execution_count": null,
   "id": "a398b3fe",
   "metadata": {},
   "outputs": [],
   "source": []
  },
  {
   "cell_type": "code",
   "execution_count": null,
   "id": "60a187fe",
   "metadata": {},
   "outputs": [],
   "source": []
  },
  {
   "cell_type": "code",
   "execution_count": null,
   "id": "1a8b2c88",
   "metadata": {},
   "outputs": [],
   "source": []
  },
  {
   "cell_type": "code",
   "execution_count": null,
   "id": "9b1a32b8",
   "metadata": {},
   "outputs": [],
   "source": []
  },
  {
   "cell_type": "markdown",
   "id": "4ffb8959",
   "metadata": {},
   "source": [
    "# Logistic Regression"
   ]
  },
  {
   "cell_type": "code",
   "execution_count": 118,
   "id": "35a13951",
   "metadata": {},
   "outputs": [
    {
     "name": "stdout",
     "output_type": "stream",
     "text": [
      "Mean Absolute Error(MAE) of Lasso regression: 1.0177287502417556\n",
      "Mean Squared Error(MSE) of Lasso regression: 1.7778804207749321\n",
      "Root Mean Squared Error (RMSE) of Lasso regression: 1.3333718239016947\n",
      "Variance score of Lasso regression: 0.71\n",
      "Explained Variance Score (EVS) of Lasso regression: 0.6253935663808883\n",
      "Residual sum of squares of Lasso regression: 1.78\n",
      "R2 of Lasso regression: 0.6251435874954658\n",
      "R2 rounded of Lasso regression: 0.63\n",
      "Adjusted_r2 of Lasso regression:  0.614\n",
      "Accuracy of Lasso regression: 0.6251435874954658\n"
     ]
    }
   ],
   "source": [
    "from sklearn.linear_model import Lasso\n",
    "lasso = Lasso()\n",
    "lasso.fit (X_train, Y_train)\n",
    "Yhat_lasso = lasso.predict(X_test)\n",
    "k = X_test.shape[1]\n",
    "n = len(X_test)\n",
    "\n",
    "from sklearn import metrics\n",
    "from sklearn.metrics import mean_squared_error,mean_absolute_error,explained_variance_score, r2_score\n",
    "print('Mean Absolute Error(MAE) of Lasso regression:', metrics.mean_absolute_error(Y_test, Yhat_lasso))\n",
    "print('Mean Squared Error(MSE) of Lasso regression:', metrics.mean_squared_error(Y_test, Yhat_lasso))\n",
    "print('Root Mean Squared Error (RMSE) of Lasso regression:', np.sqrt(metrics.mean_squared_error(Y_test, Yhat_lasso)))\n",
    "# Explained variance score: 1 is perfect prediction\n",
    "print('Variance score of Lasso regression: %.2f' % lasso.score(X_train, Y_train))\n",
    "print('Explained Variance Score (EVS) of Lasso regression:',explained_variance_score(Y_test, Yhat_lasso))\n",
    "#Residual sum of squares (rss)\n",
    "print(\"Residual sum of squares of Lasso regression: %.2f\" % np.mean((Yhat_lasso - Y_test) ** 2))\n",
    "print('R2 of Lasso regression:',metrics.r2_score(Y_test, Yhat_lasso))\n",
    "print('R2 rounded of Lasso regression:',(metrics.r2_score(Y_test, Yhat_lasso)).round(2))\n",
    "r2 = r2_score(Y_test, Yhat_lasso)\n",
    "r2_rounded = r2_score(Y_test, Yhat_lasso).round(2)\n",
    "adjusted_r2 = (1- (1-r2)*(n-1)/(n-k-1)).round(3)\n",
    "print('Adjusted_r2 of Lasso regression: ', (1- (1-r2)*(n-1)/(n-k-1)).round(3))\n",
    "accuracy = lasso.score(X_test, Y_test)\n",
    "print(\"Accuracy of Lasso regression: {}\".format(accuracy))"
   ]
  },
  {
   "cell_type": "code",
   "execution_count": null,
   "id": "47df2c14",
   "metadata": {},
   "outputs": [],
   "source": []
  },
  {
   "cell_type": "code",
   "execution_count": null,
   "id": "e13adb4d",
   "metadata": {},
   "outputs": [],
   "source": []
  },
  {
   "cell_type": "code",
   "execution_count": null,
   "id": "ad35cdae",
   "metadata": {},
   "outputs": [],
   "source": []
  },
  {
   "cell_type": "code",
   "execution_count": null,
   "id": "fc48e5dc",
   "metadata": {},
   "outputs": [],
   "source": []
  },
  {
   "cell_type": "code",
   "execution_count": null,
   "id": "bd790d29",
   "metadata": {},
   "outputs": [],
   "source": []
  },
  {
   "cell_type": "code",
   "execution_count": null,
   "id": "96d4a736",
   "metadata": {},
   "outputs": [],
   "source": []
  },
  {
   "cell_type": "markdown",
   "id": "eab1805f",
   "metadata": {},
   "source": [
    "# Decision Tree"
   ]
  },
  {
   "cell_type": "code",
   "execution_count": 119,
   "id": "7b4b22d5",
   "metadata": {},
   "outputs": [
    {
     "name": "stdout",
     "output_type": "stream",
     "text": [
      "Mean Absolute Error(MAE) of Decision Tree regression: 0.17726890756302527\n",
      "Mean Squared Error(MSE) of Decision Tree regression: 0.49095924369747895\n",
      "Root Mean Squared Error (RMSE) of Decision Tree regression: 0.7006848390663801\n",
      "Variance score of Decision Tree regression: 1.00\n",
      "Explained Variance Score (EVS) of Decision Tree regression: 0.8986620270491041\n",
      "Residual sum of squares of Decision Tree regression: 0.49\n",
      "R2 of Decision Tree regression: 0.8964839149878492\n",
      "R2 rounded of Decision Tree regression: 0.9\n",
      "Adjusted_r2 of Decision Tree regression:  0.893\n",
      "Accuracy of Decision Tree regression: 0.8964839149878492\n"
     ]
    }
   ],
   "source": [
    "from sklearn.tree import DecisionTreeRegressor\n",
    "DTR = DecisionTreeRegressor()\n",
    "DTR.fit (X_train, Y_train)\n",
    "Yhat_DTR = DTR.predict(X_test)\n",
    "\n",
    "k = X_test.shape[1]\n",
    "n = len(X_test)\n",
    "\n",
    "from sklearn import metrics\n",
    "from sklearn.metrics import mean_squared_error,mean_absolute_error,explained_variance_score, r2_score\n",
    "print('Mean Absolute Error(MAE) of Decision Tree regression:', metrics.mean_absolute_error(Y_test, Yhat_DTR))\n",
    "print('Mean Squared Error(MSE) of Decision Tree regression:', metrics.mean_squared_error(Y_test, Yhat_DTR))\n",
    "print('Root Mean Squared Error (RMSE) of Decision Tree regression:', np.sqrt(metrics.mean_squared_error(Y_test, Yhat_DTR)))\n",
    "# Explained variance score: 1 is perfect prediction\n",
    "print('Variance score of Decision Tree regression: %.2f' % DTR.score(X_train, Y_train))\n",
    "print('Explained Variance Score (EVS) of Decision Tree regression:',explained_variance_score(Y_test, Yhat_DTR))\n",
    "#Residual sum of squares (rss)\n",
    "print(\"Residual sum of squares of Decision Tree regression: %.2f\" % np.mean((Yhat_DTR - Y_test) ** 2))\n",
    "print('R2 of Decision Tree regression:',metrics.r2_score(Y_test, Yhat_DTR))\n",
    "print('R2 rounded of Decision Tree regression:',(metrics.r2_score(Y_test, Yhat_DTR)).round(2))\n",
    "r2 = r2_score(Y_test, Yhat_DTR)\n",
    "r2_rounded = r2_score(Y_test, Yhat_DTR).round(2)\n",
    "adjusted_r2 = (1- (1-r2)*(n-1)/(n-k-1)).round(3)\n",
    "print('Adjusted_r2 of Decision Tree regression: ', (1- (1-r2)*(n-1)/(n-k-1)).round(3))\n",
    "accuracy = DTR.score(X_test, Y_test)\n",
    "print(\"Accuracy of Decision Tree regression: {}\".format(accuracy))"
   ]
  },
  {
   "cell_type": "markdown",
   "id": "582d8382",
   "metadata": {},
   "source": [
    "# random forest"
   ]
  },
  {
   "cell_type": "code",
   "execution_count": 120,
   "id": "622db21f",
   "metadata": {},
   "outputs": [
    {
     "name": "stdout",
     "output_type": "stream",
     "text": [
      "Mean Absolute Error(MAE) of Random Forest regression: 0.17902438672438697\n",
      "Mean Squared Error(MSE) of Random Forest regression: 0.511618688432752\n",
      "Root Mean Squared Error (RMSE) of Random Forest regression: 0.7152752536141258\n",
      "Variance score of Random Forest regression: 1.00\n",
      "Explained Variance Score (EVS) of Random Forest regression: 0.894504106471209\n",
      "Residual sum of squares of Random Forest regression: 0.51\n",
      "R2 of Random Forest regression: 0.8921279834823858\n",
      "R2 rounded of Random Forest regression: 0.89\n",
      "Adjusted_r2 of Random Forest regression:  0.889\n",
      "Accuracy of Random Forest regression: 0.8921279834823858\n"
     ]
    }
   ],
   "source": [
    "from sklearn.ensemble import RandomForestRegressor\n",
    "RFR = RandomForestRegressor()\n",
    "RFR.fit (X_train, Y_train)\n",
    "Yhat_RFR = RFR.predict(X_test)\n",
    "\n",
    "k = X_test.shape[1]\n",
    "n = len(X_test)\n",
    "\n",
    "from sklearn import metrics\n",
    "from sklearn.metrics import mean_squared_error,mean_absolute_error,explained_variance_score, r2_score\n",
    "print('Mean Absolute Error(MAE) of Random Forest regression:', metrics.mean_absolute_error(Y_test, Yhat_RFR))\n",
    "print('Mean Squared Error(MSE) of Random Forest regression:', metrics.mean_squared_error(Y_test, Yhat_RFR))\n",
    "print('Root Mean Squared Error (RMSE) of Random Forest regression:', np.sqrt(metrics.mean_squared_error(Y_test, Yhat_RFR)))\n",
    "# Explained variance score: 1 is perfect prediction\n",
    "print('Variance score of Random Forest regression: %.2f' % RFR.score(X_train, Y_train))\n",
    "print('Explained Variance Score (EVS) of Random Forest regression:',explained_variance_score(Y_test, Yhat_RFR))\n",
    "#Residual sum of squares (rss)\n",
    "print(\"Residual sum of squares of Random Forest regression: %.2f\" % np.mean((Yhat_RFR - Y_test) ** 2))\n",
    "print('R2 of Random Forest regression:',metrics.r2_score(Y_test, Yhat_RFR))\n",
    "print('R2 rounded of Random Forest regression:',(metrics.r2_score(Y_test, Yhat_RFR)).round(2))\n",
    "r2 = r2_score(Y_test, Yhat_RFR)\n",
    "r2_rounded = r2_score(Y_test, Yhat_RFR).round(2)\n",
    "adjusted_r2 = (1- (1-r2)*(n-1)/(n-k-1)).round(3)\n",
    "print('Adjusted_r2 of Random Forest regression: ', (1- (1-r2)*(n-1)/(n-k-1)).round(3))\n",
    "accuracy = RFR.score(X_test, Y_test)\n",
    "print(\"Accuracy of Random Forest regression: {}\".format(accuracy))"
   ]
  },
  {
   "cell_type": "markdown",
   "id": "39a386eb",
   "metadata": {},
   "source": [
    "# Support Vector Regression Model"
   ]
  },
  {
   "cell_type": "code",
   "execution_count": 121,
   "id": "9fc724c4",
   "metadata": {},
   "outputs": [
    {
     "name": "stdout",
     "output_type": "stream",
     "text": [
      "Mean Absolute Error(MAE) of Support Vector regression: 0.2678547054553979\n",
      "Mean Squared Error(MSE) of Support Vector regression: 0.698224799048236\n",
      "Root Mean Squared Error (RMSE) of Support Vector regression: 0.8355984675956724\n",
      "Variance score of Support Vector regression: 0.98\n",
      "Explained Variance Score (EVS) of Support Vector regression: 0.856561113910232\n",
      "Residual sum of squares of Support Vector regression: 0.70\n",
      "R2 of Support Vector regression: 0.8527831004636195\n",
      "R2 rounded of Support Vector regression: 0.85\n",
      "Adjusted_r2 of Support Vector regression:  0.848\n",
      "Accuracy of Support Vector regression: 0.8527831004636195\n"
     ]
    }
   ],
   "source": [
    "from sklearn.svm import SVR\n",
    "SVR = SVR()\n",
    "SVR.fit (X_train, Y_train)\n",
    "Yhat_SVR = SVR.predict(X_test)\n",
    "\n",
    "k = X_test.shape[1]\n",
    "n = len(X_test)\n",
    "\n",
    "from sklearn import metrics\n",
    "from sklearn.metrics import mean_squared_error,mean_absolute_error,explained_variance_score, r2_score\n",
    "print('Mean Absolute Error(MAE) of Support Vector regression:', metrics.mean_absolute_error(Y_test, Yhat_SVR))\n",
    "print('Mean Squared Error(MSE) of Support Vector regression:', metrics.mean_squared_error(Y_test, Yhat_SVR))\n",
    "print('Root Mean Squared Error (RMSE) of Support Vector regression:', np.sqrt(metrics.mean_squared_error(Y_test, Yhat_SVR)))\n",
    "# Explained variance score: 1 is perfect prediction\n",
    "print('Variance score of Support Vector regression: %.2f' % SVR.score(X_train, Y_train))\n",
    "print('Explained Variance Score (EVS) of Support Vector regression:',explained_variance_score(Y_test, Yhat_SVR))\n",
    "#Residual sum of squares (rss)\n",
    "print(\"Residual sum of squares of Support Vector regression: %.2f\" % np.mean((Yhat_SVR - Y_test) ** 2))\n",
    "print('R2 of Support Vector regression:',metrics.r2_score(Y_test, Yhat_SVR))\n",
    "print('R2 rounded of Support Vector regression:',(metrics.r2_score(Y_test, Yhat_SVR)).round(2))\n",
    "r2 = r2_score(Y_test, Yhat_SVR)\n",
    "r2_rounded = r2_score(Y_test, Yhat_SVR).round(2)\n",
    "adjusted_r2 = (1- (1-r2)*(n-1)/(n-k-1)).round(3)\n",
    "print('Adjusted_r2 of Support Vector regression: ', (1- (1-r2)*(n-1)/(n-k-1)).round(3))\n",
    "accuracy = SVR.score(X_test, Y_test)\n",
    "print(\"Accuracy of Support Vector regression: {}\".format(accuracy))"
   ]
  },
  {
   "cell_type": "code",
   "execution_count": null,
   "id": "5f4b8641",
   "metadata": {},
   "outputs": [],
   "source": []
  },
  {
   "cell_type": "code",
   "execution_count": null,
   "id": "4c43623f",
   "metadata": {},
   "outputs": [],
   "source": []
  },
  {
   "cell_type": "code",
   "execution_count": null,
   "id": "c99d073f",
   "metadata": {},
   "outputs": [],
   "source": []
  }
 ],
 "metadata": {
  "kernelspec": {
   "display_name": "Python 3 (ipykernel)",
   "language": "python",
   "name": "python3"
  },
  "language_info": {
   "codemirror_mode": {
    "name": "ipython",
    "version": 3
   },
   "file_extension": ".py",
   "mimetype": "text/x-python",
   "name": "python",
   "nbconvert_exporter": "python",
   "pygments_lexer": "ipython3",
   "version": "3.9.12"
  }
 },
 "nbformat": 4,
 "nbformat_minor": 5
}
